{
 "cells": [
  {
   "cell_type": "markdown",
   "id": "3149f0ec-a911-4a73-b2da-9bee289fb7fa",
   "metadata": {
    "tags": []
   },
   "source": [
    "## 00_Start_EDA\n",
    "### EDA 시작하기\n",
    "\n",
    ">### 01. 라이브러리 가져오기 Import Libraries\n",
    ">### 02. 데이터 불러오기 Load Data\n",
    ">### 03. 데이터 탐색하기 Explore Data\n",
    ">### 04. 기술통계량 계산하기 Descriptive Statistics\n",
    ">### 05. 단변량 분석 Univariate Analysis\n",
    ">### 06. 이변량 분석 Bivariate Analysis\n",
    ">### 07. 다변량 분석 Multivariate Analysis\n",
    ">### 08. 이상치 탐지 Outlier Detection\n",
    ">### 09. 데이터 변환 Data Transformation\n",
    ">### 10. 결론 Conclusion\n",
    "\n",
    "---"
   ]
  },
  {
   "cell_type": "markdown",
   "id": "275e82a3-b23b-47c1-9497-2c0eaed3931e",
   "metadata": {
    "tags": []
   },
   "source": [
    "### 01. 라이브러리 가져오기 및 기타 설정 Import Libraries and other configurations\n",
    "- pandas(구조화된 데이터(엑셀)를 빠르고 쉽게 다룰수 있도록 설계되어 고급데이터 구조와 관련된 함수를 제공)\n",
    "- numpy (산술계산과 통계관련작업을 위한 가장 기본이 되는 필수 라이브러리)\n",
    "- matplotlib(데이터 시각화 라이브러리,박스플롯,산점도,히스토그램 등)\n",
    "- seaborn(맷플로립을 토대로 돌아가는 고급 데이터 시각화 라이브러리, 상관관계,선형관계,범주형 데이터를 표현하는 등)\n",
    "- 위에서 필요한 라이브러리를 가져오고 다양한 설정을 합니다."
   ]
  },
  {
   "cell_type": "code",
   "execution_count": 1,
   "id": "67933522-1850-419b-8f09-1eb5ef78668f",
   "metadata": {},
   "outputs": [],
   "source": [
    "import pandas as pd\n",
    "import numpy as np\n",
    "import matplotlib.pyplot as plt\n",
    "import seaborn as sns\n",
    "\n",
    "import warnings\n",
    "warnings.filterwarnings('ignore')"
   ]
  },
  {
   "cell_type": "code",
   "execution_count": 2,
   "id": "b487a534",
   "metadata": {},
   "outputs": [],
   "source": [
    "#한글깨짐 현상 해결(폰트 설정하기)\n",
    "from matplotlib import font_manager, rc\n",
    "\n",
    "font_name = font_manager.FontProperties(fname='C:/Users/my/Desktop/data/nanum-all/나눔 글꼴/나눔고딕/NanumFontSetup_TTF_GOTHIC/NanumGothic.ttf').get_name()\n",
    "rc('font', family=font_name)"
   ]
  },
  {
   "cell_type": "markdown",
   "id": "15d66a1e-7269-4ea2-b38a-682d48d359bc",
   "metadata": {},
   "source": [
    "### 02. 데이터 불러오기 Load Data\n",
    "- csv / excel / DB / json / html / package data 데이터 타입에 맞는 방법으로 데이터셋을 불러옵니다.\n",
    "- 기본적으로 pandas의 DataFrame 형태의 데이터셋으로 분석을 진행합니다.\n",
    "- 인코딩 관련 에러 대응하기(endcoding='cp949','utf-8','utf8-sig')"
   ]
  },
  {
   "cell_type": "markdown",
   "id": "165f5d9d",
   "metadata": {},
   "source": [
    "#### 1. CSV, Excel 파일을 불러오기 위해서는 pandas 라이브러리를 사용, pandas는 read_csv(),excel() 함수를 제공합니다.\n",
    "df = pd.read_csv('파일명.csv')\n",
    "Excel 파일 불러오기\n",
    "df = pd.read_excel('파일명.xlsx', sheet_name='시트명')\n",
    "\n",
    "\n",
    "#### 2. DB 데이터를 불러오기 위해서는 sqlite3 모듈을 사용하여 SQLite DB를 다룹니다. pymysql이나 psycopg2 등을 사용하여 다른 DB도 다룰 수 있습니다.\n",
    "\n",
    "import sqlite3\n",
    "conn = sqlite3.connect('db명.db') #DB 연결\n",
    "\n",
    "cur = conn.cursor()\n",
    "cur.execute('SELECT * FROM 테이블명') #쿼리 실행\n",
    "\n",
    "rows = cur.fetchall() #결과가져오기\n",
    "\n",
    "#### 3. JSON 파일을 불러오기 위해서는 json 모듈을 사용합니다.\n",
    "import json\n",
    "\n",
    "with open('파일명.json', 'r') as f:\n",
    "\n",
    "    data = json.load(f)\n",
    "\n",
    "#### 4. HTML 파일을 불러오기 위해서는 beautifulsoup4 라이브러리를 사용합니다.\n",
    "from bs4 import BeautifulSoup\n",
    "\n",
    "with open('파일명.html', 'r') as f:\n",
    "\n",
    "    soup = BeautifulSoup(f, 'html.parser')\n",
    "    \n",
    "####  5. 패키지에 포함된 데이터를 불러오기 위해서는 pkg_resources 모듈을 사용합니다.\n",
    "import pkg_resources\n",
    "\n",
    "data = pkg_resources.resource_string('패키지명', '파일명') #패키지 데이터 불러오기"
   ]
  },
  {
   "cell_type": "code",
   "execution_count": 3,
   "id": "7462459a",
   "metadata": {},
   "outputs": [],
   "source": [
    "health=pd.read_csv('C:/Users/my/Desktop/data/nhis_nhcp_info_20211229.csv',encoding='cp949')\n",
    "#UnicodeDecodeError\"'utf-8' 코덱이 위치 0의 바이트 0xb1을 디코딩할 수 없습니다: 잘못된 시작 바이트\""
   ]
  },
  {
   "cell_type": "markdown",
   "id": "66a00504-cb3a-47ce-a119-a2d7cfd8dbd7",
   "metadata": {},
   "source": [
    "### 03. 데이터 탐색하기 Explore Data\n",
    "- 데이터셋의 형태, 열, 데이터 타입, 결측치 등을 살펴봄으로써 데이터에 대한 개요를 파악합니다."
   ]
  },
  {
   "cell_type": "code",
   "execution_count": 4,
   "id": "b8f05d33-f745-449d-9ad9-8fa7068f67ce",
   "metadata": {},
   "outputs": [
    {
     "data": {
      "text/html": [
       "<div>\n",
       "<style scoped>\n",
       "    .dataframe tbody tr th:only-of-type {\n",
       "        vertical-align: middle;\n",
       "    }\n",
       "\n",
       "    .dataframe tbody tr th {\n",
       "        vertical-align: top;\n",
       "    }\n",
       "\n",
       "    .dataframe thead th {\n",
       "        text-align: right;\n",
       "    }\n",
       "</style>\n",
       "<table border=\"1\" class=\"dataframe\">\n",
       "  <thead>\n",
       "    <tr style=\"text-align: right;\">\n",
       "      <th></th>\n",
       "      <th>기준년도</th>\n",
       "      <th>가입자 일련번호</th>\n",
       "      <th>시도코드</th>\n",
       "      <th>성별코드</th>\n",
       "      <th>연령대 코드(5세단위)</th>\n",
       "      <th>신장(5Cm단위)</th>\n",
       "      <th>체중(5Kg 단위)</th>\n",
       "      <th>허리둘레</th>\n",
       "      <th>시력(좌)</th>\n",
       "      <th>시력(우)</th>\n",
       "      <th>...</th>\n",
       "      <th>혈청크레아티닌</th>\n",
       "      <th>(혈청지오티)AST</th>\n",
       "      <th>(혈청지오티)ALT</th>\n",
       "      <th>감마 지티피</th>\n",
       "      <th>흡연상태</th>\n",
       "      <th>음주여부</th>\n",
       "      <th>구강검진 수검여부</th>\n",
       "      <th>치아우식증유무</th>\n",
       "      <th>치석</th>\n",
       "      <th>데이터 공개일자</th>\n",
       "    </tr>\n",
       "  </thead>\n",
       "  <tbody>\n",
       "    <tr>\n",
       "      <th>0</th>\n",
       "      <td>2020</td>\n",
       "      <td>1</td>\n",
       "      <td>36</td>\n",
       "      <td>1</td>\n",
       "      <td>9</td>\n",
       "      <td>165</td>\n",
       "      <td>60</td>\n",
       "      <td>72.1</td>\n",
       "      <td>1.2</td>\n",
       "      <td>1.5</td>\n",
       "      <td>...</td>\n",
       "      <td>1.1</td>\n",
       "      <td>21.0</td>\n",
       "      <td>27.0</td>\n",
       "      <td>21.0</td>\n",
       "      <td>1.0</td>\n",
       "      <td>0.0</td>\n",
       "      <td>0</td>\n",
       "      <td>NaN</td>\n",
       "      <td>NaN</td>\n",
       "      <td>2021-12-29</td>\n",
       "    </tr>\n",
       "    <tr>\n",
       "      <th>1</th>\n",
       "      <td>2020</td>\n",
       "      <td>2</td>\n",
       "      <td>27</td>\n",
       "      <td>2</td>\n",
       "      <td>13</td>\n",
       "      <td>150</td>\n",
       "      <td>65</td>\n",
       "      <td>81.0</td>\n",
       "      <td>0.8</td>\n",
       "      <td>0.8</td>\n",
       "      <td>...</td>\n",
       "      <td>0.5</td>\n",
       "      <td>18.0</td>\n",
       "      <td>15.0</td>\n",
       "      <td>15.0</td>\n",
       "      <td>1.0</td>\n",
       "      <td>0.0</td>\n",
       "      <td>0</td>\n",
       "      <td>NaN</td>\n",
       "      <td>NaN</td>\n",
       "      <td>2021-12-29</td>\n",
       "    </tr>\n",
       "    <tr>\n",
       "      <th>2</th>\n",
       "      <td>2020</td>\n",
       "      <td>3</td>\n",
       "      <td>11</td>\n",
       "      <td>2</td>\n",
       "      <td>12</td>\n",
       "      <td>155</td>\n",
       "      <td>55</td>\n",
       "      <td>70.0</td>\n",
       "      <td>0.6</td>\n",
       "      <td>0.7</td>\n",
       "      <td>...</td>\n",
       "      <td>0.7</td>\n",
       "      <td>27.0</td>\n",
       "      <td>25.0</td>\n",
       "      <td>7.0</td>\n",
       "      <td>1.0</td>\n",
       "      <td>0.0</td>\n",
       "      <td>0</td>\n",
       "      <td>NaN</td>\n",
       "      <td>NaN</td>\n",
       "      <td>2021-12-29</td>\n",
       "    </tr>\n",
       "    <tr>\n",
       "      <th>3</th>\n",
       "      <td>2020</td>\n",
       "      <td>4</td>\n",
       "      <td>31</td>\n",
       "      <td>1</td>\n",
       "      <td>13</td>\n",
       "      <td>160</td>\n",
       "      <td>70</td>\n",
       "      <td>90.8</td>\n",
       "      <td>1.0</td>\n",
       "      <td>1.0</td>\n",
       "      <td>...</td>\n",
       "      <td>1.2</td>\n",
       "      <td>65.0</td>\n",
       "      <td>97.0</td>\n",
       "      <td>72.0</td>\n",
       "      <td>1.0</td>\n",
       "      <td>0.0</td>\n",
       "      <td>1</td>\n",
       "      <td>0.0</td>\n",
       "      <td>0.0</td>\n",
       "      <td>2021-12-29</td>\n",
       "    </tr>\n",
       "    <tr>\n",
       "      <th>4</th>\n",
       "      <td>2020</td>\n",
       "      <td>5</td>\n",
       "      <td>41</td>\n",
       "      <td>2</td>\n",
       "      <td>12</td>\n",
       "      <td>155</td>\n",
       "      <td>50</td>\n",
       "      <td>75.2</td>\n",
       "      <td>1.5</td>\n",
       "      <td>1.2</td>\n",
       "      <td>...</td>\n",
       "      <td>0.7</td>\n",
       "      <td>18.0</td>\n",
       "      <td>17.0</td>\n",
       "      <td>14.0</td>\n",
       "      <td>1.0</td>\n",
       "      <td>0.0</td>\n",
       "      <td>0</td>\n",
       "      <td>NaN</td>\n",
       "      <td>NaN</td>\n",
       "      <td>2021-12-29</td>\n",
       "    </tr>\n",
       "  </tbody>\n",
       "</table>\n",
       "<p>5 rows × 31 columns</p>\n",
       "</div>"
      ],
      "text/plain": [
       "   기준년도  가입자 일련번호  시도코드  성별코드  연령대 코드(5세단위)  신장(5Cm단위)  체중(5Kg 단위)  허리둘레  \\\n",
       "0  2020         1    36     1             9        165          60  72.1   \n",
       "1  2020         2    27     2            13        150          65  81.0   \n",
       "2  2020         3    11     2            12        155          55  70.0   \n",
       "3  2020         4    31     1            13        160          70  90.8   \n",
       "4  2020         5    41     2            12        155          50  75.2   \n",
       "\n",
       "   시력(좌)  시력(우)  ...  혈청크레아티닌  (혈청지오티)AST  (혈청지오티)ALT  감마 지티피  흡연상태  음주여부  \\\n",
       "0    1.2    1.5  ...      1.1        21.0        27.0    21.0   1.0   0.0   \n",
       "1    0.8    0.8  ...      0.5        18.0        15.0    15.0   1.0   0.0   \n",
       "2    0.6    0.7  ...      0.7        27.0        25.0     7.0   1.0   0.0   \n",
       "3    1.0    1.0  ...      1.2        65.0        97.0    72.0   1.0   0.0   \n",
       "4    1.5    1.2  ...      0.7        18.0        17.0    14.0   1.0   0.0   \n",
       "\n",
       "   구강검진 수검여부  치아우식증유무   치석    데이터 공개일자  \n",
       "0          0      NaN  NaN  2021-12-29  \n",
       "1          0      NaN  NaN  2021-12-29  \n",
       "2          0      NaN  NaN  2021-12-29  \n",
       "3          1      0.0  0.0  2021-12-29  \n",
       "4          0      NaN  NaN  2021-12-29  \n",
       "\n",
       "[5 rows x 31 columns]"
      ]
     },
     "execution_count": 4,
     "metadata": {},
     "output_type": "execute_result"
    }
   ],
   "source": [
    "health.head()"
   ]
  },
  {
   "cell_type": "code",
   "execution_count": 5,
   "id": "a84b3244",
   "metadata": {},
   "outputs": [],
   "source": [
    "#변수명 바꾸기\n",
    "health=health.rename(columns={\"기준년도\":'year',\"가입자 일련번호\":'id',\"시도코드\":'sido',\"성별코드\":'sex',\"연령대 코드(5세단위)\":'age_group',\"신장(5Cm단위)\":'height',\"체중(5Kg 단위)\":'weight',\"허리둘레\":'waist',\"시력(좌)\":'sight_l',\"시력(우)\":'sight_r',\"청력(좌)\":'hear_l', \"청력(우)\":'hear_r',\n",
    "                              \"수축기 혈압\":'bp_high' ,\"이완기 혈압\":'bp_lwst' ,\"식전혈당(공복혈당)\":'blds' ,\n",
    "                              \"총 콜레스테롤\":'tot_chole' ,\"트리글리세라이드\":'trigliserida' ,\"HDL 콜레스테롤\":'hdl',\"LDL 콜레스테롤\":'ldl' ,\n",
    "                              \"혈색소\":'hmg',\"요단백\":'orig_prote_cd',\"혈청크레아티닌\":'creatine',\"(혈청지오티)AST\":'sqot_ast',\"(혈청지오티)ALT\":'srpt_alt',\"감마 지티피\":'g_gpt',\"흡연상태\":'smk',\"음주여부\":'drk',\"구강검진 수검여부\":'hichk_oe_inspec_yn',\"치아우식증유무\":'crs_yn',\"치석\":'ttr_yn',\"데이터 공개일자\":'date_std_dt'}) "
   ]
  },
  {
   "cell_type": "code",
   "execution_count": 6,
   "id": "dbeb1bed-a5f6-4c0c-8b91-60e2faa9f9ac",
   "metadata": {
    "scrolled": true
   },
   "outputs": [
    {
     "name": "stdout",
     "output_type": "stream",
     "text": [
      "데이터 모형 \t\n",
      "(1000000, 31)\n",
      "\n",
      "컬럼별 타입,null값 존재여부\n",
      "<class 'pandas.core.frame.DataFrame'>\n",
      "RangeIndex: 1000000 entries, 0 to 999999\n",
      "Data columns (total 31 columns):\n",
      " #   Column              Non-Null Count    Dtype  \n",
      "---  ------              --------------    -----  \n",
      " 0   year                1000000 non-null  int64  \n",
      " 1   id                  1000000 non-null  int64  \n",
      " 2   sido                1000000 non-null  int64  \n",
      " 3   sex                 1000000 non-null  int64  \n",
      " 4   age_group           1000000 non-null  int64  \n",
      " 5   height              1000000 non-null  int64  \n",
      " 6   weight              1000000 non-null  int64  \n",
      " 7   waist               999892 non-null   float64\n",
      " 8   sight_l             999743 non-null   float64\n",
      " 9   sight_r             999748 non-null   float64\n",
      " 10  hear_l              999778 non-null   float64\n",
      " 11  hear_r              999770 non-null   float64\n",
      " 12  bp_high             992468 non-null   float64\n",
      " 13  bp_lwst             992466 non-null   float64\n",
      " 14  blds                992398 non-null   float64\n",
      " 15  tot_chole           402306 non-null   float64\n",
      " 16  trigliserida        402322 non-null   float64\n",
      " 17  hdl                 402315 non-null   float64\n",
      " 18  ldl                 394471 non-null   float64\n",
      " 19  hmg                 992389 non-null   float64\n",
      " 20  orig_prote_cd       987859 non-null   float64\n",
      " 21  creatine            992398 non-null   float64\n",
      " 22  sqot_ast            992399 non-null   float64\n",
      " 23  srpt_alt            992398 non-null   float64\n",
      " 24  g_gpt               992397 non-null   float64\n",
      " 25  smk                 999657 non-null   float64\n",
      " 26  drk                 999804 non-null   float64\n",
      " 27  hichk_oe_inspec_yn  1000000 non-null  int64  \n",
      " 28  crs_yn              331383 non-null   float64\n",
      " 29  ttr_yn              331382 non-null   float64\n",
      " 30  date_std_dt         1000000 non-null  object \n",
      "dtypes: float64(22), int64(8), object(1)\n",
      "memory usage: 236.5+ MB\n",
      "None\n"
     ]
    }
   ],
   "source": [
    "print(\"데이터 모형 \\t\")\n",
    "print(health.shape)\n",
    "\n",
    "print(\"\\n컬럼별 타입,null값 존재여부\")\n",
    "print(health.info())"
   ]
  },
  {
   "cell_type": "markdown",
   "id": "58fc140b",
   "metadata": {},
   "source": [
    "# 데이터 형변환 방법\n",
    "-- (신장변수와 체중변수를 형변환?굳이 필요는 없는것 같아서 그대로 진행)\n",
    "- int() 함수는 문자열이나 실수를 정수형으로 변환\n",
    "- float() 함수는 문자열이나 정수를 실수형으로 변환\n",
    "- str() 함수는 다른 자료형을 문자열로 변환\n",
    "- astype() 메서드 사용: 판다스(Pandas) 라이브러리의 데이터프레임(DataFrame)이나 시리즈(Series) 객체에서는 astype() 메서드를 사용하여 데이터 형변환 가능\n",
    "- to_numeric() 함수 사용: 판다스(Pandas) 라이브러리의 to_numeric() 함수는 문자열로 저장된 숫자를 숫자형으로 변환\n"
   ]
  },
  {
   "cell_type": "code",
   "execution_count": 7,
   "id": "56c9e43f",
   "metadata": {},
   "outputs": [
    {
     "name": "stdout",
     "output_type": "stream",
     "text": [
      "\\성별 변수 타입\n",
      "int64\n",
      "\n",
      "거주 지역 목록\n",
      "[36, 41, 42, 11, 44, 43, 46, 47, 48, 45, 49, 26, 27, 28, 29, 30, 31]\n",
      "\n",
      "수진자 연령대\n",
      "[9, 10, 11, 12, 13, 14, 15, 16, 17, 18]\n"
     ]
    }
   ],
   "source": [
    "print(\"\\성별 변수 타입\")\n",
    "print(health['sex'].dtypes)\n",
    "\n",
    "print(\"\\n거주 지역 목록\")\n",
    "print(list(set(health['sido'])))\n",
    "\n",
    "print(\"\\n수진자 연령대\")\n",
    "print(list(set(health['age_group'])))\n"
   ]
  },
  {
   "cell_type": "code",
   "execution_count": 8,
   "id": "80174fdf",
   "metadata": {},
   "outputs": [
    {
     "data": {
      "text/html": [
       "<div>\n",
       "<style scoped>\n",
       "    .dataframe tbody tr th:only-of-type {\n",
       "        vertical-align: middle;\n",
       "    }\n",
       "\n",
       "    .dataframe tbody tr th {\n",
       "        vertical-align: top;\n",
       "    }\n",
       "\n",
       "    .dataframe thead th {\n",
       "        text-align: right;\n",
       "    }\n",
       "</style>\n",
       "<table border=\"1\" class=\"dataframe\">\n",
       "  <thead>\n",
       "    <tr style=\"text-align: right;\">\n",
       "      <th></th>\n",
       "      <th>skew</th>\n",
       "      <th>kurtosis</th>\n",
       "    </tr>\n",
       "  </thead>\n",
       "  <tbody>\n",
       "    <tr>\n",
       "      <th>height</th>\n",
       "      <td>0.008631</td>\n",
       "      <td>-0.480053</td>\n",
       "    </tr>\n",
       "    <tr>\n",
       "      <th>weight</th>\n",
       "      <td>0.576457</td>\n",
       "      <td>0.539166</td>\n",
       "    </tr>\n",
       "    <tr>\n",
       "      <th>waist</th>\n",
       "      <td>1.298341</td>\n",
       "      <td>97.340630</td>\n",
       "    </tr>\n",
       "    <tr>\n",
       "      <th>sight_l</th>\n",
       "      <td>10.340709</td>\n",
       "      <td>143.031221</td>\n",
       "    </tr>\n",
       "    <tr>\n",
       "      <th>sight_r</th>\n",
       "      <td>10.343656</td>\n",
       "      <td>141.415812</td>\n",
       "    </tr>\n",
       "    <tr>\n",
       "      <th>hear_l</th>\n",
       "      <td>4.799266</td>\n",
       "      <td>23.621670</td>\n",
       "    </tr>\n",
       "    <tr>\n",
       "      <th>hear_r</th>\n",
       "      <td>4.925663</td>\n",
       "      <td>24.925418</td>\n",
       "    </tr>\n",
       "    <tr>\n",
       "      <th>bp_high</th>\n",
       "      <td>0.455880</td>\n",
       "      <td>0.925235</td>\n",
       "    </tr>\n",
       "    <tr>\n",
       "      <th>bp_lwst</th>\n",
       "      <td>0.320706</td>\n",
       "      <td>0.695336</td>\n",
       "    </tr>\n",
       "    <tr>\n",
       "      <th>blds</th>\n",
       "      <td>4.188519</td>\n",
       "      <td>35.493802</td>\n",
       "    </tr>\n",
       "    <tr>\n",
       "      <th>tot_chole</th>\n",
       "      <td>3.152219</td>\n",
       "      <td>125.655360</td>\n",
       "    </tr>\n",
       "    <tr>\n",
       "      <th>trigliserida</th>\n",
       "      <td>6.556726</td>\n",
       "      <td>159.002503</td>\n",
       "    </tr>\n",
       "    <tr>\n",
       "      <th>hdl</th>\n",
       "      <td>8.077089</td>\n",
       "      <td>288.005049</td>\n",
       "    </tr>\n",
       "    <tr>\n",
       "      <th>ldl</th>\n",
       "      <td>4.146156</td>\n",
       "      <td>192.579326</td>\n",
       "    </tr>\n",
       "    <tr>\n",
       "      <th>hmg</th>\n",
       "      <td>-0.327945</td>\n",
       "      <td>0.905872</td>\n",
       "    </tr>\n",
       "    <tr>\n",
       "      <th>orig_prote_cd</th>\n",
       "      <td>4.909775</td>\n",
       "      <td>27.611850</td>\n",
       "    </tr>\n",
       "    <tr>\n",
       "      <th>creatine</th>\n",
       "      <td>41.496930</td>\n",
       "      <td>6514.464950</td>\n",
       "    </tr>\n",
       "    <tr>\n",
       "      <th>sqot_ast</th>\n",
       "      <td>116.767555</td>\n",
       "      <td>30866.160358</td>\n",
       "    </tr>\n",
       "    <tr>\n",
       "      <th>srpt_alt</th>\n",
       "      <td>41.707304</td>\n",
       "      <td>5593.867524</td>\n",
       "    </tr>\n",
       "    <tr>\n",
       "      <th>g_gpt</th>\n",
       "      <td>8.255279</td>\n",
       "      <td>117.248087</td>\n",
       "    </tr>\n",
       "    <tr>\n",
       "      <th>smk</th>\n",
       "      <td>0.954845</td>\n",
       "      <td>-0.711056</td>\n",
       "    </tr>\n",
       "    <tr>\n",
       "      <th>drk</th>\n",
       "      <td>-0.344185</td>\n",
       "      <td>-1.881540</td>\n",
       "    </tr>\n",
       "    <tr>\n",
       "      <th>hichk_oe_inspec_yn</th>\n",
       "      <td>0.716433</td>\n",
       "      <td>-1.486727</td>\n",
       "    </tr>\n",
       "    <tr>\n",
       "      <th>crs_yn</th>\n",
       "      <td>1.770407</td>\n",
       "      <td>1.134347</td>\n",
       "    </tr>\n",
       "    <tr>\n",
       "      <th>ttr_yn</th>\n",
       "      <td>0.437623</td>\n",
       "      <td>-0.688693</td>\n",
       "    </tr>\n",
       "  </tbody>\n",
       "</table>\n",
       "</div>"
      ],
      "text/plain": [
       "                          skew      kurtosis\n",
       "height                0.008631     -0.480053\n",
       "weight                0.576457      0.539166\n",
       "waist                 1.298341     97.340630\n",
       "sight_l              10.340709    143.031221\n",
       "sight_r              10.343656    141.415812\n",
       "hear_l                4.799266     23.621670\n",
       "hear_r                4.925663     24.925418\n",
       "bp_high               0.455880      0.925235\n",
       "bp_lwst               0.320706      0.695336\n",
       "blds                  4.188519     35.493802\n",
       "tot_chole             3.152219    125.655360\n",
       "trigliserida          6.556726    159.002503\n",
       "hdl                   8.077089    288.005049\n",
       "ldl                   4.146156    192.579326\n",
       "hmg                  -0.327945      0.905872\n",
       "orig_prote_cd         4.909775     27.611850\n",
       "creatine             41.496930   6514.464950\n",
       "sqot_ast            116.767555  30866.160358\n",
       "srpt_alt             41.707304   5593.867524\n",
       "g_gpt                 8.255279    117.248087\n",
       "smk                   0.954845     -0.711056\n",
       "drk                  -0.344185     -1.881540\n",
       "hichk_oe_inspec_yn    0.716433     -1.486727\n",
       "crs_yn                1.770407      1.134347\n",
       "ttr_yn                0.437623     -0.688693"
      ]
     },
     "execution_count": 8,
     "metadata": {},
     "output_type": "execute_result"
    }
   ],
   "source": [
    "from scipy.stats import skew, kurtosis\n",
    "health.iloc[:,5:-1].apply(['skew', 'kurtosis']).T\n"
   ]
  },
  {
   "cell_type": "markdown",
   "id": "b3e9f913",
   "metadata": {},
   "source": [
    "- 왜도는 수치가 좌우로 치우쳐진 정도를 나타냄\n",
    "왜도가 양수 - 분포가 왼쪽으로 치우치고 오른쪽으로 긴 꼬리 분포(중앙값>평균),\n",
    "왜도가 음수 - 분포가 오른쪽으로 치우치고 왼쪽으로 긴 꼬리 분포(중앙값<평균)\n",
    "\n",
    "- 첨도는 분포가 정규분포보다 얼마나 뾰족하거나(데이터가 몰려있음) 완만한지(데이터가 두루 퍼져있음)의 정도를 나타내는 척도\n",
    "첨도가 기준보다 크면 양의 첨도(급첨), 작으면 음의첨도(완첨)\n",
    "\n",
    "- 왜도가 0 첨도가 1일 경우 완전한 정규분포라고 봅니다.\n"
   ]
  },
  {
   "cell_type": "code",
   "execution_count": 9,
   "id": "3ef3b81a",
   "metadata": {},
   "outputs": [
    {
     "data": {
      "text/html": [
       "<div>\n",
       "<style scoped>\n",
       "    .dataframe tbody tr th:only-of-type {\n",
       "        vertical-align: middle;\n",
       "    }\n",
       "\n",
       "    .dataframe tbody tr th {\n",
       "        vertical-align: top;\n",
       "    }\n",
       "\n",
       "    .dataframe thead th {\n",
       "        text-align: right;\n",
       "    }\n",
       "</style>\n",
       "<table border=\"1\" class=\"dataframe\">\n",
       "  <thead>\n",
       "    <tr style=\"text-align: right;\">\n",
       "      <th></th>\n",
       "      <th>height</th>\n",
       "      <th>weight</th>\n",
       "      <th>waist</th>\n",
       "      <th>sight_l</th>\n",
       "      <th>sight_r</th>\n",
       "      <th>hear_l</th>\n",
       "      <th>hear_r</th>\n",
       "      <th>bp_high</th>\n",
       "      <th>bp_lwst</th>\n",
       "      <th>blds</th>\n",
       "      <th>...</th>\n",
       "      <th>orig_prote_cd</th>\n",
       "      <th>creatine</th>\n",
       "      <th>sqot_ast</th>\n",
       "      <th>srpt_alt</th>\n",
       "      <th>g_gpt</th>\n",
       "      <th>smk</th>\n",
       "      <th>drk</th>\n",
       "      <th>hichk_oe_inspec_yn</th>\n",
       "      <th>crs_yn</th>\n",
       "      <th>ttr_yn</th>\n",
       "    </tr>\n",
       "  </thead>\n",
       "  <tbody>\n",
       "    <tr>\n",
       "      <th>0</th>\n",
       "      <td>[160]</td>\n",
       "      <td>[60]</td>\n",
       "      <td>[80.0]</td>\n",
       "      <td>[1.0]</td>\n",
       "      <td>[1.0]</td>\n",
       "      <td>[1.0]</td>\n",
       "      <td>[1.0]</td>\n",
       "      <td>[130.0]</td>\n",
       "      <td>[80.0]</td>\n",
       "      <td>[96.0]</td>\n",
       "      <td>...</td>\n",
       "      <td>[1.0]</td>\n",
       "      <td>[0.8]</td>\n",
       "      <td>[22.0]</td>\n",
       "      <td>[16.0]</td>\n",
       "      <td>[15.0]</td>\n",
       "      <td>[1.0]</td>\n",
       "      <td>[1.0]</td>\n",
       "      <td>[0]</td>\n",
       "      <td>[nan]</td>\n",
       "      <td>[nan]</td>\n",
       "    </tr>\n",
       "    <tr>\n",
       "      <th>1</th>\n",
       "      <td>[184993]</td>\n",
       "      <td>[158678]</td>\n",
       "      <td>[38198]</td>\n",
       "      <td>[202138]</td>\n",
       "      <td>[206683]</td>\n",
       "      <td>[955154]</td>\n",
       "      <td>[957287]</td>\n",
       "      <td>[63669]</td>\n",
       "      <td>[103661]</td>\n",
       "      <td>[33258]</td>\n",
       "      <td>...</td>\n",
       "      <td>[914825]</td>\n",
       "      <td>[192871]</td>\n",
       "      <td>[61223]</td>\n",
       "      <td>[46889]</td>\n",
       "      <td>[39958]</td>\n",
       "      <td>[626138]</td>\n",
       "      <td>[584685]</td>\n",
       "      <td>[668616]</td>\n",
       "      <td>[668617]</td>\n",
       "      <td>[668618]</td>\n",
       "    </tr>\n",
       "  </tbody>\n",
       "</table>\n",
       "<p>2 rows × 25 columns</p>\n",
       "</div>"
      ],
      "text/plain": [
       "     height    weight    waist   sight_l   sight_r    hear_l    hear_r  \\\n",
       "0     [160]      [60]   [80.0]     [1.0]     [1.0]     [1.0]     [1.0]   \n",
       "1  [184993]  [158678]  [38198]  [202138]  [206683]  [955154]  [957287]   \n",
       "\n",
       "   bp_high   bp_lwst     blds  ... orig_prote_cd  creatine sqot_ast srpt_alt  \\\n",
       "0  [130.0]    [80.0]   [96.0]  ...         [1.0]     [0.8]   [22.0]   [16.0]   \n",
       "1  [63669]  [103661]  [33258]  ...      [914825]  [192871]  [61223]  [46889]   \n",
       "\n",
       "     g_gpt       smk       drk hichk_oe_inspec_yn    crs_yn    ttr_yn  \n",
       "0   [15.0]     [1.0]     [1.0]                [0]     [nan]     [nan]  \n",
       "1  [39958]  [626138]  [584685]           [668616]  [668617]  [668618]  \n",
       "\n",
       "[2 rows x 25 columns]"
      ]
     },
     "execution_count": 9,
     "metadata": {},
     "output_type": "execute_result"
    }
   ],
   "source": [
    "from scipy.stats import mode, skew, kurtosis\n",
    "#최빈값\n",
    "health.iloc[:,5:-1].apply(mode)"
   ]
  },
  {
   "cell_type": "code",
   "execution_count": 10,
   "id": "56ad5dc5-6d98-4cf3-98f7-904ac6869cce",
   "metadata": {},
   "outputs": [
    {
     "name": "stdout",
     "output_type": "stream",
     "text": [
      "성별 고유값의 개수\n",
      "1    510689\n",
      "2    489311\n",
      "Name: sex, dtype: int64\n",
      "\n",
      "시도코드 고유값의 개수\n",
      "41    247369\n",
      "11    166231\n",
      "26     69025\n",
      "48     68530\n",
      "28     58345\n",
      "47     54438\n",
      "27     48413\n",
      "44     42582\n",
      "45     38066\n",
      "46     38041\n",
      "43     34009\n",
      "42     32023\n",
      "30     30057\n",
      "29     28532\n",
      "31     26001\n",
      "49     11878\n",
      "36      6460\n",
      "Name: sido, dtype: int64\n",
      "\n",
      "연령대 코드 고유값의 개수\n",
      "18      6237\n",
      "17     23401\n",
      "16     36663\n",
      "15     73714\n",
      "14     86653\n",
      "13    155096\n",
      "12    142089\n",
      "11    175705\n",
      "10    144165\n",
      "9     156277\n",
      "Name: age_group, dtype: int64\n"
     ]
    }
   ],
   "source": [
    "print(\"성별 고유값의 개수\")\n",
    "print(health['sex'].value_counts())\n",
    "print(\"\\n시도코드 고유값의 개수\")\n",
    "print(health['sido'].value_counts())\n",
    "print(\"\\n연령대 코드 고유값의 개수\")\n",
    "print(health['age_group'].value_counts().sort_index(ascending=False))"
   ]
  },
  {
   "cell_type": "code",
   "execution_count": 11,
   "id": "5b5d92d7",
   "metadata": {},
   "outputs": [
    {
     "data": {
      "text/html": [
       "<div>\n",
       "<style scoped>\n",
       "    .dataframe tbody tr th:only-of-type {\n",
       "        vertical-align: middle;\n",
       "    }\n",
       "\n",
       "    .dataframe tbody tr th {\n",
       "        vertical-align: top;\n",
       "    }\n",
       "\n",
       "    .dataframe thead th {\n",
       "        text-align: right;\n",
       "    }\n",
       "</style>\n",
       "<table border=\"1\" class=\"dataframe\">\n",
       "  <thead>\n",
       "    <tr style=\"text-align: right;\">\n",
       "      <th></th>\n",
       "      <th>age_group</th>\n",
       "      <th>height</th>\n",
       "      <th>weight</th>\n",
       "      <th>waist</th>\n",
       "      <th>sight_l</th>\n",
       "      <th>sight_r</th>\n",
       "      <th>hear_l</th>\n",
       "      <th>hear_r</th>\n",
       "      <th>bp_high</th>\n",
       "      <th>bp_lwst</th>\n",
       "      <th>...</th>\n",
       "      <th>orig_prote_cd</th>\n",
       "      <th>creatine</th>\n",
       "      <th>sqot_ast</th>\n",
       "      <th>srpt_alt</th>\n",
       "      <th>g_gpt</th>\n",
       "      <th>smk</th>\n",
       "      <th>drk</th>\n",
       "      <th>hichk_oe_inspec_yn</th>\n",
       "      <th>crs_yn</th>\n",
       "      <th>ttr_yn</th>\n",
       "    </tr>\n",
       "  </thead>\n",
       "  <tbody>\n",
       "    <tr>\n",
       "      <th>age_group</th>\n",
       "      <td>1.000000</td>\n",
       "      <td>-0.365121</td>\n",
       "      <td>-0.235258</td>\n",
       "      <td>0.098477</td>\n",
       "      <td>-0.155089</td>\n",
       "      <td>-0.147627</td>\n",
       "      <td>0.223054</td>\n",
       "      <td>0.218556</td>\n",
       "      <td>0.229686</td>\n",
       "      <td>-0.030582</td>\n",
       "      <td>...</td>\n",
       "      <td>0.024181</td>\n",
       "      <td>0.046580</td>\n",
       "      <td>0.030282</td>\n",
       "      <td>-0.060127</td>\n",
       "      <td>-0.057309</td>\n",
       "      <td>-0.162729</td>\n",
       "      <td>-0.335340</td>\n",
       "      <td>-0.115081</td>\n",
       "      <td>-0.068458</td>\n",
       "      <td>-0.085002</td>\n",
       "    </tr>\n",
       "    <tr>\n",
       "      <th>height</th>\n",
       "      <td>-0.365121</td>\n",
       "      <td>1.000000</td>\n",
       "      <td>0.661926</td>\n",
       "      <td>0.327558</td>\n",
       "      <td>0.113394</td>\n",
       "      <td>0.113258</td>\n",
       "      <td>-0.077046</td>\n",
       "      <td>-0.078484</td>\n",
       "      <td>0.004569</td>\n",
       "      <td>0.133519</td>\n",
       "      <td>...</td>\n",
       "      <td>0.024544</td>\n",
       "      <td>0.224141</td>\n",
       "      <td>0.027489</td>\n",
       "      <td>0.131465</td>\n",
       "      <td>0.165648</td>\n",
       "      <td>0.476120</td>\n",
       "      <td>0.355115</td>\n",
       "      <td>0.082205</td>\n",
       "      <td>0.035662</td>\n",
       "      <td>0.044720</td>\n",
       "    </tr>\n",
       "    <tr>\n",
       "      <th>weight</th>\n",
       "      <td>-0.235258</td>\n",
       "      <td>0.661926</td>\n",
       "      <td>1.000000</td>\n",
       "      <td>0.784041</td>\n",
       "      <td>0.075184</td>\n",
       "      <td>0.074312</td>\n",
       "      <td>-0.050075</td>\n",
       "      <td>-0.051380</td>\n",
       "      <td>0.191802</td>\n",
       "      <td>0.257129</td>\n",
       "      <td>...</td>\n",
       "      <td>0.049407</td>\n",
       "      <td>0.192722</td>\n",
       "      <td>0.073845</td>\n",
       "      <td>0.237981</td>\n",
       "      <td>0.194396</td>\n",
       "      <td>0.355304</td>\n",
       "      <td>0.252780</td>\n",
       "      <td>0.061033</td>\n",
       "      <td>0.038551</td>\n",
       "      <td>0.051578</td>\n",
       "    </tr>\n",
       "    <tr>\n",
       "      <th>waist</th>\n",
       "      <td>0.098477</td>\n",
       "      <td>0.327558</td>\n",
       "      <td>0.784041</td>\n",
       "      <td>1.000000</td>\n",
       "      <td>0.006084</td>\n",
       "      <td>0.007180</td>\n",
       "      <td>0.035000</td>\n",
       "      <td>0.032190</td>\n",
       "      <td>0.275676</td>\n",
       "      <td>0.242307</td>\n",
       "      <td>...</td>\n",
       "      <td>0.066239</td>\n",
       "      <td>0.163416</td>\n",
       "      <td>0.091252</td>\n",
       "      <td>0.222426</td>\n",
       "      <td>0.191817</td>\n",
       "      <td>0.242004</td>\n",
       "      <td>0.099154</td>\n",
       "      <td>0.024158</td>\n",
       "      <td>0.023517</td>\n",
       "      <td>0.044684</td>\n",
       "    </tr>\n",
       "    <tr>\n",
       "      <th>sight_l</th>\n",
       "      <td>-0.155089</td>\n",
       "      <td>0.113394</td>\n",
       "      <td>0.075184</td>\n",
       "      <td>0.006084</td>\n",
       "      <td>1.000000</td>\n",
       "      <td>0.281132</td>\n",
       "      <td>-0.035169</td>\n",
       "      <td>-0.034290</td>\n",
       "      <td>-0.031905</td>\n",
       "      <td>0.015523</td>\n",
       "      <td>...</td>\n",
       "      <td>-0.005537</td>\n",
       "      <td>0.014417</td>\n",
       "      <td>-0.003730</td>\n",
       "      <td>0.017242</td>\n",
       "      <td>0.016803</td>\n",
       "      <td>0.056288</td>\n",
       "      <td>0.069715</td>\n",
       "      <td>0.006555</td>\n",
       "      <td>0.009887</td>\n",
       "      <td>0.011949</td>\n",
       "    </tr>\n",
       "    <tr>\n",
       "      <th>sight_r</th>\n",
       "      <td>-0.147627</td>\n",
       "      <td>0.113258</td>\n",
       "      <td>0.074312</td>\n",
       "      <td>0.007180</td>\n",
       "      <td>0.281132</td>\n",
       "      <td>1.000000</td>\n",
       "      <td>-0.030699</td>\n",
       "      <td>-0.028233</td>\n",
       "      <td>-0.030420</td>\n",
       "      <td>0.014267</td>\n",
       "      <td>...</td>\n",
       "      <td>-0.005484</td>\n",
       "      <td>0.018797</td>\n",
       "      <td>-0.003068</td>\n",
       "      <td>0.016227</td>\n",
       "      <td>0.018325</td>\n",
       "      <td>0.055614</td>\n",
       "      <td>0.066594</td>\n",
       "      <td>0.002138</td>\n",
       "      <td>0.013118</td>\n",
       "      <td>0.011218</td>\n",
       "    </tr>\n",
       "    <tr>\n",
       "      <th>hear_l</th>\n",
       "      <td>0.223054</td>\n",
       "      <td>-0.077046</td>\n",
       "      <td>-0.050075</td>\n",
       "      <td>0.035000</td>\n",
       "      <td>-0.035169</td>\n",
       "      <td>-0.030699</td>\n",
       "      <td>1.000000</td>\n",
       "      <td>0.545578</td>\n",
       "      <td>0.050966</td>\n",
       "      <td>-0.015231</td>\n",
       "      <td>...</td>\n",
       "      <td>0.020640</td>\n",
       "      <td>0.029047</td>\n",
       "      <td>0.006622</td>\n",
       "      <td>-0.014044</td>\n",
       "      <td>-0.003024</td>\n",
       "      <td>-0.022051</td>\n",
       "      <td>-0.074636</td>\n",
       "      <td>0.017226</td>\n",
       "      <td>-0.005814</td>\n",
       "      <td>-0.031353</td>\n",
       "    </tr>\n",
       "    <tr>\n",
       "      <th>hear_r</th>\n",
       "      <td>0.218556</td>\n",
       "      <td>-0.078484</td>\n",
       "      <td>-0.051380</td>\n",
       "      <td>0.032190</td>\n",
       "      <td>-0.034290</td>\n",
       "      <td>-0.028233</td>\n",
       "      <td>0.545578</td>\n",
       "      <td>1.000000</td>\n",
       "      <td>0.049384</td>\n",
       "      <td>-0.015562</td>\n",
       "      <td>...</td>\n",
       "      <td>0.019267</td>\n",
       "      <td>0.025381</td>\n",
       "      <td>0.006663</td>\n",
       "      <td>-0.014346</td>\n",
       "      <td>-0.003797</td>\n",
       "      <td>-0.024190</td>\n",
       "      <td>-0.075418</td>\n",
       "      <td>0.019137</td>\n",
       "      <td>-0.004947</td>\n",
       "      <td>-0.031952</td>\n",
       "    </tr>\n",
       "    <tr>\n",
       "      <th>bp_high</th>\n",
       "      <td>0.229686</td>\n",
       "      <td>0.004569</td>\n",
       "      <td>0.191802</td>\n",
       "      <td>0.275676</td>\n",
       "      <td>-0.031905</td>\n",
       "      <td>-0.030420</td>\n",
       "      <td>0.050966</td>\n",
       "      <td>0.049384</td>\n",
       "      <td>1.000000</td>\n",
       "      <td>0.700120</td>\n",
       "      <td>...</td>\n",
       "      <td>0.061521</td>\n",
       "      <td>0.057696</td>\n",
       "      <td>0.049696</td>\n",
       "      <td>0.073266</td>\n",
       "      <td>0.111280</td>\n",
       "      <td>0.037068</td>\n",
       "      <td>-0.019150</td>\n",
       "      <td>-0.063256</td>\n",
       "      <td>0.018284</td>\n",
       "      <td>0.016441</td>\n",
       "    </tr>\n",
       "    <tr>\n",
       "      <th>bp_lwst</th>\n",
       "      <td>-0.030582</td>\n",
       "      <td>0.133519</td>\n",
       "      <td>0.257129</td>\n",
       "      <td>0.242307</td>\n",
       "      <td>0.015523</td>\n",
       "      <td>0.014267</td>\n",
       "      <td>-0.015231</td>\n",
       "      <td>-0.015562</td>\n",
       "      <td>0.700120</td>\n",
       "      <td>1.000000</td>\n",
       "      <td>...</td>\n",
       "      <td>0.043905</td>\n",
       "      <td>0.050919</td>\n",
       "      <td>0.052773</td>\n",
       "      <td>0.103708</td>\n",
       "      <td>0.140967</td>\n",
       "      <td>0.110998</td>\n",
       "      <td>0.095305</td>\n",
       "      <td>-0.017130</td>\n",
       "      <td>0.032381</td>\n",
       "      <td>0.038925</td>\n",
       "    </tr>\n",
       "    <tr>\n",
       "      <th>blds</th>\n",
       "      <td>0.114715</td>\n",
       "      <td>0.058632</td>\n",
       "      <td>0.157241</td>\n",
       "      <td>0.213131</td>\n",
       "      <td>-0.024412</td>\n",
       "      <td>-0.023774</td>\n",
       "      <td>0.029476</td>\n",
       "      <td>0.027939</td>\n",
       "      <td>0.149219</td>\n",
       "      <td>0.096442</td>\n",
       "      <td>...</td>\n",
       "      <td>0.121258</td>\n",
       "      <td>0.066127</td>\n",
       "      <td>0.055742</td>\n",
       "      <td>0.111649</td>\n",
       "      <td>0.151283</td>\n",
       "      <td>0.096678</td>\n",
       "      <td>0.013285</td>\n",
       "      <td>-0.019128</td>\n",
       "      <td>0.017905</td>\n",
       "      <td>0.026128</td>\n",
       "    </tr>\n",
       "    <tr>\n",
       "      <th>tot_chole</th>\n",
       "      <td>-0.179331</td>\n",
       "      <td>-0.000263</td>\n",
       "      <td>-0.000432</td>\n",
       "      <td>-0.049447</td>\n",
       "      <td>0.023026</td>\n",
       "      <td>0.020664</td>\n",
       "      <td>-0.053745</td>\n",
       "      <td>-0.054584</td>\n",
       "      <td>-0.007708</td>\n",
       "      <td>0.083263</td>\n",
       "      <td>...</td>\n",
       "      <td>-0.023148</td>\n",
       "      <td>-0.042664</td>\n",
       "      <td>-0.000701</td>\n",
       "      <td>0.025176</td>\n",
       "      <td>0.052891</td>\n",
       "      <td>-0.008317</td>\n",
       "      <td>0.068735</td>\n",
       "      <td>0.025067</td>\n",
       "      <td>0.007239</td>\n",
       "      <td>0.034741</td>\n",
       "    </tr>\n",
       "    <tr>\n",
       "      <th>trigliserida</th>\n",
       "      <td>-0.058088</td>\n",
       "      <td>0.148775</td>\n",
       "      <td>0.266429</td>\n",
       "      <td>0.259686</td>\n",
       "      <td>0.017537</td>\n",
       "      <td>0.018780</td>\n",
       "      <td>-0.010391</td>\n",
       "      <td>-0.009092</td>\n",
       "      <td>0.136339</td>\n",
       "      <td>0.168525</td>\n",
       "      <td>...</td>\n",
       "      <td>0.047983</td>\n",
       "      <td>0.062520</td>\n",
       "      <td>0.081936</td>\n",
       "      <td>0.153479</td>\n",
       "      <td>0.281193</td>\n",
       "      <td>0.206983</td>\n",
       "      <td>0.088597</td>\n",
       "      <td>0.005513</td>\n",
       "      <td>0.032960</td>\n",
       "      <td>0.046768</td>\n",
       "    </tr>\n",
       "    <tr>\n",
       "      <th>hdl</th>\n",
       "      <td>-0.077344</td>\n",
       "      <td>-0.170868</td>\n",
       "      <td>-0.294161</td>\n",
       "      <td>-0.314286</td>\n",
       "      <td>-0.001549</td>\n",
       "      <td>-0.005368</td>\n",
       "      <td>-0.033491</td>\n",
       "      <td>-0.034985</td>\n",
       "      <td>-0.079045</td>\n",
       "      <td>-0.057869</td>\n",
       "      <td>...</td>\n",
       "      <td>-0.029769</td>\n",
       "      <td>-0.109877</td>\n",
       "      <td>-0.022386</td>\n",
       "      <td>-0.097590</td>\n",
       "      <td>-0.042185</td>\n",
       "      <td>-0.168529</td>\n",
       "      <td>0.034985</td>\n",
       "      <td>-0.044203</td>\n",
       "      <td>-0.027206</td>\n",
       "      <td>-0.027128</td>\n",
       "    </tr>\n",
       "    <tr>\n",
       "      <th>ldl</th>\n",
       "      <td>-0.148437</td>\n",
       "      <td>0.010629</td>\n",
       "      <td>0.006121</td>\n",
       "      <td>-0.040464</td>\n",
       "      <td>0.019852</td>\n",
       "      <td>0.018730</td>\n",
       "      <td>-0.042359</td>\n",
       "      <td>-0.043202</td>\n",
       "      <td>-0.036289</td>\n",
       "      <td>0.044278</td>\n",
       "      <td>...</td>\n",
       "      <td>-0.032916</td>\n",
       "      <td>-0.029846</td>\n",
       "      <td>-0.021602</td>\n",
       "      <td>0.003194</td>\n",
       "      <td>-0.032995</td>\n",
       "      <td>-0.024687</td>\n",
       "      <td>0.029166</td>\n",
       "      <td>0.049308</td>\n",
       "      <td>0.003390</td>\n",
       "      <td>0.026303</td>\n",
       "    </tr>\n",
       "    <tr>\n",
       "      <th>hmg</th>\n",
       "      <td>-0.158264</td>\n",
       "      <td>0.490852</td>\n",
       "      <td>0.459787</td>\n",
       "      <td>0.343790</td>\n",
       "      <td>0.069762</td>\n",
       "      <td>0.070771</td>\n",
       "      <td>-0.038352</td>\n",
       "      <td>-0.039948</td>\n",
       "      <td>0.121544</td>\n",
       "      <td>0.249669</td>\n",
       "      <td>...</td>\n",
       "      <td>0.025892</td>\n",
       "      <td>0.142010</td>\n",
       "      <td>0.088565</td>\n",
       "      <td>0.218121</td>\n",
       "      <td>0.206223</td>\n",
       "      <td>0.430544</td>\n",
       "      <td>0.259366</td>\n",
       "      <td>0.054254</td>\n",
       "      <td>0.030050</td>\n",
       "      <td>0.064208</td>\n",
       "    </tr>\n",
       "    <tr>\n",
       "      <th>orig_prote_cd</th>\n",
       "      <td>0.024181</td>\n",
       "      <td>0.024544</td>\n",
       "      <td>0.049407</td>\n",
       "      <td>0.066239</td>\n",
       "      <td>-0.005537</td>\n",
       "      <td>-0.005484</td>\n",
       "      <td>0.020640</td>\n",
       "      <td>0.019267</td>\n",
       "      <td>0.061521</td>\n",
       "      <td>0.043905</td>\n",
       "      <td>...</td>\n",
       "      <td>1.000000</td>\n",
       "      <td>0.148584</td>\n",
       "      <td>0.037647</td>\n",
       "      <td>0.040319</td>\n",
       "      <td>0.059219</td>\n",
       "      <td>0.034161</td>\n",
       "      <td>0.004004</td>\n",
       "      <td>-0.020997</td>\n",
       "      <td>0.008100</td>\n",
       "      <td>0.010152</td>\n",
       "    </tr>\n",
       "    <tr>\n",
       "      <th>creatine</th>\n",
       "      <td>0.046580</td>\n",
       "      <td>0.224141</td>\n",
       "      <td>0.192722</td>\n",
       "      <td>0.163416</td>\n",
       "      <td>0.014417</td>\n",
       "      <td>0.018797</td>\n",
       "      <td>0.029047</td>\n",
       "      <td>0.025381</td>\n",
       "      <td>0.057696</td>\n",
       "      <td>0.050919</td>\n",
       "      <td>...</td>\n",
       "      <td>0.148584</td>\n",
       "      <td>1.000000</td>\n",
       "      <td>0.020491</td>\n",
       "      <td>0.048261</td>\n",
       "      <td>0.062902</td>\n",
       "      <td>0.168026</td>\n",
       "      <td>0.055200</td>\n",
       "      <td>0.035743</td>\n",
       "      <td>0.005403</td>\n",
       "      <td>0.016366</td>\n",
       "    </tr>\n",
       "    <tr>\n",
       "      <th>sqot_ast</th>\n",
       "      <td>0.030282</td>\n",
       "      <td>0.027489</td>\n",
       "      <td>0.073845</td>\n",
       "      <td>0.091252</td>\n",
       "      <td>-0.003730</td>\n",
       "      <td>-0.003068</td>\n",
       "      <td>0.006622</td>\n",
       "      <td>0.006663</td>\n",
       "      <td>0.049696</td>\n",
       "      <td>0.052773</td>\n",
       "      <td>...</td>\n",
       "      <td>0.037647</td>\n",
       "      <td>0.020491</td>\n",
       "      <td>1.000000</td>\n",
       "      <td>0.741916</td>\n",
       "      <td>0.320785</td>\n",
       "      <td>0.047581</td>\n",
       "      <td>0.025413</td>\n",
       "      <td>-0.013025</td>\n",
       "      <td>0.011331</td>\n",
       "      <td>0.013402</td>\n",
       "    </tr>\n",
       "    <tr>\n",
       "      <th>srpt_alt</th>\n",
       "      <td>-0.060127</td>\n",
       "      <td>0.131465</td>\n",
       "      <td>0.237981</td>\n",
       "      <td>0.222426</td>\n",
       "      <td>0.017242</td>\n",
       "      <td>0.016227</td>\n",
       "      <td>-0.014044</td>\n",
       "      <td>-0.014346</td>\n",
       "      <td>0.073266</td>\n",
       "      <td>0.103708</td>\n",
       "      <td>...</td>\n",
       "      <td>0.040319</td>\n",
       "      <td>0.048261</td>\n",
       "      <td>0.741916</td>\n",
       "      <td>1.000000</td>\n",
       "      <td>0.362289</td>\n",
       "      <td>0.115230</td>\n",
       "      <td>0.061777</td>\n",
       "      <td>0.000956</td>\n",
       "      <td>0.018276</td>\n",
       "      <td>0.030511</td>\n",
       "    </tr>\n",
       "    <tr>\n",
       "      <th>g_gpt</th>\n",
       "      <td>-0.057309</td>\n",
       "      <td>0.165648</td>\n",
       "      <td>0.194396</td>\n",
       "      <td>0.191817</td>\n",
       "      <td>0.016803</td>\n",
       "      <td>0.018325</td>\n",
       "      <td>-0.003024</td>\n",
       "      <td>-0.003797</td>\n",
       "      <td>0.111280</td>\n",
       "      <td>0.140967</td>\n",
       "      <td>...</td>\n",
       "      <td>0.059219</td>\n",
       "      <td>0.062902</td>\n",
       "      <td>0.320785</td>\n",
       "      <td>0.362289</td>\n",
       "      <td>1.000000</td>\n",
       "      <td>0.229333</td>\n",
       "      <td>0.168299</td>\n",
       "      <td>0.004605</td>\n",
       "      <td>0.039929</td>\n",
       "      <td>0.046432</td>\n",
       "    </tr>\n",
       "    <tr>\n",
       "      <th>smk</th>\n",
       "      <td>-0.162729</td>\n",
       "      <td>0.476120</td>\n",
       "      <td>0.355304</td>\n",
       "      <td>0.242004</td>\n",
       "      <td>0.056288</td>\n",
       "      <td>0.055614</td>\n",
       "      <td>-0.022051</td>\n",
       "      <td>-0.024190</td>\n",
       "      <td>0.037068</td>\n",
       "      <td>0.110998</td>\n",
       "      <td>...</td>\n",
       "      <td>0.034161</td>\n",
       "      <td>0.168026</td>\n",
       "      <td>0.047581</td>\n",
       "      <td>0.115230</td>\n",
       "      <td>0.229333</td>\n",
       "      <td>1.000000</td>\n",
       "      <td>0.313517</td>\n",
       "      <td>0.052897</td>\n",
       "      <td>0.074606</td>\n",
       "      <td>0.095114</td>\n",
       "    </tr>\n",
       "    <tr>\n",
       "      <th>drk</th>\n",
       "      <td>-0.335340</td>\n",
       "      <td>0.355115</td>\n",
       "      <td>0.252780</td>\n",
       "      <td>0.099154</td>\n",
       "      <td>0.069715</td>\n",
       "      <td>0.066594</td>\n",
       "      <td>-0.074636</td>\n",
       "      <td>-0.075418</td>\n",
       "      <td>-0.019150</td>\n",
       "      <td>0.095305</td>\n",
       "      <td>...</td>\n",
       "      <td>0.004004</td>\n",
       "      <td>0.055200</td>\n",
       "      <td>0.025413</td>\n",
       "      <td>0.061777</td>\n",
       "      <td>0.168299</td>\n",
       "      <td>0.313517</td>\n",
       "      <td>1.000000</td>\n",
       "      <td>0.075936</td>\n",
       "      <td>0.025723</td>\n",
       "      <td>0.046313</td>\n",
       "    </tr>\n",
       "    <tr>\n",
       "      <th>hichk_oe_inspec_yn</th>\n",
       "      <td>-0.115081</td>\n",
       "      <td>0.082205</td>\n",
       "      <td>0.061033</td>\n",
       "      <td>0.024158</td>\n",
       "      <td>0.006555</td>\n",
       "      <td>0.002138</td>\n",
       "      <td>0.017226</td>\n",
       "      <td>0.019137</td>\n",
       "      <td>-0.063256</td>\n",
       "      <td>-0.017130</td>\n",
       "      <td>...</td>\n",
       "      <td>-0.020997</td>\n",
       "      <td>0.035743</td>\n",
       "      <td>-0.013025</td>\n",
       "      <td>0.000956</td>\n",
       "      <td>0.004605</td>\n",
       "      <td>0.052897</td>\n",
       "      <td>0.075936</td>\n",
       "      <td>1.000000</td>\n",
       "      <td>NaN</td>\n",
       "      <td>NaN</td>\n",
       "    </tr>\n",
       "    <tr>\n",
       "      <th>crs_yn</th>\n",
       "      <td>-0.068458</td>\n",
       "      <td>0.035662</td>\n",
       "      <td>0.038551</td>\n",
       "      <td>0.023517</td>\n",
       "      <td>0.009887</td>\n",
       "      <td>0.013118</td>\n",
       "      <td>-0.005814</td>\n",
       "      <td>-0.004947</td>\n",
       "      <td>0.018284</td>\n",
       "      <td>0.032381</td>\n",
       "      <td>...</td>\n",
       "      <td>0.008100</td>\n",
       "      <td>0.005403</td>\n",
       "      <td>0.011331</td>\n",
       "      <td>0.018276</td>\n",
       "      <td>0.039929</td>\n",
       "      <td>0.074606</td>\n",
       "      <td>0.025723</td>\n",
       "      <td>NaN</td>\n",
       "      <td>1.000000</td>\n",
       "      <td>0.196068</td>\n",
       "    </tr>\n",
       "    <tr>\n",
       "      <th>ttr_yn</th>\n",
       "      <td>-0.085002</td>\n",
       "      <td>0.044720</td>\n",
       "      <td>0.051578</td>\n",
       "      <td>0.044684</td>\n",
       "      <td>0.011949</td>\n",
       "      <td>0.011218</td>\n",
       "      <td>-0.031353</td>\n",
       "      <td>-0.031952</td>\n",
       "      <td>0.016441</td>\n",
       "      <td>0.038925</td>\n",
       "      <td>...</td>\n",
       "      <td>0.010152</td>\n",
       "      <td>0.016366</td>\n",
       "      <td>0.013402</td>\n",
       "      <td>0.030511</td>\n",
       "      <td>0.046432</td>\n",
       "      <td>0.095114</td>\n",
       "      <td>0.046313</td>\n",
       "      <td>NaN</td>\n",
       "      <td>0.196068</td>\n",
       "      <td>1.000000</td>\n",
       "    </tr>\n",
       "  </tbody>\n",
       "</table>\n",
       "<p>26 rows × 26 columns</p>\n",
       "</div>"
      ],
      "text/plain": [
       "                    age_group    height    weight     waist   sight_l  \\\n",
       "age_group            1.000000 -0.365121 -0.235258  0.098477 -0.155089   \n",
       "height              -0.365121  1.000000  0.661926  0.327558  0.113394   \n",
       "weight              -0.235258  0.661926  1.000000  0.784041  0.075184   \n",
       "waist                0.098477  0.327558  0.784041  1.000000  0.006084   \n",
       "sight_l             -0.155089  0.113394  0.075184  0.006084  1.000000   \n",
       "sight_r             -0.147627  0.113258  0.074312  0.007180  0.281132   \n",
       "hear_l               0.223054 -0.077046 -0.050075  0.035000 -0.035169   \n",
       "hear_r               0.218556 -0.078484 -0.051380  0.032190 -0.034290   \n",
       "bp_high              0.229686  0.004569  0.191802  0.275676 -0.031905   \n",
       "bp_lwst             -0.030582  0.133519  0.257129  0.242307  0.015523   \n",
       "blds                 0.114715  0.058632  0.157241  0.213131 -0.024412   \n",
       "tot_chole           -0.179331 -0.000263 -0.000432 -0.049447  0.023026   \n",
       "trigliserida        -0.058088  0.148775  0.266429  0.259686  0.017537   \n",
       "hdl                 -0.077344 -0.170868 -0.294161 -0.314286 -0.001549   \n",
       "ldl                 -0.148437  0.010629  0.006121 -0.040464  0.019852   \n",
       "hmg                 -0.158264  0.490852  0.459787  0.343790  0.069762   \n",
       "orig_prote_cd        0.024181  0.024544  0.049407  0.066239 -0.005537   \n",
       "creatine             0.046580  0.224141  0.192722  0.163416  0.014417   \n",
       "sqot_ast             0.030282  0.027489  0.073845  0.091252 -0.003730   \n",
       "srpt_alt            -0.060127  0.131465  0.237981  0.222426  0.017242   \n",
       "g_gpt               -0.057309  0.165648  0.194396  0.191817  0.016803   \n",
       "smk                 -0.162729  0.476120  0.355304  0.242004  0.056288   \n",
       "drk                 -0.335340  0.355115  0.252780  0.099154  0.069715   \n",
       "hichk_oe_inspec_yn  -0.115081  0.082205  0.061033  0.024158  0.006555   \n",
       "crs_yn              -0.068458  0.035662  0.038551  0.023517  0.009887   \n",
       "ttr_yn              -0.085002  0.044720  0.051578  0.044684  0.011949   \n",
       "\n",
       "                     sight_r    hear_l    hear_r   bp_high   bp_lwst  ...  \\\n",
       "age_group          -0.147627  0.223054  0.218556  0.229686 -0.030582  ...   \n",
       "height              0.113258 -0.077046 -0.078484  0.004569  0.133519  ...   \n",
       "weight              0.074312 -0.050075 -0.051380  0.191802  0.257129  ...   \n",
       "waist               0.007180  0.035000  0.032190  0.275676  0.242307  ...   \n",
       "sight_l             0.281132 -0.035169 -0.034290 -0.031905  0.015523  ...   \n",
       "sight_r             1.000000 -0.030699 -0.028233 -0.030420  0.014267  ...   \n",
       "hear_l             -0.030699  1.000000  0.545578  0.050966 -0.015231  ...   \n",
       "hear_r             -0.028233  0.545578  1.000000  0.049384 -0.015562  ...   \n",
       "bp_high            -0.030420  0.050966  0.049384  1.000000  0.700120  ...   \n",
       "bp_lwst             0.014267 -0.015231 -0.015562  0.700120  1.000000  ...   \n",
       "blds               -0.023774  0.029476  0.027939  0.149219  0.096442  ...   \n",
       "tot_chole           0.020664 -0.053745 -0.054584 -0.007708  0.083263  ...   \n",
       "trigliserida        0.018780 -0.010391 -0.009092  0.136339  0.168525  ...   \n",
       "hdl                -0.005368 -0.033491 -0.034985 -0.079045 -0.057869  ...   \n",
       "ldl                 0.018730 -0.042359 -0.043202 -0.036289  0.044278  ...   \n",
       "hmg                 0.070771 -0.038352 -0.039948  0.121544  0.249669  ...   \n",
       "orig_prote_cd      -0.005484  0.020640  0.019267  0.061521  0.043905  ...   \n",
       "creatine            0.018797  0.029047  0.025381  0.057696  0.050919  ...   \n",
       "sqot_ast           -0.003068  0.006622  0.006663  0.049696  0.052773  ...   \n",
       "srpt_alt            0.016227 -0.014044 -0.014346  0.073266  0.103708  ...   \n",
       "g_gpt               0.018325 -0.003024 -0.003797  0.111280  0.140967  ...   \n",
       "smk                 0.055614 -0.022051 -0.024190  0.037068  0.110998  ...   \n",
       "drk                 0.066594 -0.074636 -0.075418 -0.019150  0.095305  ...   \n",
       "hichk_oe_inspec_yn  0.002138  0.017226  0.019137 -0.063256 -0.017130  ...   \n",
       "crs_yn              0.013118 -0.005814 -0.004947  0.018284  0.032381  ...   \n",
       "ttr_yn              0.011218 -0.031353 -0.031952  0.016441  0.038925  ...   \n",
       "\n",
       "                    orig_prote_cd  creatine  sqot_ast  srpt_alt     g_gpt  \\\n",
       "age_group                0.024181  0.046580  0.030282 -0.060127 -0.057309   \n",
       "height                   0.024544  0.224141  0.027489  0.131465  0.165648   \n",
       "weight                   0.049407  0.192722  0.073845  0.237981  0.194396   \n",
       "waist                    0.066239  0.163416  0.091252  0.222426  0.191817   \n",
       "sight_l                 -0.005537  0.014417 -0.003730  0.017242  0.016803   \n",
       "sight_r                 -0.005484  0.018797 -0.003068  0.016227  0.018325   \n",
       "hear_l                   0.020640  0.029047  0.006622 -0.014044 -0.003024   \n",
       "hear_r                   0.019267  0.025381  0.006663 -0.014346 -0.003797   \n",
       "bp_high                  0.061521  0.057696  0.049696  0.073266  0.111280   \n",
       "bp_lwst                  0.043905  0.050919  0.052773  0.103708  0.140967   \n",
       "blds                     0.121258  0.066127  0.055742  0.111649  0.151283   \n",
       "tot_chole               -0.023148 -0.042664 -0.000701  0.025176  0.052891   \n",
       "trigliserida             0.047983  0.062520  0.081936  0.153479  0.281193   \n",
       "hdl                     -0.029769 -0.109877 -0.022386 -0.097590 -0.042185   \n",
       "ldl                     -0.032916 -0.029846 -0.021602  0.003194 -0.032995   \n",
       "hmg                      0.025892  0.142010  0.088565  0.218121  0.206223   \n",
       "orig_prote_cd            1.000000  0.148584  0.037647  0.040319  0.059219   \n",
       "creatine                 0.148584  1.000000  0.020491  0.048261  0.062902   \n",
       "sqot_ast                 0.037647  0.020491  1.000000  0.741916  0.320785   \n",
       "srpt_alt                 0.040319  0.048261  0.741916  1.000000  0.362289   \n",
       "g_gpt                    0.059219  0.062902  0.320785  0.362289  1.000000   \n",
       "smk                      0.034161  0.168026  0.047581  0.115230  0.229333   \n",
       "drk                      0.004004  0.055200  0.025413  0.061777  0.168299   \n",
       "hichk_oe_inspec_yn      -0.020997  0.035743 -0.013025  0.000956  0.004605   \n",
       "crs_yn                   0.008100  0.005403  0.011331  0.018276  0.039929   \n",
       "ttr_yn                   0.010152  0.016366  0.013402  0.030511  0.046432   \n",
       "\n",
       "                         smk       drk  hichk_oe_inspec_yn    crs_yn    ttr_yn  \n",
       "age_group          -0.162729 -0.335340           -0.115081 -0.068458 -0.085002  \n",
       "height              0.476120  0.355115            0.082205  0.035662  0.044720  \n",
       "weight              0.355304  0.252780            0.061033  0.038551  0.051578  \n",
       "waist               0.242004  0.099154            0.024158  0.023517  0.044684  \n",
       "sight_l             0.056288  0.069715            0.006555  0.009887  0.011949  \n",
       "sight_r             0.055614  0.066594            0.002138  0.013118  0.011218  \n",
       "hear_l             -0.022051 -0.074636            0.017226 -0.005814 -0.031353  \n",
       "hear_r             -0.024190 -0.075418            0.019137 -0.004947 -0.031952  \n",
       "bp_high             0.037068 -0.019150           -0.063256  0.018284  0.016441  \n",
       "bp_lwst             0.110998  0.095305           -0.017130  0.032381  0.038925  \n",
       "blds                0.096678  0.013285           -0.019128  0.017905  0.026128  \n",
       "tot_chole          -0.008317  0.068735            0.025067  0.007239  0.034741  \n",
       "trigliserida        0.206983  0.088597            0.005513  0.032960  0.046768  \n",
       "hdl                -0.168529  0.034985           -0.044203 -0.027206 -0.027128  \n",
       "ldl                -0.024687  0.029166            0.049308  0.003390  0.026303  \n",
       "hmg                 0.430544  0.259366            0.054254  0.030050  0.064208  \n",
       "orig_prote_cd       0.034161  0.004004           -0.020997  0.008100  0.010152  \n",
       "creatine            0.168026  0.055200            0.035743  0.005403  0.016366  \n",
       "sqot_ast            0.047581  0.025413           -0.013025  0.011331  0.013402  \n",
       "srpt_alt            0.115230  0.061777            0.000956  0.018276  0.030511  \n",
       "g_gpt               0.229333  0.168299            0.004605  0.039929  0.046432  \n",
       "smk                 1.000000  0.313517            0.052897  0.074606  0.095114  \n",
       "drk                 0.313517  1.000000            0.075936  0.025723  0.046313  \n",
       "hichk_oe_inspec_yn  0.052897  0.075936            1.000000       NaN       NaN  \n",
       "crs_yn              0.074606  0.025723                 NaN  1.000000  0.196068  \n",
       "ttr_yn              0.095114  0.046313                 NaN  0.196068  1.000000  \n",
       "\n",
       "[26 rows x 26 columns]"
      ]
     },
     "execution_count": 11,
     "metadata": {},
     "output_type": "execute_result"
    }
   ],
   "source": [
    "health.iloc[:,4:-1].corr()"
   ]
  },
  {
   "cell_type": "markdown",
   "id": "12f6cb9b",
   "metadata": {},
   "source": [
    "# 목적 1\n",
    "### 성별,나이,비만도,트리글리세라이드,총콜레스테롤,LDL,HDL - 고지혈증여부"
   ]
  },
  {
   "cell_type": "code",
   "execution_count": 12,
   "id": "56d063a3",
   "metadata": {},
   "outputs": [
    {
     "name": "stdout",
     "output_type": "stream",
     "text": [
      "        sex  age_group  height  weight  tot_chole   hdl    ldl  trigliserida\n",
      "0         1          9     165      60      188.0  58.0  118.0          58.0\n",
      "1         2         13     150      65        NaN   NaN    NaN           NaN\n",
      "2         2         12     155      55        NaN   NaN    NaN           NaN\n",
      "3         1         13     160      70        NaN   NaN    NaN           NaN\n",
      "4         2         12     155      50      220.0  53.0  133.0         171.0\n",
      "...     ...        ...     ...     ...        ...   ...    ...           ...\n",
      "999995    2         13     145      55      178.0  43.0   75.0         301.0\n",
      "999996    2         12     160      55      288.0  71.0  198.0          93.0\n",
      "999997    1          9     175      70        NaN   NaN    NaN           NaN\n",
      "999998    2          9     160      70      208.0  59.0  126.0         113.0\n",
      "999999    1         11     160      55      237.0  68.0  156.0          63.0\n",
      "\n",
      "[1000000 rows x 8 columns]\n"
     ]
    }
   ],
   "source": [
    "df=health[['sex','age_group','height','weight','tot_chole','hdl','ldl','trigliserida']]\n",
    "print(df)"
   ]
  },
  {
   "cell_type": "code",
   "execution_count": 13,
   "id": "423bf3fb",
   "metadata": {},
   "outputs": [
    {
     "data": {
      "text/plain": [
       "sex                  0\n",
       "age_group            0\n",
       "height               0\n",
       "weight               0\n",
       "tot_chole       597694\n",
       "hdl             597685\n",
       "ldl             605529\n",
       "trigliserida    597678\n",
       "dtype: int64"
      ]
     },
     "execution_count": 13,
     "metadata": {},
     "output_type": "execute_result"
    }
   ],
   "source": [
    "df.isnull().sum()"
   ]
  },
  {
   "cell_type": "markdown",
   "id": "e6b39f30",
   "metadata": {},
   "source": [
    "### 파생변수생성(BMI 기준,콜레스테롤 기준 수치,고지혈증여부)"
   ]
  },
  {
   "cell_type": "code",
   "execution_count": 14,
   "id": "54af6373",
   "metadata": {},
   "outputs": [
    {
     "name": "stdout",
     "output_type": "stream",
     "text": [
      "        sex  age_group  height  weight  tot_chole   hdl    ldl  trigliserida  \\\n",
      "0         1          9     165      60      188.0  58.0  118.0          58.0   \n",
      "1         2         13     150      65        NaN   NaN    NaN           NaN   \n",
      "2         2         12     155      55        NaN   NaN    NaN           NaN   \n",
      "3         1         13     160      70        NaN   NaN    NaN           NaN   \n",
      "4         2         12     155      50      220.0  53.0  133.0         171.0   \n",
      "...     ...        ...     ...     ...        ...   ...    ...           ...   \n",
      "999995    2         13     145      55      178.0  43.0   75.0         301.0   \n",
      "999996    2         12     160      55      288.0  71.0  198.0          93.0   \n",
      "999997    1          9     175      70        NaN   NaN    NaN           NaN   \n",
      "999998    2          9     160      70      208.0  59.0  126.0         113.0   \n",
      "999999    1         11     160      55      237.0  68.0  156.0          63.0   \n",
      "\n",
      "         bmi  bmi_standard  \n",
      "0       22.0             1  \n",
      "1       28.9             3  \n",
      "2       22.9             1  \n",
      "3       27.3             3  \n",
      "4       20.8             1  \n",
      "...      ...           ...  \n",
      "999995  26.2             3  \n",
      "999996  21.5             1  \n",
      "999997  22.9             1  \n",
      "999998  27.3             3  \n",
      "999999  21.5             1  \n",
      "\n",
      "[1000000 rows x 10 columns]\n"
     ]
    }
   ],
   "source": [
    "# 파생 변수 추가\n",
    "df['bmi']= round(df['weight'] / (df['height']/100)** 2,1)\n",
    "df['bmi_standard'] = df['bmi'].apply(lambda x: 0 if x <= 18.5 else ( 1 if x <= 22.9 else (2 if x <= 24.9 else 3 )))\n",
    "#BMI가 18.5 이하면 저체중 ／ 18.5 ~ 22.9 사이면 정상 ／ 23.0 ~ 24.9 사이면 과체중 ／ 25.0 이상부터는 비만으로 판정.\n",
    "\n",
    "\n",
    "# 결과 출력\n",
    "print(df)"
   ]
  },
  {
   "cell_type": "code",
   "execution_count": 15,
   "id": "56b2569e",
   "metadata": {},
   "outputs": [
    {
     "name": "stdout",
     "output_type": "stream",
     "text": [
      "0.0    399224\n",
      "1.0      2118\n",
      "Name: hyperlipidemia, dtype: int64\n",
      "3    403403\n",
      "1    365553\n",
      "2    195356\n",
      "0     35688\n",
      "Name: bmi_standard, dtype: int64\n"
     ]
    }
   ],
   "source": [
    "df.loc[(df['tot_chole'] >= 240) & (df['ldl']>= 160) & (df['hdl'] <= 40), 'hyperlipidemia'] = 1 #고지혈증 있음\n",
    "df.loc[(df['tot_chole'] < 240) | (df['ldl'] < 160) | (df['hdl'] > 40), 'hyperlipidemia'] = 0 #없음\n",
    "\n",
    "print(df['hyperlipidemia'].value_counts())\n",
    "print(df['bmi_standard'].value_counts())"
   ]
  },
  {
   "cell_type": "code",
   "execution_count": 16,
   "id": "46f954ac",
   "metadata": {},
   "outputs": [
    {
     "data": {
      "text/plain": [
       "sex  age_group\n",
       "1    9            45738\n",
       "     10           23869\n",
       "     11           23396\n",
       "     12           21931\n",
       "     13           41440\n",
       "     14           15215\n",
       "     15           11160\n",
       "     16            7253\n",
       "     17            6471\n",
       "     18             639\n",
       "2    9            39500\n",
       "     10           22837\n",
       "     11           24652\n",
       "     12           23750\n",
       "     13           47654\n",
       "     14           17204\n",
       "     15           12436\n",
       "     16            8302\n",
       "     17            7695\n",
       "     18            1164\n",
       "Name: tot_chole, dtype: int64"
      ]
     },
     "execution_count": 16,
     "metadata": {},
     "output_type": "execute_result"
    }
   ],
   "source": [
    "df.groupby(['sex', 'age_group'])['tot_chole'].count()"
   ]
  },
  {
   "cell_type": "code",
   "execution_count": 17,
   "id": "bfa3b75c",
   "metadata": {},
   "outputs": [
    {
     "name": "stdout",
     "output_type": "stream",
     "text": [
      "<class 'pandas.core.frame.DataFrame'>\n",
      "RangeIndex: 1000000 entries, 0 to 999999\n",
      "Data columns (total 11 columns):\n",
      " #   Column          Non-Null Count    Dtype  \n",
      "---  ------          --------------    -----  \n",
      " 0   sex             1000000 non-null  int64  \n",
      " 1   age_group       1000000 non-null  int64  \n",
      " 2   height          1000000 non-null  int64  \n",
      " 3   weight          1000000 non-null  int64  \n",
      " 4   tot_chole       402306 non-null   float64\n",
      " 5   hdl             402315 non-null   float64\n",
      " 6   ldl             394471 non-null   float64\n",
      " 7   trigliserida    402322 non-null   float64\n",
      " 8   bmi             1000000 non-null  float64\n",
      " 9   bmi_standard    1000000 non-null  int64  \n",
      " 10  hyperlipidemia  401342 non-null   float64\n",
      "dtypes: float64(6), int64(5)\n",
      "memory usage: 83.9 MB\n"
     ]
    }
   ],
   "source": [
    "df.info()"
   ]
  },
  {
   "cell_type": "markdown",
   "id": "e0410b2e-86a7-4a89-9be9-ea284325503a",
   "metadata": {},
   "source": [
    "### 05. 단변량 분석 Univariate Analysis\n",
    "- 히스토그램, 박스플롯 등을 그려 각 변수를 개별적으로 분석합니다.\n",
    "- 각 변수의 특성과 분포들을 파악할 수 있습니다.(변수에 따라 통계적 유의성 검정도 진행할 수 있음)"
   ]
  },
  {
   "cell_type": "code",
   "execution_count": 18,
   "id": "7def2039",
   "metadata": {},
   "outputs": [],
   "source": [
    "sns.set(rc={'figure.figsize':(10,10)})"
   ]
  },
  {
   "cell_type": "code",
   "execution_count": 19,
   "id": "fa75bbb1",
   "metadata": {},
   "outputs": [
    {
     "data": {
      "text/plain": [
       "<Axes: xlabel='tot_chole', ylabel='Count'>"
      ]
     },
     "execution_count": 19,
     "metadata": {},
     "output_type": "execute_result"
    },
    {
     "data": {
      "image/png": "[encoded data removed]",
      "text/plain": [
       "<Figure size 432x288 with 1 Axes>"
      ]
     },
     "metadata": {
      "needs_background": "light"
     },
     "output_type": "display_data"
    }
   ],
   "source": [
    "sns.histplot(df['tot_chole'])"
   ]
  },
  {
   "cell_type": "code",
   "execution_count": 20,
   "id": "522fa0dd",
   "metadata": {
    "scrolled": true
   },
   "outputs": [
    {
     "data": {
      "text/plain": [
       "<Axes: xlabel='hdl', ylabel='Count'>"
      ]
     },
     "execution_count": 20,
     "metadata": {},
     "output_type": "execute_result"
    },
    {
     "data": {
      "image/png": "[encoded data removed]",
      "text/plain": [
       "<Figure size 432x288 with 1 Axes>"
      ]
     },
     "metadata": {
      "needs_background": "light"
     },
     "output_type": "display_data"
    }
   ],
   "source": [
    "sns.histplot(df['hdl'])"
   ]
  },
  {
   "cell_type": "code",
   "execution_count": 21,
   "id": "7fa3720d",
   "metadata": {},
   "outputs": [
    {
     "data": {
      "text/plain": [
       "<Axes: xlabel='ldl', ylabel='Count'>"
      ]
     },
     "execution_count": 21,
     "metadata": {},
     "output_type": "execute_result"
    },
    {
     "data": {
      "image/png": "[encoded data removed]",
      "text/plain": [
       "<Figure size 432x288 with 1 Axes>"
      ]
     },
     "metadata": {
      "needs_background": "light"
     },
     "output_type": "display_data"
    }
   ],
   "source": [
    "sns.histplot(df['ldl'])"
   ]
  },
  {
   "cell_type": "code",
   "execution_count": 22,
   "id": "c3c0bc62",
   "metadata": {},
   "outputs": [
    {
     "data": {
      "text/plain": [
       "<Axes: xlabel='trigliserida', ylabel='Count'>"
      ]
     },
     "execution_count": 22,
     "metadata": {},
     "output_type": "execute_result"
    },
    {
     "data": {
      "image/png": "[encoded data removed]",
      "text/plain": [
       "<Figure size 432x288 with 1 Axes>"
      ]
     },
     "metadata": {
      "needs_background": "light"
     },
     "output_type": "display_data"
    }
   ],
   "source": [
    "sns.histplot(df['trigliserida'])"
   ]
  },
  {
   "cell_type": "code",
   "execution_count": 23,
   "id": "fba933a2",
   "metadata": {},
   "outputs": [
    {
     "data": {
      "image/png": "[encoded data removed]",
      "text/plain": [
       "<Figure size 432x288 with 3 Axes>"
      ]
     },
     "metadata": {
      "needs_background": "light"
     },
     "output_type": "display_data"
    }
   ],
   "source": [
    "plt.subplot(3, 1, 1)\n",
    "sns.boxplot(x='tot_chole', data=df)\n",
    "\n",
    "plt.subplot(3, 1, 2)               \n",
    "sns.boxplot(x='hdl', data=df)\n",
    "\n",
    "plt.subplot(3, 1, 3)                \n",
    "sns.boxplot(x='ldl', data=df)\n",
    "\n",
    "plt.tight_layout()\n",
    "plt.show()"
   ]
  },
  {
   "cell_type": "code",
   "execution_count": 24,
   "id": "c6c6516d",
   "metadata": {},
   "outputs": [
    {
     "data": {
      "image/png": "[encoded data removed]",
      "text/plain": [
       "<Figure size 432x288 with 2 Axes>"
      ]
     },
     "metadata": {
      "needs_background": "light"
     },
     "output_type": "display_data"
    }
   ],
   "source": [
    "plt.subplot(2, 1, 1)  \n",
    "sns.boxplot(x='weight', data=df)\n",
    "\n",
    "plt.subplot(2, 1, 2) \n",
    "sns.boxplot(x='trigliserida', data=df)\n",
    "\n",
    "plt.tight_layout()\n",
    "plt.show()"
   ]
  },
  {
   "cell_type": "markdown",
   "id": "13930c73",
   "metadata": {},
   "source": [
    "- 총콜레스테롤, HDL,LDL,몸무게,트리글리세라이드 변수에 이상치가 많이 포함되어 있다.\n",
    "이상값을 처리해야할것같다.\n"
   ]
  },
  {
   "cell_type": "code",
   "execution_count": 25,
   "id": "0ec89027",
   "metadata": {},
   "outputs": [
    {
     "name": "stdout",
     "output_type": "stream",
     "text": [
      "    tot_chole                                                            \\\n",
      "        count        mean        std   min    25%    50%    75%     max   \n",
      "sex                                                                       \n",
      "1    197112.0  195.263358  43.506887  54.0  166.0  194.0  222.0  2193.0   \n",
      "2    205194.0  201.526282  42.699673  54.0  173.0  199.0  227.0  2416.0   \n",
      "\n",
      "    trigliserida                                                           \n",
      "           count        mean         std  min   25%    50%    75%     max  \n",
      "sex                                                                        \n",
      "1       197121.0  153.594076  118.249689  4.0  86.0  125.0  184.0  5869.0  \n",
      "2       205201.0  114.858434   73.693627  2.0  70.0   97.0  139.0  6999.0  \n",
      "          ldl                                                          \\\n",
      "        count        mean        std  min   25%    50%    75%     max   \n",
      "sex                                                                     \n",
      "1    190862.0  113.835729  38.908626  1.0  87.0  113.0  139.0  2162.0   \n",
      "2    203609.0  117.687160  39.351904  1.0  91.0  116.0  141.0  2395.0   \n",
      "\n",
      "          hdl                                                      \n",
      "        count       mean        std  min   25%   50%   75%    max  \n",
      "sex                                                                \n",
      "1    197117.0  52.228774  14.537612  2.0  43.0  50.0  59.0  783.0  \n",
      "2    205198.0  61.131766  17.143162  1.0  50.0  60.0  70.0  960.0  \n"
     ]
    }
   ],
   "source": [
    "print(df.groupby('sex')['tot_chole','trigliserida'].describe())\n",
    "print(df.groupby('sex')['ldl','hdl'].describe())"
   ]
  },
  {
   "cell_type": "markdown",
   "id": "d8f6085a",
   "metadata": {},
   "source": [
    "'''총 콜레스테롤 , 트리글리세라이드,LDL 콜레스테롤 1000을 넘어가는 수치가 많음\n",
    "HDL 콜레스테롤 최댓값 960 현실실적이지 않은 수치가 존재'''"
   ]
  },
  {
   "cell_type": "markdown",
   "id": "23bb7b40",
   "metadata": {},
   "source": [
    "### 06. 이변량 분석 Bivariate Analysis\n",
    "- 산점도, 히트맵 등을 그려 두 변수 간의 관계를 분석합니다.\n",
    "- 상관분석 / 회귀분석 등 또한 진행할 수 있습니다.\n",
    "- 독립변수(x)와 종속변수(y)의 관계 혹은 독립변수(x1)와 독립변수(x2) 등 다양한 관계를 볼 수 있습니다."
   ]
  },
  {
   "cell_type": "code",
   "execution_count": 26,
   "id": "529a7a2e",
   "metadata": {},
   "outputs": [
    {
     "data": {
      "text/plain": [
       "<Axes: xlabel='sex', ylabel='trigliserida'>"
      ]
     },
     "execution_count": 26,
     "metadata": {},
     "output_type": "execute_result"
    },
    {
     "data": {
      "image/png": "[encoded data removed]",
      "text/plain": [
       "<Figure size 576x288 with 1 Axes>"
      ]
     },
     "metadata": {
      "needs_background": "light"
     },
     "output_type": "display_data"
    }
   ],
   "source": [
    "plt.figure(figsize=(8,4))\n",
    "sns.barplot(data=df, x='sex', y='trigliserida', hue='hyperlipidemia')"
   ]
  },
  {
   "cell_type": "markdown",
   "id": "2b35be8a",
   "metadata": {},
   "source": [
    "- 성별이 남성인 사람이 중성지방이 많고,고지혈증이 있는 사람이 많다."
   ]
  },
  {
   "cell_type": "code",
   "execution_count": 27,
   "id": "71ae96a2",
   "metadata": {},
   "outputs": [
    {
     "data": {
      "text/plain": [
       "<Axes: xlabel='age_group', ylabel='trigliserida'>"
      ]
     },
     "execution_count": 27,
     "metadata": {},
     "output_type": "execute_result"
    },
    {
     "data": {
      "image/png": "[encoded data removed]",
      "text/plain": [
       "<Figure size 576x288 with 1 Axes>"
      ]
     },
     "metadata": {
      "needs_background": "light"
     },
     "output_type": "display_data"
    }
   ],
   "source": [
    "plt.figure(figsize=(8,4))\n",
    "sns.barplot(data=df, x='age_group', y='trigliserida', hue='hyperlipidemia')"
   ]
  },
  {
   "cell_type": "markdown",
   "id": "89147640",
   "metadata": {},
   "source": [
    "고지혈증 여부와 연령대,bmi는 관련이 있지 않을까?\n",
    "two sample Chi-squared test를 사용하면 \"고지혈증여부와 연령대는 독립이다.\"라는 가설을 검정할 수 있다. \n",
    "Chi-squared test는 categorical data에만 사용할 수 있다는 점"
   ]
  },
  {
   "cell_type": "code",
   "execution_count": 28,
   "id": "da5ebe90",
   "metadata": {},
   "outputs": [
    {
     "name": "stdout",
     "output_type": "stream",
     "text": [
      "chi2-statistic:  86.85848343851364\n",
      "p-value:  6.935858815031033e-15\n"
     ]
    }
   ],
   "source": [
    "from scipy.stats import chi2_contingency\n",
    "\n",
    "# 연령대와 고지혈증 여부 카이제곱 검정 실행\n",
    "crosstab = pd.crosstab(df['age_group'], df['hyperlipidemia'])\n",
    "chi2, p, dof, ex = chi2_contingency(crosstab)\n",
    "print(\"chi2-statistic: \", chi2)\n",
    "print(\"p-value: \", p)\n"
   ]
  },
  {
   "cell_type": "markdown",
   "id": "6901839e",
   "metadata": {},
   "source": [
    "'''카이제곱 검정 결과, chi2-statistic 값이 86.86이고 p-value 값이 6.94e-15로 나왔습니다.\n",
    "p-value 값은 유의수준(alpha)과 비교하여 작을수록 귀무가설을 기각할 수 있는 강력한 증거가 된다는 것을 의미\n",
    "여기서 p-value가 매우 작으므로 귀무가설을 기각. 따라서, 연령대와 고지혈증여부 서로 독립적이지 않은 관계에 있다고 할 수 있습니다.\n",
    "따라서, 연령대와 고지혈증여부에는 유의한 관계가 있으며, 이 관계를 더 자세히 알아보기 위해서는 추가적인 분석이 필요합니다.'''"
   ]
  },
  {
   "cell_type": "code",
   "execution_count": 29,
   "id": "5fc47731",
   "metadata": {},
   "outputs": [
    {
     "name": "stdout",
     "output_type": "stream",
     "text": [
      "chi2-statistic:  432.087043620864\n",
      "p-value:  2.4786656762555877e-93\n"
     ]
    }
   ],
   "source": [
    "# bmi지수기준과 고지혈증 여부 카이제곱 검정 실행\n",
    "crosstab = pd.crosstab(df['bmi_standard'], df['hyperlipidemia'])\n",
    "chi2, p, dof, ex = chi2_contingency(crosstab)\n",
    "print(\"chi2-statistic: \", chi2)\n",
    "print(\"p-value: \", p)"
   ]
  },
  {
   "cell_type": "markdown",
   "id": "6360fb92",
   "metadata": {},
   "source": [
    "\n",
    "'''카이제곱 검정 결과, 통계량 chi2-statistic 값이 407,.36이고, p-value 값이 5.63e-86으로 매우 작게 나왔습니다.\n",
    "p-value가 매우 작으므로 귀무가설을 기각. 따라서, bmi지수와 고지혈증여부는 서로 독립적이지 않은 관계에 있다고 할 수 있습니다.\n",
    "따라서, bmi지수기준과 고지혈증여부 간에는 유의한 관계가 있다.\n",
    "'''"
   ]
  },
  {
   "cell_type": "code",
   "execution_count": 30,
   "id": "27f78969",
   "metadata": {},
   "outputs": [
    {
     "name": "stdout",
     "output_type": "stream",
     "text": [
      "chi2-statistic:  389.15860994196856\n",
      "p-value:  1.2619710582723307e-86\n"
     ]
    }
   ],
   "source": [
    "#성별과 고지혈증 여부 카이제곱 검정 실행\n",
    "crosstab = pd.crosstab(df['sex'], df['hyperlipidemia'])\n",
    "chi2, p, dof, ex = chi2_contingency(crosstab)\n",
    "print(\"chi2-statistic: \", chi2)\n",
    "print(\"p-value: \", p)"
   ]
  },
  {
   "cell_type": "markdown",
   "id": "1fb5dee0",
   "metadata": {},
   "source": [
    "'''카이제곱 검정 결과, 통계량 chi2-statistic 값이 389.16이고, p-value 값이 1.26e-86으로 매우 작게 나왔습니다.\n",
    "p-value가 매우 작으므로 귀무가설을 기각. 따라서, 성별과 고지혈증여부는 서로 독립적이지 않은 관계에 있다고 할 수 있습니다.\n",
    "따라서, 성별과 고지혈증여부 간에는 유의한 관계가 있다."
   ]
  },
  {
   "cell_type": "markdown",
   "id": "4ef68863",
   "metadata": {},
   "source": []
  },
  {
   "cell_type": "code",
   "execution_count": 31,
   "id": "d999f591-58ed-449e-bebe-d107ec94a498",
   "metadata": {},
   "outputs": [
    {
     "data": {
      "text/plain": [
       "<Axes: xlabel='hdl', ylabel='ldl'>"
      ]
     },
     "execution_count": 31,
     "metadata": {},
     "output_type": "execute_result"
    },
    {
     "data": {
      "image/png": "[encoded data removed]",
      "text/plain": [
       "<Figure size 432x288 with 1 Axes>"
      ]
     },
     "metadata": {
      "needs_background": "light"
     },
     "output_type": "display_data"
    }
   ],
   "source": [
    "#산점도를 통해 두 변수 간의 관계가 선형인지 비선형인지 확인하여 방향성과 강도를 파악\n",
    "sns.scatterplot(x='hdl', y='ldl', data=df)"
   ]
  },
  {
   "cell_type": "markdown",
   "id": "91d1f1d6",
   "metadata": {},
   "source": [
    "- hdl이 0-200사이와 ldl이0-500사이에 많이 몰려있다."
   ]
  },
  {
   "cell_type": "code",
   "execution_count": 32,
   "id": "3ecf8186",
   "metadata": {},
   "outputs": [
    {
     "data": {
      "text/plain": [
       "<Axes: xlabel='bmi', ylabel='trigliserida'>"
      ]
     },
     "execution_count": 32,
     "metadata": {},
     "output_type": "execute_result"
    },
    {
     "data": {
      "image/png": "[encoded data removed]",
      "text/plain": [
       "<Figure size 432x288 with 1 Axes>"
      ]
     },
     "metadata": {
      "needs_background": "light"
     },
     "output_type": "display_data"
    }
   ],
   "source": [
    "sns.scatterplot(data=df, x='bmi', y='trigliserida', hue='hyperlipidemia')"
   ]
  },
  {
   "cell_type": "markdown",
   "id": "edc0bb0a",
   "metadata": {},
   "source": [
    "- 고지혈증여부인 사람의 bmi지수가 30,40에 존재하고 트리글리세이드도 높게 나타난다."
   ]
  },
  {
   "cell_type": "code",
   "execution_count": 33,
   "id": "8bf942b2",
   "metadata": {},
   "outputs": [
    {
     "data": {
      "text/html": [
       "<div>\n",
       "<style scoped>\n",
       "    .dataframe tbody tr th:only-of-type {\n",
       "        vertical-align: middle;\n",
       "    }\n",
       "\n",
       "    .dataframe tbody tr th {\n",
       "        vertical-align: top;\n",
       "    }\n",
       "\n",
       "    .dataframe thead th {\n",
       "        text-align: right;\n",
       "    }\n",
       "</style>\n",
       "<table border=\"1\" class=\"dataframe\">\n",
       "  <thead>\n",
       "    <tr style=\"text-align: right;\">\n",
       "      <th></th>\n",
       "      <th>sex</th>\n",
       "      <th>age_group</th>\n",
       "      <th>height</th>\n",
       "      <th>weight</th>\n",
       "      <th>tot_chole</th>\n",
       "      <th>hdl</th>\n",
       "      <th>ldl</th>\n",
       "      <th>trigliserida</th>\n",
       "      <th>bmi</th>\n",
       "      <th>bmi_standard</th>\n",
       "      <th>hyperlipidemia</th>\n",
       "    </tr>\n",
       "  </thead>\n",
       "  <tbody>\n",
       "    <tr>\n",
       "      <th>sex</th>\n",
       "      <td>1.000000</td>\n",
       "      <td>0.065388</td>\n",
       "      <td>-0.720695</td>\n",
       "      <td>-0.553887</td>\n",
       "      <td>0.072455</td>\n",
       "      <td>0.269239</td>\n",
       "      <td>0.049118</td>\n",
       "      <td>-0.193679</td>\n",
       "      <td>-0.169320</td>\n",
       "      <td>-0.180126</td>\n",
       "      <td>-0.031173</td>\n",
       "    </tr>\n",
       "    <tr>\n",
       "      <th>age_group</th>\n",
       "      <td>0.065388</td>\n",
       "      <td>1.000000</td>\n",
       "      <td>-0.365121</td>\n",
       "      <td>-0.235258</td>\n",
       "      <td>-0.179331</td>\n",
       "      <td>-0.077344</td>\n",
       "      <td>-0.148437</td>\n",
       "      <td>-0.058088</td>\n",
       "      <td>-0.020205</td>\n",
       "      <td>0.013490</td>\n",
       "      <td>-0.012586</td>\n",
       "    </tr>\n",
       "    <tr>\n",
       "      <th>height</th>\n",
       "      <td>-0.720695</td>\n",
       "      <td>-0.365121</td>\n",
       "      <td>1.000000</td>\n",
       "      <td>0.661926</td>\n",
       "      <td>-0.000263</td>\n",
       "      <td>-0.170868</td>\n",
       "      <td>0.010629</td>\n",
       "      <td>0.148775</td>\n",
       "      <td>0.091322</td>\n",
       "      <td>0.077552</td>\n",
       "      <td>0.023530</td>\n",
       "    </tr>\n",
       "    <tr>\n",
       "      <th>weight</th>\n",
       "      <td>-0.553887</td>\n",
       "      <td>-0.235258</td>\n",
       "      <td>0.661926</td>\n",
       "      <td>1.000000</td>\n",
       "      <td>-0.000432</td>\n",
       "      <td>-0.294161</td>\n",
       "      <td>0.006121</td>\n",
       "      <td>0.266429</td>\n",
       "      <td>0.801458</td>\n",
       "      <td>0.691098</td>\n",
       "      <td>0.041568</td>\n",
       "    </tr>\n",
       "    <tr>\n",
       "      <th>tot_chole</th>\n",
       "      <td>0.072455</td>\n",
       "      <td>-0.179331</td>\n",
       "      <td>-0.000263</td>\n",
       "      <td>-0.000432</td>\n",
       "      <td>1.000000</td>\n",
       "      <td>0.209850</td>\n",
       "      <td>0.926845</td>\n",
       "      <td>0.220268</td>\n",
       "      <td>-0.004283</td>\n",
       "      <td>-0.004327</td>\n",
       "      <td>0.124985</td>\n",
       "    </tr>\n",
       "    <tr>\n",
       "      <th>hdl</th>\n",
       "      <td>0.269239</td>\n",
       "      <td>-0.077344</td>\n",
       "      <td>-0.170868</td>\n",
       "      <td>-0.294161</td>\n",
       "      <td>0.209850</td>\n",
       "      <td>1.000000</td>\n",
       "      <td>0.032473</td>\n",
       "      <td>-0.303949</td>\n",
       "      <td>-0.254358</td>\n",
       "      <td>-0.247114</td>\n",
       "      <td>-0.087766</td>\n",
       "    </tr>\n",
       "    <tr>\n",
       "      <th>ldl</th>\n",
       "      <td>0.049118</td>\n",
       "      <td>-0.148437</td>\n",
       "      <td>0.010629</td>\n",
       "      <td>0.006121</td>\n",
       "      <td>0.926845</td>\n",
       "      <td>0.032473</td>\n",
       "      <td>1.000000</td>\n",
       "      <td>0.006281</td>\n",
       "      <td>-0.002846</td>\n",
       "      <td>-0.000399</td>\n",
       "      <td>0.147765</td>\n",
       "    </tr>\n",
       "    <tr>\n",
       "      <th>trigliserida</th>\n",
       "      <td>-0.193679</td>\n",
       "      <td>-0.058088</td>\n",
       "      <td>0.148775</td>\n",
       "      <td>0.266429</td>\n",
       "      <td>0.220268</td>\n",
       "      <td>-0.303949</td>\n",
       "      <td>0.006281</td>\n",
       "      <td>1.000000</td>\n",
       "      <td>0.230439</td>\n",
       "      <td>0.217683</td>\n",
       "      <td>0.054812</td>\n",
       "    </tr>\n",
       "    <tr>\n",
       "      <th>bmi</th>\n",
       "      <td>-0.169320</td>\n",
       "      <td>-0.020205</td>\n",
       "      <td>0.091322</td>\n",
       "      <td>0.801458</td>\n",
       "      <td>-0.004283</td>\n",
       "      <td>-0.254358</td>\n",
       "      <td>-0.002846</td>\n",
       "      <td>0.230439</td>\n",
       "      <td>1.000000</td>\n",
       "      <td>0.863586</td>\n",
       "      <td>0.035276</td>\n",
       "    </tr>\n",
       "    <tr>\n",
       "      <th>bmi_standard</th>\n",
       "      <td>-0.180126</td>\n",
       "      <td>0.013490</td>\n",
       "      <td>0.077552</td>\n",
       "      <td>0.691098</td>\n",
       "      <td>-0.004327</td>\n",
       "      <td>-0.247114</td>\n",
       "      <td>-0.000399</td>\n",
       "      <td>0.217683</td>\n",
       "      <td>0.863586</td>\n",
       "      <td>1.000000</td>\n",
       "      <td>0.032567</td>\n",
       "    </tr>\n",
       "    <tr>\n",
       "      <th>hyperlipidemia</th>\n",
       "      <td>-0.031173</td>\n",
       "      <td>-0.012586</td>\n",
       "      <td>0.023530</td>\n",
       "      <td>0.041568</td>\n",
       "      <td>0.124985</td>\n",
       "      <td>-0.087766</td>\n",
       "      <td>0.147765</td>\n",
       "      <td>0.054812</td>\n",
       "      <td>0.035276</td>\n",
       "      <td>0.032567</td>\n",
       "      <td>1.000000</td>\n",
       "    </tr>\n",
       "  </tbody>\n",
       "</table>\n",
       "</div>"
      ],
      "text/plain": [
       "                     sex  age_group    height    weight  tot_chole       hdl  \\\n",
       "sex             1.000000   0.065388 -0.720695 -0.553887   0.072455  0.269239   \n",
       "age_group       0.065388   1.000000 -0.365121 -0.235258  -0.179331 -0.077344   \n",
       "height         -0.720695  -0.365121  1.000000  0.661926  -0.000263 -0.170868   \n",
       "weight         -0.553887  -0.235258  0.661926  1.000000  -0.000432 -0.294161   \n",
       "tot_chole       0.072455  -0.179331 -0.000263 -0.000432   1.000000  0.209850   \n",
       "hdl             0.269239  -0.077344 -0.170868 -0.294161   0.209850  1.000000   \n",
       "ldl             0.049118  -0.148437  0.010629  0.006121   0.926845  0.032473   \n",
       "trigliserida   -0.193679  -0.058088  0.148775  0.266429   0.220268 -0.303949   \n",
       "bmi            -0.169320  -0.020205  0.091322  0.801458  -0.004283 -0.254358   \n",
       "bmi_standard   -0.180126   0.013490  0.077552  0.691098  -0.004327 -0.247114   \n",
       "hyperlipidemia -0.031173  -0.012586  0.023530  0.041568   0.124985 -0.087766   \n",
       "\n",
       "                     ldl  trigliserida       bmi  bmi_standard  hyperlipidemia  \n",
       "sex             0.049118     -0.193679 -0.169320     -0.180126       -0.031173  \n",
       "age_group      -0.148437     -0.058088 -0.020205      0.013490       -0.012586  \n",
       "height          0.010629      0.148775  0.091322      0.077552        0.023530  \n",
       "weight          0.006121      0.266429  0.801458      0.691098        0.041568  \n",
       "tot_chole       0.926845      0.220268 -0.004283     -0.004327        0.124985  \n",
       "hdl             0.032473     -0.303949 -0.254358     -0.247114       -0.087766  \n",
       "ldl             1.000000      0.006281 -0.002846     -0.000399        0.147765  \n",
       "trigliserida    0.006281      1.000000  0.230439      0.217683        0.054812  \n",
       "bmi            -0.002846      0.230439  1.000000      0.863586        0.035276  \n",
       "bmi_standard   -0.000399      0.217683  0.863586      1.000000        0.032567  \n",
       "hyperlipidemia  0.147765      0.054812  0.035276      0.032567        1.000000  "
      ]
     },
     "execution_count": 33,
     "metadata": {},
     "output_type": "execute_result"
    }
   ],
   "source": [
    "df.corr()"
   ]
  },
  {
   "cell_type": "markdown",
   "id": "316ce5f8",
   "metadata": {},
   "source": [
    "- 총 콜레스테롤,LDL콜레스테롤,트리글세라이드,bmi지수와 고지혈증여부사이에 약한 양의 선형 관계가 있음\n",
    "- HDL콜레스테롤과 고지혈증여부 사이에 약한 음의 선형 관계가 있음"
   ]
  },
  {
   "cell_type": "markdown",
   "id": "ce47b25f-0daf-4c0a-a430-adaf84d043ee",
   "metadata": {
    "tags": []
   },
   "source": [
    "### 07. 다변량 분석 Multivariate Analysis\n",
    "- pairplot, 히트맵 등을 그려 두 변수 이상 간의 관계를 분석합니다.\n",
    "- 회귀분석, 군집분석, 분산분석, 구조방정식 모델링 등 분석방법을 적용할 수 있습니다. \n",
    "- 상관계수 0.7기준으로 다중공선성을 확인하여 주성분분석(PCA) 등 적합한 방법을 통해 변수를 선택합니다."
   ]
  },
  {
   "cell_type": "code",
   "execution_count": 34,
   "id": "8c620488",
   "metadata": {
    "scrolled": true
   },
   "outputs": [
    {
     "data": {
      "image/png": "[encoded data removed]",
      "text/plain": [
       "<Figure size 1440x1440 with 2 Axes>"
      ]
     },
     "metadata": {
      "needs_background": "light"
     },
     "output_type": "display_data"
    }
   ],
   "source": [
    "# 히트맵으로 상관관계 표시\n",
    "plt.figure(figsize = (20,20))\n",
    "sns.heatmap(df.corr(), annot = True,annot_kws={\"size\": 20})\n",
    "plt.show()"
   ]
  },
  {
   "cell_type": "markdown",
   "id": "e3a65e8e",
   "metadata": {},
   "source": [
    "### 08. 이상치 탐지 Outlier Detection\n",
    "- 데이터셋에서 이상치를 탐지하고 적절히 처리합니다."
   ]
  },
  {
   "cell_type": "code",
   "execution_count": 35,
   "id": "9bdcac34",
   "metadata": {},
   "outputs": [
    {
     "data": {
      "image/png": "[encoded data removed]",
      "text/plain": [
       "<Figure size 360x720 with 8 Axes>"
      ]
     },
     "metadata": {
      "needs_background": "light"
     },
     "output_type": "display_data"
    }
   ],
   "source": [
    "fig, axes = plt.subplots(4,2, figsize = (5,10))\n",
    "\n",
    "sns.boxplot(y = df['tot_chole'], ax = axes[0][0])\n",
    "sns.boxplot(y = df['trigliserida'], ax = axes[0][1])\n",
    "\n",
    "sns.boxplot(y = df['sex'], ax = axes[1][0])\n",
    "sns.boxplot(y = df['age_group'], ax = axes[1][1])\n",
    "\n",
    "sns.boxplot(y = df['hdl'], ax = axes[2][0])\n",
    "sns.boxplot(y = df['ldl'], ax = axes[2][1])\n",
    "\n",
    "sns.boxplot(y = df['weight'], ax = axes[3][0])\n",
    "sns.boxplot(y = df['bmi'], ax = axes[3][1])\n",
    "\n",
    "plt.tight_layout()\n",
    "plt.show()\n"
   ]
  },
  {
   "cell_type": "markdown",
   "id": "e4163f24",
   "metadata": {
    "tags": []
   },
   "source": [
    "### 09. 데이터 변환 Data Transformation\n",
    "- 스케일링, 인코딩, 결측치 처리 등을 적용하여 데이터를 변환합니다.\n",
    "- 각 데이터의 특성에 따라 처리방법에 대하여 적합한 방법을 선택합니다.\n",
    "- 스케일링 방법 \n",
    ">- Min-Max Scaling : 데이터를 최소값과 최대값을 이용하여 0과 1 사이의 범위로 조정하는 방법입니다.\n",
    ">- Standard Scaling : 데이터의 평균값과 표준편차를 이용하여 표준정규분포 형태로 조정하는 방법입니다.\n",
    ">- MaxAbs Scaling : 데이터의 최대절대값을 이용하여 -1과 1 사이의 범위로 조정하는 방법입니다.\n",
    ">- Robust Scaling : Median과 Interquartile range(IQR)를 이용하여 이상치(outlier)에 영향을 받지 않고 Scaling하는 방법입니다.\n",
    ">- Power Transform : 데이터의 분포가 비대칭(skewed)한 경우, 분포를 정규분포와 같은 형태로 조정하는 방법입니다.\n",
    "- 인코딩 방법(범주형 변수)\n",
    ">- One-hot Encoding : 범주형 변수를 이진형 변수로 변환하는 방법입니다. 2개 이상인 경우에는 사용하는 것이 좋습니다.\n",
    ">- Label Encoding : 범주형 변수의 각 값에 고유한 정수를 부여하는 방법입니다. 정수값이 모델에 영향을 미칠 수 있지만 변수의 값이 매우 많은 경우에는 고려해볼 수도 있습니다.\n",
    "- 결측치 처리 방법\n",
    ">- 결측치가 있는 데이터 행 삭제 : 결측치가 있는 데이터 행을 삭제하는 방법입니다. 하지만 이 경우 데이터의 양이 많지 않을 때는 유용할 수 있지만, 결측치가 많은 경우 데이터의 손실이 크게 일어날 수 있습니다.\n",
    ">- 평균값으로 대체: 결측치가 있는 특성의 평균값으로 결측치를 대체하는 방법입니다. 이 방법은 결측치가 일부인 경우 유용할 수 있습니다.\n",
    ">- 중앙값으로 대체: 결측치가 있는 특성의 중앙값으로 결측치를 대체하는 방법입니다. 이 방법은 이상치가 있을 때 유용할 수 있습니다.\n",
    ">- 최빈값으로 대체: 결측치가 있는 특성의 최빈값으로 결측치를 대체하는 방법입니다. 이 방법은 범주형 데이터에서 유용합니다.\n",
    ">- 다른 특성의 값으로 대체: 다른 특성의 값에 따라 결측치를 대체하는 방법입니다. 예를 들어, 같은 그룹에 속한 데이터들의 평균값으로 결측치를 대체하는 것입니다.\n",
    ">- 모델링을 통한 대체: 다른 특성을 이용하여 결측치를 예측하는 모델을 구축하여 결측치를 대체하는 방법입니다. 이 방법은 데이터 양이 많은 경우에 유용합니다."
   ]
  },
  {
   "cell_type": "code",
   "execution_count": 36,
   "id": "3e25b96d",
   "metadata": {},
   "outputs": [
    {
     "name": "stdout",
     "output_type": "stream",
     "text": [
      "(1000000, 11)\n"
     ]
    }
   ],
   "source": [
    "from sklearn.preprocessing import StandardScaler\n",
    "\n",
    "sdscaler=StandardScaler()\n",
    "sdscaler.fit(df)\n",
    "sd_df=sdscaler.transform(df)\n",
    "sd_df\n",
    "print(sd_df.shape)"
   ]
  },
  {
   "cell_type": "code",
   "execution_count": 37,
   "id": "bc938584",
   "metadata": {},
   "outputs": [],
   "source": [
    "#결측값을 결측값의 뒷 행의 값으로 채우기 \n",
    "df=df.fillna(method='bfill')"
   ]
  },
  {
   "cell_type": "code",
   "execution_count": 38,
   "id": "299953e5",
   "metadata": {},
   "outputs": [
    {
     "data": {
      "text/plain": [
       "sex               0\n",
       "age_group         0\n",
       "height            0\n",
       "weight            0\n",
       "tot_chole         0\n",
       "hdl               0\n",
       "ldl               0\n",
       "trigliserida      0\n",
       "bmi               0\n",
       "bmi_standard      0\n",
       "hyperlipidemia    0\n",
       "dtype: int64"
      ]
     },
     "execution_count": 38,
     "metadata": {},
     "output_type": "execute_result"
    }
   ],
   "source": [
    "df.isnull().sum()"
   ]
  },
  {
   "cell_type": "code",
   "execution_count": 39,
   "id": "852bc2bd",
   "metadata": {},
   "outputs": [],
   "source": [
    "def outlier_iqr(data, col):\n",
    "    #lower(하한),upper(상한) 글로벌 변수 선언하기\n",
    "    global lower,upper\n",
    "    #4분위수 기준 지정하기\n",
    "    q1, q3 =np.quantile(data[col],0.25),np.quantile(data[col],0.75)\n",
    "    #IQR 계산하기\n",
    "    iqr = q3 - q1\n",
    "    #lower,upper 구분값 구하기\n",
    "    lower,upper= q1 - (1.5 * iqr),q3 + (1.5 * iqr)\n",
    "    print('IQR은' , round(iqr,3),'이다.')\n",
    "    print('lower 기준값은' , round(lower,3),'이다.')\n",
    "    print('upper 기준값은' , round(upper,3),'이다.')\n",
    "    \n",
    "    #1사분위수와 4사분위에 속해 있는 데이터 각각 저장하기 \n",
    "    data1 = data[data[col] > upper]\n",
    "    data2 = data[data[col] < lower]\n",
    "    #이상값 총 개수 구하기\n",
    "    return print('총 이상값 개수는',data1.shape[0]+data2.shape[0],'이다.')\n",
    "\n",
    "#주의할점 : 이상값 함수를 적용시키기 위해서는 결측값에 적합한 처리 한 후 함수를 적용해야한다"
   ]
  },
  {
   "cell_type": "code",
   "execution_count": 40,
   "id": "1802fdb7",
   "metadata": {},
   "outputs": [
    {
     "name": "stdout",
     "output_type": "stream",
     "text": [
      "총콜레스테롤 이상값\n",
      "IQR은 55.0 이다.\n",
      "lower 기준값은 87.5 이다.\n",
      "upper 기준값은 307.5 이다.\n",
      "총 이상값 개수는 9578 이다.\n",
      "None\n",
      "\n",
      "HDL콜레스테롤 이상값\n",
      "IQR은 19.0 이다.\n",
      "lower 기준값은 17.5 이다.\n",
      "upper 기준값은 93.5 이다.\n",
      "총 이상값 개수는 18122 이다.\n",
      "None\n",
      "\n",
      "LDL콜레스테롤 이상값\n",
      "IQR은 51.0 이다.\n",
      "lower 기준값은 12.5 이다.\n",
      "upper 기준값은 216.5 이다.\n",
      "총 이상값 개수는 7882 이다.\n",
      "None\n",
      "\n",
      "트리글리세라이드 이상값\n",
      "IQR은 83.0 이다.\n",
      "lower 기준값은 -47.5 이다.\n",
      "upper 기준값은 284.5 이다.\n",
      "총 이상값 개수는 55141 이다.\n",
      "None\n"
     ]
    }
   ],
   "source": [
    "print(\"총콜레스테롤 이상값\")\n",
    "print(outlier_iqr(df,'tot_chole'))\n",
    "\n",
    "print(\"\\nHDL콜레스테롤 이상값\")\n",
    "print(outlier_iqr(df,'hdl'))\n",
    "\n",
    "print(\"\\nLDL콜레스테롤 이상값\")\n",
    "print(outlier_iqr(df,'ldl'))\n",
    "\n",
    "print(\"\\n트리글리세라이드 이상값\")\n",
    "print(outlier_iqr(df,'trigliserida'))"
   ]
  },
  {
   "cell_type": "code",
   "execution_count": 41,
   "id": "5ef22599",
   "metadata": {},
   "outputs": [
    {
     "data": {
      "text/html": [
       "<div>\n",
       "<style scoped>\n",
       "    .dataframe tbody tr th:only-of-type {\n",
       "        vertical-align: middle;\n",
       "    }\n",
       "\n",
       "    .dataframe tbody tr th {\n",
       "        vertical-align: top;\n",
       "    }\n",
       "\n",
       "    .dataframe thead th {\n",
       "        text-align: right;\n",
       "    }\n",
       "</style>\n",
       "<table border=\"1\" class=\"dataframe\">\n",
       "  <thead>\n",
       "    <tr style=\"text-align: right;\">\n",
       "      <th></th>\n",
       "      <th>sex</th>\n",
       "      <th>age_group</th>\n",
       "      <th>height</th>\n",
       "      <th>weight</th>\n",
       "      <th>tot_chole</th>\n",
       "      <th>hdl</th>\n",
       "      <th>ldl</th>\n",
       "      <th>trigliserida</th>\n",
       "      <th>bmi</th>\n",
       "      <th>bmi_standard</th>\n",
       "      <th>hyperlipidemia</th>\n",
       "    </tr>\n",
       "  </thead>\n",
       "  <tbody>\n",
       "    <tr>\n",
       "      <th>count</th>\n",
       "      <td>1000000.000000</td>\n",
       "      <td>1000000.000000</td>\n",
       "      <td>1000000.000000</td>\n",
       "      <td>1000000.000000</td>\n",
       "      <td>1000000.000000</td>\n",
       "      <td>1000000.000000</td>\n",
       "      <td>1000000.000000</td>\n",
       "      <td>1000000.000000</td>\n",
       "      <td>1000000.000000</td>\n",
       "      <td>1000000.000000</td>\n",
       "      <td>1000000.000000</td>\n",
       "    </tr>\n",
       "    <tr>\n",
       "      <th>mean</th>\n",
       "      <td>1.489311</td>\n",
       "      <td>11.917757</td>\n",
       "      <td>160.964085</td>\n",
       "      <td>63.060790</td>\n",
       "      <td>195.613204</td>\n",
       "      <td>56.674339</td>\n",
       "      <td>115.646979</td>\n",
       "      <td>116.720778</td>\n",
       "      <td>24.220048</td>\n",
       "      <td>1.966474</td>\n",
       "      <td>0.005413</td>\n",
       "    </tr>\n",
       "    <tr>\n",
       "      <th>std</th>\n",
       "      <td>0.499886</td>\n",
       "      <td>2.171036</td>\n",
       "      <td>9.197899</td>\n",
       "      <td>12.269907</td>\n",
       "      <td>37.687817</td>\n",
       "      <td>14.713056</td>\n",
       "      <td>37.367428</td>\n",
       "      <td>53.681943</td>\n",
       "      <td>3.543566</td>\n",
       "      <td>0.954246</td>\n",
       "      <td>0.073374</td>\n",
       "    </tr>\n",
       "    <tr>\n",
       "      <th>min</th>\n",
       "      <td>1.000000</td>\n",
       "      <td>9.000000</td>\n",
       "      <td>130.000000</td>\n",
       "      <td>30.000000</td>\n",
       "      <td>54.000000</td>\n",
       "      <td>1.000000</td>\n",
       "      <td>1.000000</td>\n",
       "      <td>2.000000</td>\n",
       "      <td>10.400000</td>\n",
       "      <td>0.000000</td>\n",
       "      <td>0.000000</td>\n",
       "    </tr>\n",
       "    <tr>\n",
       "      <th>25%</th>\n",
       "      <td>1.000000</td>\n",
       "      <td>10.000000</td>\n",
       "      <td>155.000000</td>\n",
       "      <td>55.000000</td>\n",
       "      <td>170.000000</td>\n",
       "      <td>46.000000</td>\n",
       "      <td>89.000000</td>\n",
       "      <td>77.000000</td>\n",
       "      <td>22.000000</td>\n",
       "      <td>1.000000</td>\n",
       "      <td>0.000000</td>\n",
       "    </tr>\n",
       "    <tr>\n",
       "      <th>50%</th>\n",
       "      <td>1.000000</td>\n",
       "      <td>12.000000</td>\n",
       "      <td>160.000000</td>\n",
       "      <td>60.000000</td>\n",
       "      <td>197.000000</td>\n",
       "      <td>55.000000</td>\n",
       "      <td>114.000000</td>\n",
       "      <td>110.000000</td>\n",
       "      <td>23.900000</td>\n",
       "      <td>2.000000</td>\n",
       "      <td>0.000000</td>\n",
       "    </tr>\n",
       "    <tr>\n",
       "      <th>75%</th>\n",
       "      <td>2.000000</td>\n",
       "      <td>13.000000</td>\n",
       "      <td>170.000000</td>\n",
       "      <td>70.000000</td>\n",
       "      <td>222.000000</td>\n",
       "      <td>65.000000</td>\n",
       "      <td>140.000000</td>\n",
       "      <td>146.000000</td>\n",
       "      <td>26.200000</td>\n",
       "      <td>3.000000</td>\n",
       "      <td>0.000000</td>\n",
       "    </tr>\n",
       "    <tr>\n",
       "      <th>max</th>\n",
       "      <td>2.000000</td>\n",
       "      <td>18.000000</td>\n",
       "      <td>195.000000</td>\n",
       "      <td>135.000000</td>\n",
       "      <td>284.000000</td>\n",
       "      <td>280.000000</td>\n",
       "      <td>284.000000</td>\n",
       "      <td>284.000000</td>\n",
       "      <td>57.800000</td>\n",
       "      <td>3.000000</td>\n",
       "      <td>1.000000</td>\n",
       "    </tr>\n",
       "  </tbody>\n",
       "</table>\n",
       "</div>"
      ],
      "text/plain": [
       "                  sex       age_group          height          weight  \\\n",
       "count  1000000.000000  1000000.000000  1000000.000000  1000000.000000   \n",
       "mean         1.489311       11.917757      160.964085       63.060790   \n",
       "std          0.499886        2.171036        9.197899       12.269907   \n",
       "min          1.000000        9.000000      130.000000       30.000000   \n",
       "25%          1.000000       10.000000      155.000000       55.000000   \n",
       "50%          1.000000       12.000000      160.000000       60.000000   \n",
       "75%          2.000000       13.000000      170.000000       70.000000   \n",
       "max          2.000000       18.000000      195.000000      135.000000   \n",
       "\n",
       "            tot_chole             hdl             ldl    trigliserida  \\\n",
       "count  1000000.000000  1000000.000000  1000000.000000  1000000.000000   \n",
       "mean       195.613204       56.674339      115.646979      116.720778   \n",
       "std         37.687817       14.713056       37.367428       53.681943   \n",
       "min         54.000000        1.000000        1.000000        2.000000   \n",
       "25%        170.000000       46.000000       89.000000       77.000000   \n",
       "50%        197.000000       55.000000      114.000000      110.000000   \n",
       "75%        222.000000       65.000000      140.000000      146.000000   \n",
       "max        284.000000      280.000000      284.000000      284.000000   \n",
       "\n",
       "                  bmi    bmi_standard  hyperlipidemia  \n",
       "count  1000000.000000  1000000.000000  1000000.000000  \n",
       "mean        24.220048        1.966474        0.005413  \n",
       "std          3.543566        0.954246        0.073374  \n",
       "min         10.400000        0.000000        0.000000  \n",
       "25%         22.000000        1.000000        0.000000  \n",
       "50%         23.900000        2.000000        0.000000  \n",
       "75%         26.200000        3.000000        0.000000  \n",
       "max         57.800000        3.000000        1.000000  "
      ]
     },
     "execution_count": 41,
     "metadata": {},
     "output_type": "execute_result"
    }
   ],
   "source": [
    "df[\"tot_chole\"] = np.where((df[\"tot_chole\"] < lower) | (df[\"tot_chole\"] > upper), df[\"tot_chole\"].median(), df[\"tot_chole\"])\n",
    "df[\"hdl\"] = np.where((df[\"hdl\"] < lower) | (df[\"hdl\"] > upper), df[\"hdl\"].median(), df[\"hdl\"])\n",
    "df[\"ldl\"] = np.where((df[\"ldl\"] < lower) | (df[\"ldl\"] > upper), df[\"ldl\"].median(), df[\"ldl\"])\n",
    "df[\"trigliserida\"] = np.where((df[\"trigliserida\"] < lower) | (df[\"trigliserida\"] > upper), df[\"trigliserida\"].median(), df[\"trigliserida\"])\n",
    "\n",
    "df.describe()"
   ]
  },
  {
   "cell_type": "code",
   "execution_count": 42,
   "id": "1fd3bd3b",
   "metadata": {},
   "outputs": [
    {
     "name": "stdout",
     "output_type": "stream",
     "text": [
      "훈련 데이터:  (700000, 7)\n",
      "검증 데이터: (300000, 7)\n",
      "회귀식의 기울기 (a) [[-0.88376448 -0.14509105 -0.08618851  0.03676275 -0.37215035  0.06320432\n",
      "   0.0079946 ]]\n",
      "회귀식의 y절편 (b) [-3.75043826]\n",
      "0.9954833333333334\n"
     ]
    }
   ],
   "source": [
    "#종속변수가 범주형일 때 -> 로지스틱 회귀 분석 \n",
    "from sklearn.linear_model import LogisticRegression\n",
    "from sklearn.model_selection import train_test_split\n",
    "\n",
    "lr = LogisticRegression()\n",
    "\n",
    "X = df[['sex','age_group','bmi','tot_chole','hdl','ldl','trigliserida']]\n",
    "y = df['hyperlipidemia']\n",
    "# train data와 test data로 구분 (7:3 비율)\n",
    "\n",
    "X_train, X_test, y_train, y_test = train_test_split(X,y,test_size=0.3, random_state=10)\n",
    "print('훈련 데이터: ', X_train.shape)\n",
    "print('검증 데이터:', X_test.shape)\n",
    "\n",
    "# X_train 훈련시키기\n",
    "lr.fit(X_train,y_train)\n",
    "\n",
    "# 결정계수(R제곱) 조회하기 \n",
    "r_square = lr.score(X_test, y_test)\n",
    "\n",
    "# 기울기\n",
    "print(\"회귀식의 기울기 (a)\", lr.coef_)\n",
    "\n",
    "# y 절편\n",
    "print(\"회귀식의 y절편 (b)\", lr.intercept_)\n",
    "print(r_square)"
   ]
  },
  {
   "cell_type": "markdown",
   "id": "de6f1956",
   "metadata": {},
   "source": [
    "##### 회귀식\n",
    "hyperlipidemia = - 0.88376448  * 'sex' -0.14509105 * 'age_group' 0.08618851 * 'bmi' +0.036762754 * 'tot_chole' -0.37215035 * 'hdl' + 0.06320432 * 'ldl' + 0.0079946 * 'trigliserida' -3.75043826\n",
    " \n",
    "- 총콜레스테롤 수치,LDL콜레스테롤 수치,체질량지수가 높을수록 고지혈증 발생 확률이 높아진다는 것을 의미\n",
    "- 여성보다 남성일 경우,연령이 증가할수록,HDL콜레스테롤 수치가 높을수록 고지혈증 발생 확률이 낮아진다는 것을 의미"
   ]
  },
  {
   "cell_type": "code",
   "execution_count": 43,
   "id": "0ab35d80",
   "metadata": {},
   "outputs": [
    {
     "data": {
      "text/plain": [
       "<seaborn.axisgrid.FacetGrid at 0x48a801eb20>"
      ]
     },
     "execution_count": 43,
     "metadata": {},
     "output_type": "execute_result"
    },
    {
     "data": {
      "image/png": "[encoded data removed]",
      "text/plain": [
       "<Figure size 720x360 with 2 Axes>"
      ]
     },
     "metadata": {
      "needs_background": "light"
     },
     "output_type": "display_data"
    }
   ],
   "source": [
    "sns.lmplot(data=df, x=\"bmi\", y=\"tot_chole\", col=\"sex\")"
   ]
  },
  {
   "cell_type": "code",
   "execution_count": 44,
   "id": "6ac88885",
   "metadata": {},
   "outputs": [
    {
     "data": {
      "text/html": [
       "<div>\n",
       "<style scoped>\n",
       "    .dataframe tbody tr th:only-of-type {\n",
       "        vertical-align: middle;\n",
       "    }\n",
       "\n",
       "    .dataframe tbody tr th {\n",
       "        vertical-align: top;\n",
       "    }\n",
       "\n",
       "    .dataframe thead th {\n",
       "        text-align: right;\n",
       "    }\n",
       "</style>\n",
       "<table border=\"1\" class=\"dataframe\">\n",
       "  <thead>\n",
       "    <tr style=\"text-align: right;\">\n",
       "      <th></th>\n",
       "      <th>VIF Factor</th>\n",
       "      <th>features</th>\n",
       "    </tr>\n",
       "  </thead>\n",
       "  <tbody>\n",
       "    <tr>\n",
       "      <th>0</th>\n",
       "      <td>7.616691</td>\n",
       "      <td>trigliserida</td>\n",
       "    </tr>\n",
       "    <tr>\n",
       "      <th>1</th>\n",
       "      <td>9.503447</td>\n",
       "      <td>sex</td>\n",
       "    </tr>\n",
       "    <tr>\n",
       "      <th>2</th>\n",
       "      <td>22.400653</td>\n",
       "      <td>hdl</td>\n",
       "    </tr>\n",
       "    <tr>\n",
       "      <th>3</th>\n",
       "      <td>23.819073</td>\n",
       "      <td>age_group</td>\n",
       "    </tr>\n",
       "    <tr>\n",
       "      <th>4</th>\n",
       "      <td>29.418863</td>\n",
       "      <td>bmi</td>\n",
       "    </tr>\n",
       "    <tr>\n",
       "      <th>5</th>\n",
       "      <td>41.002606</td>\n",
       "      <td>ldl</td>\n",
       "    </tr>\n",
       "    <tr>\n",
       "      <th>6</th>\n",
       "      <td>117.719117</td>\n",
       "      <td>tot_chole</td>\n",
       "    </tr>\n",
       "  </tbody>\n",
       "</table>\n",
       "</div>"
      ],
      "text/plain": [
       "   VIF Factor      features\n",
       "0    7.616691  trigliserida\n",
       "1    9.503447           sex\n",
       "2   22.400653           hdl\n",
       "3   23.819073     age_group\n",
       "4   29.418863           bmi\n",
       "5   41.002606           ldl\n",
       "6  117.719117     tot_chole"
      ]
     },
     "execution_count": 44,
     "metadata": {},
     "output_type": "execute_result"
    }
   ],
   "source": [
    "from statsmodels.stats.outliers_influence import variance_inflation_factor\n",
    "vif = pd.DataFrame()\n",
    "vif [\"VIF Factor\"] = [variance_inflation_factor(X.values, i) for i in range(X.shape[1])]\n",
    "vif[\"features\"] = X.columns\n",
    "vif = vif.sort_values (\"VIF Factor\"). reset_index(drop=True)\n",
    "vif"
   ]
  },
  {
   "cell_type": "markdown",
   "id": "bc30b87a",
   "metadata": {},
   "source": [
    "- VIF 값(분산팽창지수) 이 10이상(엄격히는 5이상)인 경우, 다중공선성 있다고 판단\n",
    "\n",
    "- 다중공선성을 가지는 독립변수를 하나씩 제거 -> 상관분석에서 상관계수가 0.9 이상인 두 개의 변수를 찾아 먼저 제거해보는 것이 좋습니다. 독립변수를 하나씩 제거하는 과정에서 설명력이 어떻게 변화는지를 체크한 후, 설명력이 유지되거나, 높아지는 변수를 제거합니다.\n",
    "\n",
    "- PCA를 통해 주성분으로 차원을 감소시켜 다중공선성 문제를 해결 "
   ]
  },
  {
   "cell_type": "code",
   "execution_count": 45,
   "id": "578fb3ef",
   "metadata": {},
   "outputs": [],
   "source": [
    "#주성분분석\n",
    "# PCA를 위한 라이브러리\n",
    "from sklearn.preprocessing import StandardScaler\n",
    "from sklearn.decomposition import PCA\n",
    "\n",
    "# 독립 변수들을 표준화\n",
    "x = df[['sex','age_group','bmi','tot_chole','hdl','ldl','trigliserida']]\n",
    "x = StandardScaler().fit_transform(x)"
   ]
  },
  {
   "cell_type": "code",
   "execution_count": 46,
   "id": "8ba1a44a",
   "metadata": {},
   "outputs": [
    {
     "data": {
      "image/png": "[encoded data removed]",
      "text/plain": [
       "<Figure size 432x288 with 1 Axes>"
      ]
     },
     "metadata": {
      "needs_background": "light"
     },
     "output_type": "display_data"
    }
   ],
   "source": [
    "# PCA 모델 적용\n",
    "pca = PCA(n_components=2)\n",
    "principal_components = pca.fit_transform(x)\n",
    "\n",
    "# 주성분으로 이루어진 데이터프레임 생성\n",
    "principal_df = pd.DataFrame(data = principal_components, columns = ['PC1', 'PC2'])\n",
    "\n",
    "# 데이터프레임 합치기\n",
    "final_df = pd.concat([principal_df, df[['hyperlipidemia']]], axis = 1)\n",
    "\n",
    "# 산점도 그리기\n",
    "import matplotlib.pyplot as plt\n",
    "import seaborn as sns\n",
    "\n",
    "sns.scatterplot(x='PC1', y='PC2', hue='hyperlipidemia', data=final_df)\n",
    "plt.show()"
   ]
  },
  {
   "cell_type": "markdown",
   "id": "896eefb4",
   "metadata": {},
   "source": [
    "# 목적2\n",
    "### 성별, 연령,단백뇨에 따라 혈색소"
   ]
  },
  {
   "cell_type": "markdown",
   "id": "104e4ac7",
   "metadata": {},
   "source": [
    "## 03. 데이터 탐색하기 Explore Data"
   ]
  },
  {
   "cell_type": "code",
   "execution_count": 47,
   "id": "b9e4f29e",
   "metadata": {},
   "outputs": [
    {
     "name": "stdout",
     "output_type": "stream",
     "text": [
      "        sex  age_group  orig_prote_cd  smk  drk   hmg\n",
      "0         1          9            1.0  1.0  0.0  15.0\n",
      "1         2         13            1.0  1.0  0.0  12.7\n",
      "2         2         12            1.0  1.0  0.0  12.8\n",
      "3         1         13            1.0  1.0  0.0  16.4\n",
      "4         2         12            1.0  1.0  0.0  12.4\n",
      "...     ...        ...            ...  ...  ...   ...\n",
      "999995    2         13            1.0  1.0  0.0  13.6\n",
      "999996    2         12            1.0  1.0  1.0  14.0\n",
      "999997    1          9            1.0  1.0  1.0  16.0\n",
      "999998    2          9            1.0  1.0  0.0  11.9\n",
      "999999    1         11            1.0  2.0  0.0  14.9\n",
      "\n",
      "[1000000 rows x 6 columns]\n"
     ]
    }
   ],
   "source": [
    "he=health[['sex','age_group','orig_prote_cd','smk','drk','hmg']]\n",
    "print(he)"
   ]
  },
  {
   "cell_type": "code",
   "execution_count": 48,
   "id": "33a197c2",
   "metadata": {},
   "outputs": [
    {
     "name": "stdout",
     "output_type": "stream",
     "text": [
      "<class 'pandas.core.frame.DataFrame'>\n",
      "RangeIndex: 1000000 entries, 0 to 999999\n",
      "Data columns (total 6 columns):\n",
      " #   Column         Non-Null Count    Dtype  \n",
      "---  ------         --------------    -----  \n",
      " 0   sex            1000000 non-null  int64  \n",
      " 1   age_group      1000000 non-null  int64  \n",
      " 2   orig_prote_cd  987859 non-null   float64\n",
      " 3   smk            999657 non-null   float64\n",
      " 4   drk            999804 non-null   float64\n",
      " 5   hmg            992389 non-null   float64\n",
      "dtypes: float64(4), int64(2)\n",
      "memory usage: 45.8 MB\n"
     ]
    }
   ],
   "source": [
    "he.info()"
   ]
  },
  {
   "cell_type": "code",
   "execution_count": 49,
   "id": "27b75e4d",
   "metadata": {},
   "outputs": [
    {
     "data": {
      "text/plain": [
       "sex                  0\n",
       "age_group            0\n",
       "orig_prote_cd    12141\n",
       "smk                343\n",
       "drk                196\n",
       "hmg               7611\n",
       "dtype: int64"
      ]
     },
     "execution_count": 49,
     "metadata": {},
     "output_type": "execute_result"
    }
   ],
   "source": [
    "he.isnull().sum()"
   ]
  },
  {
   "cell_type": "markdown",
   "id": "68f256db",
   "metadata": {},
   "source": [
    "## 04. 기술통계량 계산하기 Descriptive Statistics"
   ]
  },
  {
   "cell_type": "code",
   "execution_count": 50,
   "id": "bc84284d",
   "metadata": {},
   "outputs": [
    {
     "data": {
      "text/html": [
       "<div>\n",
       "<style scoped>\n",
       "    .dataframe tbody tr th:only-of-type {\n",
       "        vertical-align: middle;\n",
       "    }\n",
       "\n",
       "    .dataframe tbody tr th {\n",
       "        vertical-align: top;\n",
       "    }\n",
       "\n",
       "    .dataframe thead th {\n",
       "        text-align: right;\n",
       "    }\n",
       "</style>\n",
       "<table border=\"1\" class=\"dataframe\">\n",
       "  <thead>\n",
       "    <tr style=\"text-align: right;\">\n",
       "      <th></th>\n",
       "      <th>sex</th>\n",
       "      <th>age_group</th>\n",
       "      <th>orig_prote_cd</th>\n",
       "      <th>smk</th>\n",
       "      <th>drk</th>\n",
       "      <th>hmg</th>\n",
       "    </tr>\n",
       "  </thead>\n",
       "  <tbody>\n",
       "    <tr>\n",
       "      <th>count</th>\n",
       "      <td>1000000.000000</td>\n",
       "      <td>1000000.000000</td>\n",
       "      <td>987859.000000</td>\n",
       "      <td>999657.000000</td>\n",
       "      <td>999804.000000</td>\n",
       "      <td>992389.00000</td>\n",
       "    </tr>\n",
       "    <tr>\n",
       "      <th>mean</th>\n",
       "      <td>1.489311</td>\n",
       "      <td>11.917757</td>\n",
       "      <td>1.122333</td>\n",
       "      <td>1.557421</td>\n",
       "      <td>0.584800</td>\n",
       "      <td>14.20946</td>\n",
       "    </tr>\n",
       "    <tr>\n",
       "      <th>std</th>\n",
       "      <td>0.499886</td>\n",
       "      <td>2.171036</td>\n",
       "      <td>0.493386</td>\n",
       "      <td>0.783742</td>\n",
       "      <td>0.492757</td>\n",
       "      <td>1.55418</td>\n",
       "    </tr>\n",
       "    <tr>\n",
       "      <th>min</th>\n",
       "      <td>1.000000</td>\n",
       "      <td>9.000000</td>\n",
       "      <td>1.000000</td>\n",
       "      <td>1.000000</td>\n",
       "      <td>0.000000</td>\n",
       "      <td>1.00000</td>\n",
       "    </tr>\n",
       "    <tr>\n",
       "      <th>25%</th>\n",
       "      <td>1.000000</td>\n",
       "      <td>10.000000</td>\n",
       "      <td>1.000000</td>\n",
       "      <td>1.000000</td>\n",
       "      <td>0.000000</td>\n",
       "      <td>13.20000</td>\n",
       "    </tr>\n",
       "    <tr>\n",
       "      <th>50%</th>\n",
       "      <td>1.000000</td>\n",
       "      <td>12.000000</td>\n",
       "      <td>1.000000</td>\n",
       "      <td>1.000000</td>\n",
       "      <td>1.000000</td>\n",
       "      <td>14.20000</td>\n",
       "    </tr>\n",
       "    <tr>\n",
       "      <th>75%</th>\n",
       "      <td>2.000000</td>\n",
       "      <td>13.000000</td>\n",
       "      <td>1.000000</td>\n",
       "      <td>2.000000</td>\n",
       "      <td>1.000000</td>\n",
       "      <td>15.30000</td>\n",
       "    </tr>\n",
       "    <tr>\n",
       "      <th>max</th>\n",
       "      <td>2.000000</td>\n",
       "      <td>18.000000</td>\n",
       "      <td>6.000000</td>\n",
       "      <td>3.000000</td>\n",
       "      <td>1.000000</td>\n",
       "      <td>25.00000</td>\n",
       "    </tr>\n",
       "  </tbody>\n",
       "</table>\n",
       "</div>"
      ],
      "text/plain": [
       "                  sex       age_group  orig_prote_cd            smk  \\\n",
       "count  1000000.000000  1000000.000000  987859.000000  999657.000000   \n",
       "mean         1.489311       11.917757       1.122333       1.557421   \n",
       "std          0.499886        2.171036       0.493386       0.783742   \n",
       "min          1.000000        9.000000       1.000000       1.000000   \n",
       "25%          1.000000       10.000000       1.000000       1.000000   \n",
       "50%          1.000000       12.000000       1.000000       1.000000   \n",
       "75%          2.000000       13.000000       1.000000       2.000000   \n",
       "max          2.000000       18.000000       6.000000       3.000000   \n",
       "\n",
       "                 drk           hmg  \n",
       "count  999804.000000  992389.00000  \n",
       "mean        0.584800      14.20946  \n",
       "std         0.492757       1.55418  \n",
       "min         0.000000       1.00000  \n",
       "25%         0.000000      13.20000  \n",
       "50%         1.000000      14.20000  \n",
       "75%         1.000000      15.30000  \n",
       "max         1.000000      25.00000  "
      ]
     },
     "execution_count": 50,
     "metadata": {},
     "output_type": "execute_result"
    }
   ],
   "source": [
    "he.describe()"
   ]
  },
  {
   "cell_type": "code",
   "execution_count": 51,
   "id": "1e5e993e",
   "metadata": {},
   "outputs": [
    {
     "data": {
      "text/plain": [
       "count    987859.000000\n",
       "mean          1.122333\n",
       "std           0.493386\n",
       "min           1.000000\n",
       "25%           1.000000\n",
       "50%           1.000000\n",
       "75%           1.000000\n",
       "max           6.000000\n",
       "Name: orig_prote_cd, dtype: float64"
      ]
     },
     "execution_count": 51,
     "metadata": {},
     "output_type": "execute_result"
    }
   ],
   "source": [
    "he['orig_prote_cd'].describe() "
   ]
  },
  {
   "cell_type": "code",
   "execution_count": 52,
   "id": "034764f8",
   "metadata": {},
   "outputs": [
    {
     "name": "stdout",
     "output_type": "stream",
     "text": [
      "성별에 따른 혈색소 수치 평균 sex\n",
      "1    15.147514\n",
      "2    13.225899\n",
      "Name: hmg, dtype: float64\n",
      "\n",
      "흡연여부에 따른 혈색소 수치 평균 smk\n",
      "1.0    13.674270\n",
      "2.0    14.969191\n",
      "3.0    15.241162\n",
      "Name: hmg, dtype: float64\n",
      "\n",
      "음주여부에 따른 혈색소 수치 평균 drk\n",
      "0.0    13.728235\n",
      "1.0    14.547130\n",
      "Name: hmg, dtype: float64\n"
     ]
    }
   ],
   "source": [
    "# 성별에 따른 혈색소 수치 평균\n",
    "sex_mean=he.groupby('sex')['hmg'].mean()\n",
    "# 흡연여부에 따른 혈색소 수치 평균\n",
    "smk_mean=he.groupby('smk')['hmg'].mean()\n",
    "# 음주여부에 따른 혈색소 수치 평균\n",
    "drk_mean=he.groupby('drk')['hmg'].mean()\n",
    "\n",
    "print(\"성별에 따른 혈색소 수치 평균\", sex_mean)\n",
    "print(\"\\n흡연여부에 따른 혈색소 수치 평균\", smk_mean)\n",
    "print(\"\\n음주여부에 따른 혈색소 수치 평균\", drk_mean)"
   ]
  },
  {
   "cell_type": "markdown",
   "id": "6ae9b709",
   "metadata": {},
   "source": [
    "- 남성의 경우 13-16.6g/dL, 여성은 12-15.5g/dL가 정상이다."
   ]
  },
  {
   "cell_type": "markdown",
   "id": "09e079a3",
   "metadata": {},
   "source": [
    "## 05. 단변량 분석 Univariate Analysis"
   ]
  },
  {
   "cell_type": "code",
   "execution_count": 53,
   "id": "14320dc9",
   "metadata": {},
   "outputs": [
    {
     "name": "stdout",
     "output_type": "stream",
     "text": [
      "                 sum_sq        df             F  PR(>F)\n",
      "age_group  6.004140e+04       1.0  25495.555934     0.0\n",
      "Residual   2.337047e+06  992387.0           NaN     NaN\n"
     ]
    }
   ],
   "source": [
    "#일원분산분석\n",
    "import pandas as pd\n",
    "\n",
    "# 데이터 불러오기\n",
    "import statsmodels.api as sm\n",
    "from statsmodels.formula.api import ols\n",
    "\n",
    "# 분산분석 모델 만들기\n",
    "model = ols('hmg ~ age_group', data=he).fit()\n",
    "\n",
    "# 분산분석 결과 출력하기\n",
    "result = sm.stats.anova_lm(model, typ=2)\n",
    "print(result)"
   ]
  },
  {
   "cell_type": "markdown",
   "id": "9cf6fe71",
   "metadata": {},
   "source": [
    "age_group 이라는 변수에 대한 회귀분석에서 추정된 모델의 총 변동을 나타내는 항목인 sum_sq가 1.736342e+05이며, 자유도(df)가 1입니다. 즉, age_group 변수가 종속 변수에 미치는 영향이 있는지를 검정한 결과 F 값이 46321.078792으로 age_group 변수가 종속 변수에 매우 유의한 영향을 미친다는 것을 나타냅니다. PR(>F) 값이 0.0으로 나왔는데, 이는 age_group 변수가 종속 변수에 유의한 영향을 미치는 것으로 해석할 수 있습니다."
   ]
  },
  {
   "cell_type": "markdown",
   "id": "b36716e3",
   "metadata": {},
   "source": [
    "## 06. 이변량 분석 Bivariate Analysis"
   ]
  },
  {
   "cell_type": "code",
   "execution_count": 54,
   "id": "96372486",
   "metadata": {},
   "outputs": [
    {
     "name": "stdout",
     "output_type": "stream",
     "text": [
      "F 검정 통계량:  nan\n",
      "P-value:  nan\n",
      "T 검정 통계량:  nan\n",
      "P-value:  nan\n"
     ]
    }
   ],
   "source": [
    "#독립표본 t-검정\n",
    "from scipy import stats\n",
    "from scipy.stats import ttest_ind, f_oneway\n",
    "\n",
    "man=he[he[\"sex\"] == 1][\"hmg\"]\n",
    "woman = he[he[\"sex\"] == 2][\"hmg\"]\n",
    "\n",
    "f, p = f_oneway(man, woman)\n",
    "\n",
    "print(\"F 검정 통계량: \", f)\n",
    "print(\"P-value: \", p)\n",
    "\n",
    "#T_test\n",
    "t, p = ttest_ind(man, woman, equal_var=False)\n",
    "\n",
    "print(\"T 검정 통계량: \", t)\n",
    "print(\"P-value: \", p)"
   ]
  },
  {
   "cell_type": "markdown",
   "id": "30fc054a",
   "metadata": {},
   "source": [
    "- 분산이 서로 같다는 귀무가설을 기각, 두 분산이 서로 같지 않다고 할수 있다. \n",
    "##### 귀무가설: 남자의 혈색소 평균 수치와 여자의 혈색소 평균 수치는 같다. VS 대립가설: A남자의 혈색소 평균 수치와 여자의 혈색소 평균 수치는 같지 않다.\n",
    "- p-value가 0.00으로,0.05보다 작기 때문에 귀무가설을 기각하고 대립가설을 채택한다."
   ]
  },
  {
   "cell_type": "code",
   "execution_count": 55,
   "id": "175a35a4",
   "metadata": {},
   "outputs": [
    {
     "name": "stdout",
     "output_type": "stream",
     "text": [
      "Non-smoker vs. occasional smoker: t-value = nan, p-value = nan\n",
      "Non-smoker vs. daily smoker: t-value = nan, p-value = nan\n",
      "Occasional smoker vs. daily smoker: t-value = nan, p-value = nan\n"
     ]
    }
   ],
   "source": [
    "#T_test\n",
    "no_smoke = he[he[\"smk\"] == 1][\"hmg\"].values\n",
    "occasional_smoke = he[he[\"smk\"] == 2][\"hmg\"].values\n",
    "daily_smoke = he[he[\"smk\"] == 3][\"hmg\"].values\n",
    "\n",
    "# equal_var=False로 설정하여 Welch's t-test 수행\n",
    "t, p = stats.ttest_ind(no_smoke, occasional_smoke, equal_var=False)\n",
    "print(\"Non-smoker vs. occasional smoker: t-value = %.3f, p-value = %.3f\" % (t, p))\n",
    "\n",
    "t, p = stats.ttest_ind(no_smoke, daily_smoke, equal_var=False)\n",
    "print(\"Non-smoker vs. daily smoker: t-value = %.3f, p-value = %.3f\" % (t, p))\n",
    "\n",
    "t, p = stats.ttest_ind(occasional_smoke, daily_smoke, equal_var=False)\n",
    "print(\"Occasional smoker vs. daily smoker: t-value = %.3f, p-value = %.3f\" % (t, p))"
   ]
  },
  {
   "cell_type": "markdown",
   "id": "689feb29",
   "metadata": {},
   "source": [
    "- p-value가 0.05보다 작기 때문에, 귀무가설을 기각하고 대립가설을 채택합니다. 따라서 흡연 여부에 따라 헤모글로빈 수치가 다르다고 할 수 있습니다\n",
    "- occasional 그룹의 평균 헤모글로빈 수치가 daily smoker 그룹보다 높으며, non-smoker 그룹의 평균 헤모글로빈 수치가 occasional smoker 그룹보다 더 높다는 것을 알 수 있습니다. 이를 통해 흡연 빈도가 증가할수록 헤모글로빈 수치가 낮아진다는 것을 추론할 수 있습니다."
   ]
  },
  {
   "cell_type": "code",
   "execution_count": 56,
   "id": "d7a7351a",
   "metadata": {},
   "outputs": [
    {
     "name": "stdout",
     "output_type": "stream",
     "text": [
      "                sum_sq        df             F  PR(>F)\n",
      "drk       1.612272e+05       1.0  71559.285098     0.0\n",
      "Residual  2.235464e+06  992191.0           NaN     NaN\n"
     ]
    }
   ],
   "source": [
    "#분산분석 방법\n",
    "import pandas as pd\n",
    "import statsmodels.api as sm\n",
    "from statsmodels.formula.api import ols\n",
    "\n",
    "model = ols('hmg ~ drk', data=he).fit() # ANOVA 모델 적합\n",
    "anova_table = sm.stats.anova_lm(model, typ=2) # ANOVA 테이블 생성\n",
    "print(anova_table)"
   ]
  },
  {
   "cell_type": "markdown",
   "id": "35fd4a9e",
   "metadata": {},
   "source": [
    "p-value가 0.05보다 작다면, 두 그룹 간의 평균값 차이가 통계적으로 유의미하다는 것을 의미합니다. 따라서, 음주 여부에 따른 헤모글로빈 수치가 같지 않다는 결론을 내릴 수 있습니다. "
   ]
  },
  {
   "cell_type": "code",
   "execution_count": 57,
   "id": "c0133a8b",
   "metadata": {},
   "outputs": [
    {
     "data": {
      "image/png": "[encoded data removed]",
      "text/plain": [
       "<Figure size 720x720 with 2 Axes>"
      ]
     },
     "metadata": {
      "needs_background": "light"
     },
     "output_type": "display_data"
    }
   ],
   "source": [
    "# 히트맵으로 상관관계 표시\n",
    "plt.figure(figsize = (10,10))\n",
    "sns.heatmap(he.corr(), annot = True,annot_kws={\"size\": 15})\n",
    "plt.show()"
   ]
  },
  {
   "cell_type": "code",
   "execution_count": 58,
   "id": "41ace0ad",
   "metadata": {
    "scrolled": true
   },
   "outputs": [
    {
     "data": {
      "text/html": [
       "<div>\n",
       "<style scoped>\n",
       "    .dataframe tbody tr th:only-of-type {\n",
       "        vertical-align: middle;\n",
       "    }\n",
       "\n",
       "    .dataframe tbody tr th {\n",
       "        vertical-align: top;\n",
       "    }\n",
       "\n",
       "    .dataframe thead th {\n",
       "        text-align: right;\n",
       "    }\n",
       "</style>\n",
       "<table border=\"1\" class=\"dataframe\">\n",
       "  <thead>\n",
       "    <tr style=\"text-align: right;\">\n",
       "      <th></th>\n",
       "      <th>sex</th>\n",
       "      <th>age_group</th>\n",
       "      <th>orig_prote_cd</th>\n",
       "      <th>smk</th>\n",
       "      <th>drk</th>\n",
       "      <th>hmg</th>\n",
       "    </tr>\n",
       "  </thead>\n",
       "  <tbody>\n",
       "    <tr>\n",
       "      <th>sex</th>\n",
       "      <td>1.000000</td>\n",
       "      <td>0.065388</td>\n",
       "      <td>-0.043821</td>\n",
       "      <td>-0.596244</td>\n",
       "      <td>-0.325499</td>\n",
       "      <td>-0.618036</td>\n",
       "    </tr>\n",
       "    <tr>\n",
       "      <th>age_group</th>\n",
       "      <td>0.065388</td>\n",
       "      <td>1.000000</td>\n",
       "      <td>0.024181</td>\n",
       "      <td>-0.162729</td>\n",
       "      <td>-0.335340</td>\n",
       "      <td>-0.158264</td>\n",
       "    </tr>\n",
       "    <tr>\n",
       "      <th>orig_prote_cd</th>\n",
       "      <td>-0.043821</td>\n",
       "      <td>0.024181</td>\n",
       "      <td>1.000000</td>\n",
       "      <td>0.034161</td>\n",
       "      <td>0.004004</td>\n",
       "      <td>0.025892</td>\n",
       "    </tr>\n",
       "    <tr>\n",
       "      <th>smk</th>\n",
       "      <td>-0.596244</td>\n",
       "      <td>-0.162729</td>\n",
       "      <td>0.034161</td>\n",
       "      <td>1.000000</td>\n",
       "      <td>0.313517</td>\n",
       "      <td>0.430544</td>\n",
       "    </tr>\n",
       "    <tr>\n",
       "      <th>drk</th>\n",
       "      <td>-0.325499</td>\n",
       "      <td>-0.335340</td>\n",
       "      <td>0.004004</td>\n",
       "      <td>0.313517</td>\n",
       "      <td>1.000000</td>\n",
       "      <td>0.259366</td>\n",
       "    </tr>\n",
       "    <tr>\n",
       "      <th>hmg</th>\n",
       "      <td>-0.618036</td>\n",
       "      <td>-0.158264</td>\n",
       "      <td>0.025892</td>\n",
       "      <td>0.430544</td>\n",
       "      <td>0.259366</td>\n",
       "      <td>1.000000</td>\n",
       "    </tr>\n",
       "  </tbody>\n",
       "</table>\n",
       "</div>"
      ],
      "text/plain": [
       "                    sex  age_group  orig_prote_cd       smk       drk  \\\n",
       "sex            1.000000   0.065388      -0.043821 -0.596244 -0.325499   \n",
       "age_group      0.065388   1.000000       0.024181 -0.162729 -0.335340   \n",
       "orig_prote_cd -0.043821   0.024181       1.000000  0.034161  0.004004   \n",
       "smk           -0.596244  -0.162729       0.034161  1.000000  0.313517   \n",
       "drk           -0.325499  -0.335340       0.004004  0.313517  1.000000   \n",
       "hmg           -0.618036  -0.158264       0.025892  0.430544  0.259366   \n",
       "\n",
       "                    hmg  \n",
       "sex           -0.618036  \n",
       "age_group     -0.158264  \n",
       "orig_prote_cd  0.025892  \n",
       "smk            0.430544  \n",
       "drk            0.259366  \n",
       "hmg            1.000000  "
      ]
     },
     "execution_count": 58,
     "metadata": {},
     "output_type": "execute_result"
    }
   ],
   "source": [
    "he.corr()"
   ]
  },
  {
   "cell_type": "markdown",
   "id": "2aa88bdd",
   "metadata": {},
   "source": [
    "- sex 변수는 hmg, smk, drk 변수들과 강한 음의 상관관계를 가집니다.\n",
    "- age_group 변수는 sex 변수와 약한 양의 상관관계를 나머지 변수와는 음의 상관관계를 가집니다.\n",
    "- orig_prote_c 변수는  sex,age_group 변수들 음의 상관관계를 hmg,smk.drk는 약한 양의 상관관계를 가집니다."
   ]
  },
  {
   "cell_type": "code",
   "execution_count": 59,
   "id": "2cc04e56",
   "metadata": {},
   "outputs": [
    {
     "data": {
      "image/png": "[encoded data removed]",
      "text/plain": [
       "<Figure size 432x288 with 2 Axes>"
      ]
     },
     "metadata": {
      "needs_background": "light"
     },
     "output_type": "display_data"
    }
   ],
   "source": [
    "plt.subplot(2, 1, 1)  \n",
    "sns.boxplot(x='orig_prote_cd', data=he)\n",
    "\n",
    "plt.subplot(2, 1, 2) \n",
    "sns.boxplot(x='hmg', data=he)\n",
    "\n",
    "plt.tight_layout()\n",
    "plt.show()"
   ]
  },
  {
   "cell_type": "code",
   "execution_count": 60,
   "id": "dfd4c0da",
   "metadata": {},
   "outputs": [
    {
     "data": {
      "text/plain": [
       "<Axes: xlabel='age_group', ylabel='hmg'>"
      ]
     },
     "execution_count": 60,
     "metadata": {},
     "output_type": "execute_result"
    },
    {
     "data": {
      "image/png": "[encoded data removed]",
      "text/plain": [
       "<Figure size 576x288 with 1 Axes>"
      ]
     },
     "metadata": {
      "needs_background": "light"
     },
     "output_type": "display_data"
    }
   ],
   "source": [
    "plt.figure(figsize=(8,4))\n",
    "sns.barplot(data=he, x=\"age_group\", y=\"hmg\", hue=\"sex\")\n"
   ]
  },
  {
   "cell_type": "markdown",
   "id": "9bb36d2a",
   "metadata": {},
   "source": [
    "- 연령이 높을수록 성별이 남성인 사람이 헤모글로빈수치가 더 낮다."
   ]
  },
  {
   "cell_type": "code",
   "execution_count": 61,
   "id": "b4fe042e",
   "metadata": {},
   "outputs": [
    {
     "data": {
      "image/png": "[encoded data removed]",
      "text/plain": [
       "<Figure size 720x288 with 1 Axes>"
      ]
     },
     "metadata": {
      "needs_background": "light"
     },
     "output_type": "display_data"
    }
   ],
   "source": [
    "plt.figure(figsize = (10,4))\n",
    "sns.lineplot(data=he, x=\"orig_prote_cd\", y=\"hmg\", hue=\"sex\")\n",
    "plt.rc('font', family='Malgun Gothic')\n",
    "plt.title('성별에 따른 혈색소를 단백뇨로 구분', fontsize=10, fontweight='bold', position=(0, 0))\n",
    "plt.show()\n"
   ]
  },
  {
   "cell_type": "markdown",
   "id": "09167ef8",
   "metadata": {},
   "source": [
    "- 단백뇨가 1일때 헤모글로빈 수치가높고, 단백뇨가5,6 일때 헤모글로빈 수치가 낮아진다.\n",
    "- 남자가 여자보다 헤모글로빈 수치가 높다\n",
    "- 단백뇨 수치가 3이상이면 문제가 있는건데,,(잘모르겠음)"
   ]
  },
  {
   "cell_type": "markdown",
   "id": "a9f308f3",
   "metadata": {},
   "source": [
    "## 07. 다변량 분석 Multivariate Analysis"
   ]
  },
  {
   "cell_type": "code",
   "execution_count": 62,
   "id": "bb757fe5",
   "metadata": {},
   "outputs": [
    {
     "data": {
      "text/plain": [
       "sex                  0\n",
       "age_group            0\n",
       "orig_prote_cd    12141\n",
       "smk                343\n",
       "drk                196\n",
       "hmg               7611\n",
       "dtype: int64"
      ]
     },
     "execution_count": 62,
     "metadata": {},
     "output_type": "execute_result"
    }
   ],
   "source": [
    "he.isnull().sum()"
   ]
  },
  {
   "cell_type": "code",
   "execution_count": 63,
   "id": "f3254e2e",
   "metadata": {},
   "outputs": [],
   "source": [
    "he=he.dropna()"
   ]
  },
  {
   "cell_type": "code",
   "execution_count": 64,
   "id": "5c2f6a43",
   "metadata": {
    "scrolled": true
   },
   "outputs": [
    {
     "name": "stdout",
     "output_type": "stream",
     "text": [
      "                            OLS Regression Results                            \n",
      "==============================================================================\n",
      "Dep. Variable:                    hmg   R-squared:                       0.401\n",
      "Model:                            OLS   Adj. R-squared:                  0.401\n",
      "Method:                 Least Squares   F-statistic:                 1.322e+05\n",
      "Date:                Wed, 26 Apr 2023   Prob (F-statistic):               0.00\n",
      "Time:                        15:55:44   Log-Likelihood:            -1.5817e+06\n",
      "No. Observations:              987335   AIC:                         3.163e+06\n",
      "Df Residuals:                  987329   BIC:                         3.163e+06\n",
      "Df Model:                           5                                         \n",
      "Covariance Type:            nonrobust                                         \n",
      "=================================================================================\n",
      "                    coef    std err          t      P>|t|      [0.025      0.975]\n",
      "---------------------------------------------------------------------------------\n",
      "const            17.4514      0.011   1538.811      0.000      17.429      17.474\n",
      "sex              -1.7487      0.003   -567.224      0.000      -1.755      -1.743\n",
      "age_group        -0.0755      0.001   -125.779      0.000      -0.077      -0.074\n",
      "smk               0.1421      0.002     72.622      0.000       0.138       0.146\n",
      "drk               0.0590      0.003     21.305      0.000       0.054       0.064\n",
      "orig_prote_cd     0.0037      0.002      1.527      0.127      -0.001       0.009\n",
      "==============================================================================\n",
      "Omnibus:                   149696.872   Durbin-Watson:                   2.001\n",
      "Prob(Omnibus):                  0.000   Jarque-Bera (JB):           494812.984\n",
      "Skew:                          -0.772   Prob(JB):                         0.00\n",
      "Kurtosis:                       6.105   Cond. No.                         119.\n",
      "==============================================================================\n",
      "\n",
      "Notes:\n",
      "[1] Standard Errors assume that the covariance matrix of the errors is correctly specified.\n"
     ]
    }
   ],
   "source": [
    "import statsmodels.api as sm\n",
    "#다중회귀분석\n",
    "X = he[['sex', 'age_group','smk','drk', 'orig_prote_cd']]\n",
    "y = he['hmg']\n",
    "\n",
    "X = sm.add_constant(X)\n",
    "\n",
    "# 다중회귀분석 모형 적합\n",
    "model = sm.OLS(y, X)\n",
    "result = model.fit()\n",
    "\n",
    "# 회귀분석 결과 출력\n",
    "print(result.summary())"
   ]
  },
  {
   "cell_type": "markdown",
   "id": "6c78be6a",
   "metadata": {},
   "source": [
    "- 회귀모형은 타당한가?\n",
    "귀무가설 : 회귀모형은 타당하지 않다.\n",
    "대립가설 : 회귀모형은 타당하다.\n",
    "- 결과\n",
    "Prob (F-statistic) : P-value = 0.00\n",
    "유의확률이 0.000이므로 유의수준 0.05에서 회귀모형은 통계적으로 유의하게 타당한 것으로 나타났다."
   ]
  },
  {
   "cell_type": "markdown",
   "id": "199d22d7",
   "metadata": {},
   "source": [
    "##### 회귀식\n",
    "hmg = -1.7487* 'sex' -0.0755 * 'age_group' + 0.1421 * 'smk'+ 0.0590 * 'drk'+ 0.0037*'orig_prote_cd' + 17.4514\n",
    "  \n",
    "- 연령대가 높아질수록,성별에 따라 혈색소 수치가 낮아질 가능성 있음 \n",
    "- 단백뇨 수치가 높을수록,음주,흡연여부에 따라 혈색소 수치가 높아질 가능성 있음\n",
    "- R-squared 값이 0.401"
   ]
  },
  {
   "cell_type": "markdown",
   "id": "823488c5-69ed-4739-81b1-1ef62e012c44",
   "metadata": {},
   "source": [
    "### 08. 이상치 탐지 Outlier Detection\n",
    "- 데이터셋에서 이상치를 탐지하고 적절히 처리합니다."
   ]
  },
  {
   "cell_type": "code",
   "execution_count": 65,
   "id": "baa9c110",
   "metadata": {},
   "outputs": [
    {
     "data": {
      "image/png": "[encoded data removed]",
      "text/plain": [
       "<Figure size 360x720 with 6 Axes>"
      ]
     },
     "metadata": {
      "needs_background": "light"
     },
     "output_type": "display_data"
    }
   ],
   "source": [
    "fig, axes = plt.subplots(3,2, figsize = (5,10))\n",
    "\n",
    "sns.boxplot(y = he['smk'], ax = axes[0][0])\n",
    "sns.boxplot(y = he['drk'], ax = axes[0][1])\n",
    "\n",
    "sns.boxplot(y = he['sex'], ax = axes[1][0])\n",
    "sns.boxplot(y = he['age_group'], ax = axes[1][1])\n",
    "\n",
    "sns.boxplot(y = he['orig_prote_cd'], ax = axes[2][0])\n",
    "sns.boxplot(y = he['hmg'], ax = axes[2][1])\n",
    "\n",
    "\n",
    "plt.tight_layout()\n",
    "plt.show()\n"
   ]
  },
  {
   "cell_type": "markdown",
   "id": "c7954685",
   "metadata": {},
   "source": [
    "### 09. 데이터 변환 Data Transformation"
   ]
  },
  {
   "cell_type": "code",
   "execution_count": null,
   "id": "56c2afc1",
   "metadata": {},
   "outputs": [],
   "source": []
  },
  {
   "cell_type": "code",
   "execution_count": 66,
   "id": "06c20e9d-7cb0-445d-a5a4-d03b485895d8",
   "metadata": {},
   "outputs": [],
   "source": [
    "def outlier_iqr(data, col):\n",
    "    #lower(하한),upper(상한) 글로벌 변수 선언하기\n",
    "    global lower,upper\n",
    "    #4분위수 기준 지정하기\n",
    "    q1, q3 =np.quantile(data[col],0.25),np.quantile(data[col],0.75)\n",
    "    #IQR 계산하기\n",
    "    iqr = q3 - q1\n",
    "    #lower,upper 구분값 구하기\n",
    "    lower,upper= q1 - (1.5 * iqr),q3 + (1.5 * iqr)\n",
    "    print('IQR은' , round(iqr,3),'이다.')\n",
    "    print('lower 기준값은' , round(lower,3),'이다.')\n",
    "    print('upper 기준값은' , round(upper,3),'이다.')\n",
    "    \n",
    "    #1사분위수와 4사분위에 속해 있는 데이터 각각 저장하기 \n",
    "    data1 = data[data[col] > upper]\n",
    "    data2 = data[data[col] < lower]\n",
    "    #이상값 총 개수 구하기\n",
    "    return print('총 이상값 개수는',data1.shape[0]+data2.shape[0],'이다.')\n",
    "\n",
    "#주의할점 : 이상값 함수를 적용시키기 위해서는 결측값에 적합한 처리 한 후 함수를 적용해야한다"
   ]
  },
  {
   "cell_type": "code",
   "execution_count": 67,
   "id": "02024851",
   "metadata": {},
   "outputs": [
    {
     "name": "stdout",
     "output_type": "stream",
     "text": [
      "혈색소수치 이상값\n",
      "IQR은 2.1 이다.\n",
      "lower 기준값은 10.05 이다.\n",
      "upper 기준값은 18.45 이다.\n",
      "총 이상값 개수는 11727 이다.\n",
      "None\n"
     ]
    }
   ],
   "source": [
    "print(\"혈색소수치 이상값\")\n",
    "print(outlier_iqr(he,'hmg'))"
   ]
  },
  {
   "cell_type": "code",
   "execution_count": 68,
   "id": "ea4bbf49",
   "metadata": {},
   "outputs": [
    {
     "data": {
      "text/html": [
       "<div>\n",
       "<style scoped>\n",
       "    .dataframe tbody tr th:only-of-type {\n",
       "        vertical-align: middle;\n",
       "    }\n",
       "\n",
       "    .dataframe tbody tr th {\n",
       "        vertical-align: top;\n",
       "    }\n",
       "\n",
       "    .dataframe thead th {\n",
       "        text-align: right;\n",
       "    }\n",
       "</style>\n",
       "<table border=\"1\" class=\"dataframe\">\n",
       "  <thead>\n",
       "    <tr style=\"text-align: right;\">\n",
       "      <th></th>\n",
       "      <th>sex</th>\n",
       "      <th>age_group</th>\n",
       "      <th>orig_prote_cd</th>\n",
       "      <th>smk</th>\n",
       "      <th>drk</th>\n",
       "      <th>hmg</th>\n",
       "    </tr>\n",
       "  </thead>\n",
       "  <tbody>\n",
       "    <tr>\n",
       "      <th>count</th>\n",
       "      <td>987335.000000</td>\n",
       "      <td>987335.000000</td>\n",
       "      <td>987335.000000</td>\n",
       "      <td>987335.000000</td>\n",
       "      <td>987335.000000</td>\n",
       "      <td>987335.000000</td>\n",
       "    </tr>\n",
       "    <tr>\n",
       "      <th>mean</th>\n",
       "      <td>1.487745</td>\n",
       "      <td>11.887431</td>\n",
       "      <td>1.122272</td>\n",
       "      <td>1.559448</td>\n",
       "      <td>0.588234</td>\n",
       "      <td>14.258806</td>\n",
       "    </tr>\n",
       "    <tr>\n",
       "      <th>std</th>\n",
       "      <td>0.499850</td>\n",
       "      <td>2.150215</td>\n",
       "      <td>0.493361</td>\n",
       "      <td>0.784425</td>\n",
       "      <td>0.492153</td>\n",
       "      <td>1.440578</td>\n",
       "    </tr>\n",
       "    <tr>\n",
       "      <th>min</th>\n",
       "      <td>1.000000</td>\n",
       "      <td>9.000000</td>\n",
       "      <td>1.000000</td>\n",
       "      <td>1.000000</td>\n",
       "      <td>0.000000</td>\n",
       "      <td>10.100000</td>\n",
       "    </tr>\n",
       "    <tr>\n",
       "      <th>25%</th>\n",
       "      <td>1.000000</td>\n",
       "      <td>10.000000</td>\n",
       "      <td>1.000000</td>\n",
       "      <td>1.000000</td>\n",
       "      <td>0.000000</td>\n",
       "      <td>13.200000</td>\n",
       "    </tr>\n",
       "    <tr>\n",
       "      <th>50%</th>\n",
       "      <td>1.000000</td>\n",
       "      <td>12.000000</td>\n",
       "      <td>1.000000</td>\n",
       "      <td>1.000000</td>\n",
       "      <td>1.000000</td>\n",
       "      <td>14.200000</td>\n",
       "    </tr>\n",
       "    <tr>\n",
       "      <th>75%</th>\n",
       "      <td>2.000000</td>\n",
       "      <td>13.000000</td>\n",
       "      <td>1.000000</td>\n",
       "      <td>2.000000</td>\n",
       "      <td>1.000000</td>\n",
       "      <td>15.300000</td>\n",
       "    </tr>\n",
       "    <tr>\n",
       "      <th>max</th>\n",
       "      <td>2.000000</td>\n",
       "      <td>18.000000</td>\n",
       "      <td>6.000000</td>\n",
       "      <td>3.000000</td>\n",
       "      <td>1.000000</td>\n",
       "      <td>18.400000</td>\n",
       "    </tr>\n",
       "  </tbody>\n",
       "</table>\n",
       "</div>"
      ],
      "text/plain": [
       "                 sex      age_group  orig_prote_cd            smk  \\\n",
       "count  987335.000000  987335.000000  987335.000000  987335.000000   \n",
       "mean        1.487745      11.887431       1.122272       1.559448   \n",
       "std         0.499850       2.150215       0.493361       0.784425   \n",
       "min         1.000000       9.000000       1.000000       1.000000   \n",
       "25%         1.000000      10.000000       1.000000       1.000000   \n",
       "50%         1.000000      12.000000       1.000000       1.000000   \n",
       "75%         2.000000      13.000000       1.000000       2.000000   \n",
       "max         2.000000      18.000000       6.000000       3.000000   \n",
       "\n",
       "                 drk            hmg  \n",
       "count  987335.000000  987335.000000  \n",
       "mean        0.588234      14.258806  \n",
       "std         0.492153       1.440578  \n",
       "min         0.000000      10.100000  \n",
       "25%         0.000000      13.200000  \n",
       "50%         1.000000      14.200000  \n",
       "75%         1.000000      15.300000  \n",
       "max         1.000000      18.400000  "
      ]
     },
     "execution_count": 68,
     "metadata": {},
     "output_type": "execute_result"
    }
   ],
   "source": [
    "he[\"hmg\"] = np.where((he[\"hmg\"] < lower) | (he[\"hmg\"] > upper), he[\"hmg\"].median(), he[\"hmg\"])\n",
    "he.describe()"
   ]
  },
  {
   "cell_type": "code",
   "execution_count": 69,
   "id": "4d5b9e7f",
   "metadata": {},
   "outputs": [
    {
     "name": "stdout",
     "output_type": "stream",
     "text": [
      "                            OLS Regression Results                            \n",
      "==============================================================================\n",
      "Dep. Variable:                    hmg   R-squared:                       0.425\n",
      "Model:                            OLS   Adj. R-squared:                  0.425\n",
      "Method:                 Least Squares   F-statistic:                 1.461e+05\n",
      "Date:                Wed, 26 Apr 2023   Prob (F-statistic):               0.00\n",
      "Time:                        15:55:47   Log-Likelihood:            -1.4880e+06\n",
      "No. Observations:              987335   AIC:                         2.976e+06\n",
      "Df Residuals:                  987329   BIC:                         2.976e+06\n",
      "Df Model:                           5                                         \n",
      "Covariance Type:            nonrobust                                         \n",
      "=================================================================================\n",
      "                    coef    std err          t      P>|t|      [0.025      0.975]\n",
      "---------------------------------------------------------------------------------\n",
      "const            17.4663      0.010   1693.466      0.000      17.446      17.487\n",
      "sex              -1.6679      0.003   -594.887      0.000      -1.673      -1.662\n",
      "age_group        -0.0826      0.001   -151.397      0.000      -0.084      -0.082\n",
      "smk               0.1285      0.002     72.188      0.000       0.125       0.132\n",
      "drk               0.0540      0.003     21.438      0.000       0.049       0.059\n",
      "orig_prote_cd     0.0214      0.002      9.576      0.000       0.017       0.026\n",
      "==============================================================================\n",
      "Omnibus:                    22961.460   Durbin-Watson:                   2.001\n",
      "Prob(Omnibus):                  0.000   Jarque-Bera (JB):            31435.158\n",
      "Skew:                          -0.278   Prob(JB):                         0.00\n",
      "Kurtosis:                       3.675   Cond. No.                         119.\n",
      "==============================================================================\n",
      "\n",
      "Notes:\n",
      "[1] Standard Errors assume that the covariance matrix of the errors is correctly specified.\n"
     ]
    }
   ],
   "source": [
    "#다중선형회귀분석\n",
    "\n",
    "X = he[['sex', 'age_group','smk','drk', 'orig_prote_cd']]\n",
    "y = he['hmg']\n",
    "\n",
    "X = sm.add_constant(X)\n",
    "\n",
    "# 다중회귀분석 모형 적합\n",
    "model = sm.OLS(y, X)\n",
    "result = model.fit()\n",
    "\n",
    "# 회귀분석 결과 출력\n",
    "print(result.summary())"
   ]
  },
  {
   "cell_type": "markdown",
   "id": "51b0029e",
   "metadata": {},
   "source": [
    "##### 회귀식\n",
    "hmg = -1.6519* 'sex' -0.0794 * 'age_group' + 0.1308 * 'smk'+ 0.0545 * 'drk'+ 0.0117*'orig_prote_cd' + 17.4141\n",
    "  \n",
    "- 연령대가 높아질수록,성별에 따라 혈색소 수치가 낮아질 가능성 있음 \n",
    "- 단백뇨 수치가 높을수록,음주,흡연여부에 따라 혈색소 수치가 높아질 가능성 있음\n",
    "- R-squared 값이 0.425"
   ]
  },
  {
   "cell_type": "code",
   "execution_count": 70,
   "id": "5a9ab7e3",
   "metadata": {},
   "outputs": [
    {
     "data": {
      "text/html": [
       "<div>\n",
       "<style scoped>\n",
       "    .dataframe tbody tr th:only-of-type {\n",
       "        vertical-align: middle;\n",
       "    }\n",
       "\n",
       "    .dataframe tbody tr th {\n",
       "        vertical-align: top;\n",
       "    }\n",
       "\n",
       "    .dataframe thead th {\n",
       "        text-align: right;\n",
       "    }\n",
       "</style>\n",
       "<table border=\"1\" class=\"dataframe\">\n",
       "  <thead>\n",
       "    <tr style=\"text-align: right;\">\n",
       "      <th></th>\n",
       "      <th>VIF Factor</th>\n",
       "      <th>features</th>\n",
       "    </tr>\n",
       "  </thead>\n",
       "  <tbody>\n",
       "    <tr>\n",
       "      <th>0</th>\n",
       "      <td>1.002885</td>\n",
       "      <td>orig_prote_cd</td>\n",
       "    </tr>\n",
       "    <tr>\n",
       "      <th>1</th>\n",
       "      <td>1.139809</td>\n",
       "      <td>age_group</td>\n",
       "    </tr>\n",
       "    <tr>\n",
       "      <th>2</th>\n",
       "      <td>1.269862</td>\n",
       "      <td>drk</td>\n",
       "    </tr>\n",
       "    <tr>\n",
       "      <th>3</th>\n",
       "      <td>1.613361</td>\n",
       "      <td>smk</td>\n",
       "    </tr>\n",
       "    <tr>\n",
       "      <th>4</th>\n",
       "      <td>1.625790</td>\n",
       "      <td>sex</td>\n",
       "    </tr>\n",
       "    <tr>\n",
       "      <th>5</th>\n",
       "      <td>88.056165</td>\n",
       "      <td>const</td>\n",
       "    </tr>\n",
       "  </tbody>\n",
       "</table>\n",
       "</div>"
      ],
      "text/plain": [
       "   VIF Factor       features\n",
       "0    1.002885  orig_prote_cd\n",
       "1    1.139809      age_group\n",
       "2    1.269862            drk\n",
       "3    1.613361            smk\n",
       "4    1.625790            sex\n",
       "5   88.056165          const"
      ]
     },
     "execution_count": 70,
     "metadata": {},
     "output_type": "execute_result"
    }
   ],
   "source": [
    "from statsmodels.stats.outliers_influence import variance_inflation_factor\n",
    "vif = pd.DataFrame()\n",
    "vif [\"VIF Factor\"] = [variance_inflation_factor(X.values, i) for i in range(X.shape[1])]\n",
    "vif[\"features\"] = X.columns\n",
    "vif = vif.sort_values (\"VIF Factor\"). reset_index(drop=True)\n",
    "vif"
   ]
  },
  {
   "cell_type": "markdown",
   "id": "15551bd4",
   "metadata": {},
   "source": [
    "- VIF 값(분산팽창지수) 이 10이상(엄격히는 5이상)인 경우, 다중공선성 있다고 판단\n",
    "\n",
    "- 다중공선성을 가지는 독립변수를 하나씩 제거 -> 상관분석에서 상관계수가 0.9 이상인 두 개의 변수를 찾아 먼저 제거해보는 것이 좋습니다. 독립변수를 하나씩 제거하는 과정에서 설명력이 어떻게 변화는지를 체크한 후, 설명력이 유지되거나, 높아지는 변수를 제거합니다.\n",
    "\n",
    "- PCA를 통해 주성분으로 차원을 감소시켜 다중공선성 문제를 해결 "
   ]
  },
  {
   "cell_type": "code",
   "execution_count": 71,
   "id": "87d59e34",
   "metadata": {},
   "outputs": [
    {
     "name": "stdout",
     "output_type": "stream",
     "text": [
      "                            OLS Regression Results                            \n",
      "==============================================================================\n",
      "Dep. Variable:                    hmg   R-squared:                       0.425\n",
      "Model:                            OLS   Adj. R-squared:                  0.425\n",
      "Method:                 Least Squares   F-statistic:                 1.461e+05\n",
      "Date:                Wed, 26 Apr 2023   Prob (F-statistic):               0.00\n",
      "Time:                        15:55:55   Log-Likelihood:            -1.4880e+06\n",
      "No. Observations:              987335   AIC:                         2.976e+06\n",
      "Df Residuals:                  987329   BIC:                         2.976e+06\n",
      "Df Model:                           5                                         \n",
      "Covariance Type:            nonrobust                                         \n",
      "=================================================================================\n",
      "                    coef    std err          t      P>|t|      [0.025      0.975]\n",
      "---------------------------------------------------------------------------------\n",
      "const            17.4663      0.010   1693.466      0.000      17.446      17.487\n",
      "sex              -1.6679      0.003   -594.887      0.000      -1.673      -1.662\n",
      "age_group        -0.0826      0.001   -151.397      0.000      -0.084      -0.082\n",
      "smk               0.1285      0.002     72.188      0.000       0.125       0.132\n",
      "drk               0.0540      0.003     21.438      0.000       0.049       0.059\n",
      "orig_prote_cd     0.0214      0.002      9.576      0.000       0.017       0.026\n",
      "==============================================================================\n",
      "Omnibus:                    22961.460   Durbin-Watson:                   2.001\n",
      "Prob(Omnibus):                  0.000   Jarque-Bera (JB):            31435.158\n",
      "Skew:                          -0.278   Prob(JB):                         0.00\n",
      "Kurtosis:                       3.675   Cond. No.                         119.\n",
      "==============================================================================\n",
      "\n",
      "Notes:\n",
      "[1] Standard Errors assume that the covariance matrix of the errors is correctly specified.\n"
     ]
    }
   ],
   "source": [
    "import statsmodels.api as sm\n",
    "\n",
    "# 종속변수와 설명변수 분리\n",
    "X = he[['sex', 'age_group','smk','drk', 'orig_prote_cd']]\n",
    "y = he['hmg']\n",
    "\n",
    "# 모든 설명변수를 포함한 모델 적합\n",
    "model = sm.OLS(y, sm.add_constant(X)).fit()\n",
    "\n",
    "# 후진제거법 시작\n",
    "while len(X.columns) > 0:\n",
    "    # 현재 모델의 AIC 계산\n",
    "    curr_aic = model.aic\n",
    "    \n",
    "    # 모든 변수를 한 번씩 제외한 후 AIC를 계산하고 최소 AIC를 가지는 변수 선택\n",
    "    aic_list = []\n",
    "    for col in X.columns:\n",
    "        temp_cols = X.columns.drop(col)\n",
    "        temp_model = sm.OLS(y, sm.add_constant(X[temp_cols])).fit()\n",
    "        aic_list.append((col, temp_model.aic))\n",
    "    aic_list.sort(key=lambda x: x[1])\n",
    "    best_col, best_aic = aic_list[0]\n",
    "    \n",
    "    # 현재 모델의 AIC와 비교하여 AIC가 더 낮아지면 해당 변수 제거\n",
    "    if best_aic < curr_aic:\n",
    "        X = X.drop(best_col, axis=1)\n",
    "        model = sm.OLS(y, sm.add_constant(X)).fit()\n",
    "    else:\n",
    "        break\n",
    "\n",
    "# 최종 모델 결과 출력\n",
    "print(model.summary())"
   ]
  },
  {
   "cell_type": "markdown",
   "id": "a8eaf6f8",
   "metadata": {},
   "source": [
    "- 후진제거법으로 제외된 변수는 없으며, 이상치 처리 후 결정계수가 더 높아졌음을 확인"
   ]
  },
  {
   "cell_type": "markdown",
   "id": "c668d9bc-3b94-4410-9d3e-1ba23037b229",
   "metadata": {},
   "source": [
    "### 10. 결론 Conclusion\n",
    "- EDA 과정에서 발견한 결과와 인사이트를 요약합니다."
   ]
  },
  {
   "cell_type": "markdown",
   "id": "bf79044f",
   "metadata": {},
   "source": [
    "## 목적 1\n",
    "\n",
    "- 총콜레스테롤 수치,LDL콜레스테롤 수치,체질량지수가 높을수록 고지혈증 발생 확률이 높아진다는 것을 의미\n",
    "- 여성보다 남성일 경우,연령이 증가할수록,HDL콜레스테롤 수치가 높을수록 고지혈증 발생 확률이 낮아진다는 것을 의미\n",
    "- 이상치 처리 및 표준정규분포를 만들기 위한 스케일링 후 모델링 진행하기\n",
    "\n",
    "##### 결론\n",
    "총콜레스테롤수치,LDL콜레스테롤,체질량 지수가 높은 사람에게 정상수치로 돌아오기 위한 건강관리 방법을 알려주겠습니다."
   ]
  },
  {
   "cell_type": "markdown",
   "id": "a7481226",
   "metadata": {},
   "source": [
    "## 목적 2 \n",
    "- 연령대가 높아질수록,성별에 따라 혈색소 수치가 낮아질 가능성 있음 \n",
    "- 단백뇨 수치가 높을수록,음주,흡연여부에 따라 혈색소 수치가 높아질 가능성 있음\n",
    "- R-squared 값이 0.421(이상치 데이터 처리 후 설명력이 더 좋아졌다.)\n",
    "\n",
    "##### 결론\n",
    "연령대에 맞게 혈색소 수치를 높이는 영양제를 추전해주겠습니다."
   ]
  },
  {
   "cell_type": "code",
   "execution_count": null,
   "id": "cdd7531b",
   "metadata": {},
   "outputs": [],
   "source": []
  }
 ],
 "metadata": {
  "kernelspec": {
   "display_name": "Python 3 (ipykernel)",
   "language": "python",
   "name": "python3"
  },
  "language_info": {
   "codemirror_mode": {
    "name": "ipython",
    "version": 3
   },
   "file_extension": ".py",
   "mimetype": "text/x-python",
   "name": "python",
   "nbconvert_exporter": "python",
   "pygments_lexer": "ipython3",
   "version": "3.9.12"
  }
 },
 "nbformat": 4,
 "nbformat_minor": 5
}
