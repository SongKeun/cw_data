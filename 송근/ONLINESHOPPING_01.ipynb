{
 "cells": [
  {
   "cell_type": "code",
   "execution_count": 1,
   "id": "4638e605",
   "metadata": {
    "collapsed": true
   },
   "outputs": [
    {
     "data": {
      "text/plain": [
       "'\\n-\\xa0분석주제명\\xa0\\n목적 : 판매하는 상품의 타켓 고객에게 광고를 할때 어떤 요일/시간대가 적합한가?\\n\\n-\\xa0분석배경(주제선정\\xa0이유)\\n19년(코로나 이전), 20년(코로나 유행 초기), 21년(코로나 유행 1년 경과)의 온라인쇼핑 데이터를 활용하여 코로나를 전후로 외부활동, 취미활동 등 야외활동에 대한 제한이 있던 상황과 아닌 상황에서 연령대별 주문 건수와 카테고리별 주문 건수를 분석하고 앞으로 온라인 쇼핑 시장의 미래를 예측해보고자 합니다.\\n\\n-\\xa0분석목적(분석가설)\\n1. 평일휴일->다음날이 평일or휴일인 날의 소비 경향(4가지 case)\\n  1) 당일이 평일이고 다음날이 평일or휴일\\n  2) 당일이 휴일이고 다음날이 평일or휴일\\n: 다음날이 평일인 경우와 휴일인 경우를 비교하면 후자의 구매건수가 더 많을 것이다.\\n\\n2. 시간대->오전/오후로 나눠서 분석(퇴근시간 생각)\\n: 보통 09~18시까지 업무시간이고 \\xa0퇴근 후 개인시간을 보내기 때문에 거래건수가 오전보다는 오후에 많을 것이다.\\n\\n3. 연령대, TAG->실내/외, 생필품/사치 … 다양한 그룹으로 나누고 연령별로\\xa0나눠서 분석(MZ세대의 소비 성향)\\n: 20대는 실용적이고 꼭 필요한 제품(생필품)을 구매하기 보다는 개인의 욕구를 충족시키기 위한 제품(사치품)을 30,40,50대 보다 많이 구매할 것이다.\\xa0\\n코로나 이후 실외활동에 필요한 제품보다는 실내활동에 필요한 제품의 주문 건수가 늘었을 것이다.\\n\\n5. CRI_YM->19년/20년/21년 코로나 유행을 기준으로 나누어 분석\\n: 19~20년 사이에 온라인 쇼핑 건수가 최고로 많고 해가 지날수록 줄어들 것이다.\\n\\n-\\xa0데이터건수\\n21558건\\n\\n-\\xa0데이터\\xa0제공\\xa0사이트\\n한국데이터거래소(온라인쇼핑\\xa0요일/시간대별\\xa0이용\\xa0특징)\\n'"
      ]
     },
     "execution_count": 1,
     "metadata": {},
     "output_type": "execute_result"
    }
   ],
   "source": [
    "'''\n",
    "- 분석주제명 \n",
    "목적 : 판매하는 상품의 타켓 고객에게 광고를 할때 어떤 요일/시간대가 적합한가?\n",
    "\n",
    "- 분석배경(주제선정 이유)\n",
    "19년(코로나 이전), 20년(코로나 유행 초기), 21년(코로나 유행 1년 경과)의 온라인쇼핑 데이터를 활용하여 코로나를 전후로 외부활동, 취미활동 등 야외활동에 대한 제한이 있던 상황과 아닌 상황에서 연령대별 주문 건수와 카테고리별 주문 건수를 분석하고 앞으로 온라인 쇼핑 시장의 미래를 예측해보고자 합니다.\n",
    "\n",
    "- 분석목적(분석가설)\n",
    "1. 평일휴일->다음날이 평일or휴일인 날의 소비 경향(4가지 case)\n",
    "  1) 당일이 평일이고 다음날이 평일or휴일\n",
    "  2) 당일이 휴일이고 다음날이 평일or휴일\n",
    ": 다음날이 평일인 경우와 휴일인 경우를 비교하면 후자의 구매건수가 더 많을 것이다.\n",
    "\n",
    "2. 시간대->오전/오후로 나눠서 분석(퇴근시간 생각)\n",
    ": 보통 09~18시까지 업무시간이고  퇴근 후 개인시간을 보내기 때문에 거래건수가 오전보다는 오후에 많을 것이다.\n",
    "\n",
    "3. 연령대, TAG->실내/외, 생필품/사치 … 다양한 그룹으로 나누고 연령별로 나눠서 분석(MZ세대의 소비 성향)\n",
    ": 20대는 실용적이고 꼭 필요한 제품(생필품)을 구매하기 보다는 개인의 욕구를 충족시키기 위한 제품(사치품)을 30,40,50대 보다 많이 구매할 것이다. \n",
    "코로나 이후 실외활동에 필요한 제품보다는 실내활동에 필요한 제품의 주문 건수가 늘었을 것이다.\n",
    "\n",
    "5. CRI_YM->19년/20년/21년 코로나 유행을 기준으로 나누어 분석\n",
    ": 19~20년 사이에 온라인 쇼핑 건수가 최고로 많고 해가 지날수록 줄어들 것이다.\n",
    "\n",
    "- 데이터건수\n",
    "21558건\n",
    "\n",
    "- 데이터 제공 사이트\n",
    "한국데이터거래소(온라인쇼핑 요일/시간대별 이용 특징)\n",
    "'''"
   ]
  },
  {
   "cell_type": "markdown",
   "id": "3f14df4d",
   "metadata": {},
   "source": [
    "### 라이브러리 가져오기"
   ]
  },
  {
   "cell_type": "code",
   "execution_count": 139,
   "id": "f9d199b3",
   "metadata": {},
   "outputs": [],
   "source": [
    "import pandas as pd\n",
    "import numpy as np\n",
    "import matplotlib.pyplot as plt\n",
    "import seaborn as sns\n",
    "\n",
    "from matplotlib import rc\n",
    "rc('font', family='AppleGothic')\n",
    "\n",
    "import warnings\n",
    "warnings.filterwarnings('ignore')"
   ]
  },
  {
   "cell_type": "markdown",
   "id": "fff6b676",
   "metadata": {},
   "source": [
    "### 데이터 불러오기"
   ]
  },
  {
   "cell_type": "code",
   "execution_count": 3,
   "id": "4f8996e8",
   "metadata": {},
   "outputs": [],
   "source": [
    "df=pd.read_excel('/Users/supersong/Documents/python/data/onlineshopping_data.xlsx')"
   ]
  },
  {
   "cell_type": "markdown",
   "id": "141ec4ea",
   "metadata": {},
   "source": [
    "### 데이터 탐색하기"
   ]
  },
  {
   "cell_type": "code",
   "execution_count": 4,
   "id": "e70f8282",
   "metadata": {},
   "outputs": [
    {
     "data": {
      "text/html": [
       "<div>\n",
       "<style scoped>\n",
       "    .dataframe tbody tr th:only-of-type {\n",
       "        vertical-align: middle;\n",
       "    }\n",
       "\n",
       "    .dataframe tbody tr th {\n",
       "        vertical-align: top;\n",
       "    }\n",
       "\n",
       "    .dataframe thead th {\n",
       "        text-align: right;\n",
       "    }\n",
       "</style>\n",
       "<table border=\"1\" class=\"dataframe\">\n",
       "  <thead>\n",
       "    <tr style=\"text-align: right;\">\n",
       "      <th></th>\n",
       "      <th>CRI_YM</th>\n",
       "      <th>TAG</th>\n",
       "      <th>평일휴일</th>\n",
       "      <th>요일</th>\n",
       "      <th>시간대</th>\n",
       "      <th>성별</th>\n",
       "      <th>연령대</th>\n",
       "      <th>건수합계</th>\n",
       "    </tr>\n",
       "  </thead>\n",
       "  <tbody>\n",
       "    <tr>\n",
       "      <th>0</th>\n",
       "      <td>201905</td>\n",
       "      <td>유아용품</td>\n",
       "      <td>평일</td>\n",
       "      <td>목</td>\n",
       "      <td>B.06-10시</td>\n",
       "      <td>F</td>\n",
       "      <td>A.2O대</td>\n",
       "      <td>291</td>\n",
       "    </tr>\n",
       "    <tr>\n",
       "      <th>1</th>\n",
       "      <td>202005</td>\n",
       "      <td>생활/사무용품</td>\n",
       "      <td>평일</td>\n",
       "      <td>월</td>\n",
       "      <td>D.14-18시</td>\n",
       "      <td>M</td>\n",
       "      <td>C.4O대</td>\n",
       "      <td>6225</td>\n",
       "    </tr>\n",
       "    <tr>\n",
       "      <th>2</th>\n",
       "      <td>201905</td>\n",
       "      <td>골프용품</td>\n",
       "      <td>휴일</td>\n",
       "      <td>일</td>\n",
       "      <td>F.22-02시</td>\n",
       "      <td>M</td>\n",
       "      <td>B.3O대</td>\n",
       "      <td>51</td>\n",
       "    </tr>\n",
       "    <tr>\n",
       "      <th>3</th>\n",
       "      <td>202105</td>\n",
       "      <td>화장품</td>\n",
       "      <td>휴일</td>\n",
       "      <td>일</td>\n",
       "      <td>D.14-18시</td>\n",
       "      <td>F</td>\n",
       "      <td>C.4O대</td>\n",
       "      <td>3564</td>\n",
       "    </tr>\n",
       "    <tr>\n",
       "      <th>4</th>\n",
       "      <td>202005</td>\n",
       "      <td>인테리어</td>\n",
       "      <td>평일</td>\n",
       "      <td>월</td>\n",
       "      <td>C.10-14시</td>\n",
       "      <td>F</td>\n",
       "      <td>D.5O대</td>\n",
       "      <td>1101</td>\n",
       "    </tr>\n",
       "  </tbody>\n",
       "</table>\n",
       "</div>"
      ],
      "text/plain": [
       "   CRI_YM      TAG 평일휴일 요일       시간대 성별    연령대  건수합계\n",
       "0  201905     유아용품   평일  목  B.06-10시  F  A.2O대   291\n",
       "1  202005  생활/사무용품   평일  월  D.14-18시  M  C.4O대  6225\n",
       "2  201905     골프용품   휴일  일  F.22-02시  M  B.3O대    51\n",
       "3  202105      화장품   휴일  일  D.14-18시  F  C.4O대  3564\n",
       "4  202005     인테리어   평일  월  C.10-14시  F  D.5O대  1101"
      ]
     },
     "execution_count": 4,
     "metadata": {},
     "output_type": "execute_result"
    }
   ],
   "source": [
    "df.head()"
   ]
  },
  {
   "cell_type": "markdown",
   "id": "a5e67021",
   "metadata": {},
   "source": [
    "* 데이터가 년도, 카테고리, 평일휴일, 요일, 시간대, 성별, 연령대 별로 건수의 합계를 보여줌. 집계된 데이터임을 확인"
   ]
  },
  {
   "cell_type": "code",
   "execution_count": 5,
   "id": "f44924d8",
   "metadata": {},
   "outputs": [
    {
     "data": {
      "text/plain": [
       "(21557, 8)"
      ]
     },
     "execution_count": 5,
     "metadata": {},
     "output_type": "execute_result"
    }
   ],
   "source": [
    "df.shape"
   ]
  },
  {
   "cell_type": "markdown",
   "id": "6885cac4",
   "metadata": {},
   "source": [
    "* 21557개의 행과 8개의 열로 이루어져있음"
   ]
  },
  {
   "cell_type": "code",
   "execution_count": 6,
   "id": "3ee962e1",
   "metadata": {},
   "outputs": [],
   "source": [
    "# 컬럼명을 영어로 변경(한글이 깨질 수도 있기 때문에 컬럼명을 영어로 변경)\n",
    "df.columns=['YM','CATEGORY','HOLIDAY','DAY','HOUR','SEX','AGE','COUNT']"
   ]
  },
  {
   "cell_type": "code",
   "execution_count": 7,
   "id": "fed11f20",
   "metadata": {},
   "outputs": [
    {
     "data": {
      "text/plain": [
       "Index(['YM', 'CATEGORY', 'HOLIDAY', 'DAY', 'HOUR', 'SEX', 'AGE', 'COUNT'], dtype='object')"
      ]
     },
     "execution_count": 7,
     "metadata": {},
     "output_type": "execute_result"
    }
   ],
   "source": [
    "# 영어 컬럼명 확인\n",
    "df.columns"
   ]
  },
  {
   "cell_type": "code",
   "execution_count": 8,
   "id": "188cf809",
   "metadata": {},
   "outputs": [
    {
     "name": "stdout",
     "output_type": "stream",
     "text": [
      "<class 'pandas.core.frame.DataFrame'>\n",
      "RangeIndex: 21557 entries, 0 to 21556\n",
      "Data columns (total 8 columns):\n",
      " #   Column    Non-Null Count  Dtype \n",
      "---  ------    --------------  ----- \n",
      " 0   YM        21557 non-null  int64 \n",
      " 1   CATEGORY  21557 non-null  object\n",
      " 2   HOLIDAY   21557 non-null  object\n",
      " 3   DAY       21557 non-null  object\n",
      " 4   HOUR      21557 non-null  object\n",
      " 5   SEX       21557 non-null  object\n",
      " 6   AGE       21557 non-null  object\n",
      " 7   COUNT     21557 non-null  int64 \n",
      "dtypes: int64(2), object(6)\n",
      "memory usage: 1.3+ MB\n"
     ]
    }
   ],
   "source": [
    "# 데이터 타입 확인\n",
    "df.info()"
   ]
  },
  {
   "cell_type": "markdown",
   "id": "ea99f018",
   "metadata": {},
   "source": [
    "* 데이터 타입이 int과 object로 이루어져있음"
   ]
  },
  {
   "cell_type": "code",
   "execution_count": 9,
   "id": "dcf51a19",
   "metadata": {},
   "outputs": [
    {
     "data": {
      "text/plain": [
       "YM          0\n",
       "CATEGORY    0\n",
       "HOLIDAY     0\n",
       "DAY         0\n",
       "HOUR        0\n",
       "SEX         0\n",
       "AGE         0\n",
       "COUNT       0\n",
       "dtype: int64"
      ]
     },
     "execution_count": 9,
     "metadata": {},
     "output_type": "execute_result"
    }
   ],
   "source": [
    "# 결측치 확인\n",
    "df.isnull().sum()"
   ]
  },
  {
   "cell_type": "markdown",
   "id": "ffb0b5c4",
   "metadata": {},
   "source": [
    "* 모든 컬럼에 결측치가 존재하지 않음을 확인"
   ]
  },
  {
   "cell_type": "code",
   "execution_count": 10,
   "id": "7560f4d9",
   "metadata": {},
   "outputs": [
    {
     "name": "stdout",
     "output_type": "stream",
     "text": [
      "YM\n",
      "유니크값 개수 : 3\n",
      "유니크값 샘플 : [201905 202005 202105]\n",
      "------------------------------\n",
      "COUNT\n",
      "유니크값 개수 : 4135\n",
      "유니크값 샘플 : [ 291 6225   51]\n",
      "------------------------------\n"
     ]
    }
   ],
   "source": [
    "# 데이터 타입별 유니크한 value값(샘플) 및 개수 확인\n",
    "for col in df.select_dtypes('int64').columns.tolist():\n",
    "    print(df[col].name)\n",
    "    print('유니크값 개수 :' ,df[col].nunique())\n",
    "    print('유니크값 샘플 :', df[col].unique()[0:3])\n",
    "    print('------------------------------')"
   ]
  },
  {
   "cell_type": "code",
   "execution_count": 11,
   "id": "76ceb371",
   "metadata": {},
   "outputs": [
    {
     "name": "stdout",
     "output_type": "stream",
     "text": [
      "CATEGORY\n",
      "유니크값 개수 : 14\n",
      "유니크값 샘플 : ['유아용품' '생활/사무용품' '골프용품' '화장품' '인테리어' '식료품' '서적' '홈쇼핑' '가전' '차량정비_부품'\n",
      " '취미용품' '애완용품' '패션' '스포츠의류용품']\n",
      "------------------------------\n",
      "HOLIDAY\n",
      "유니크값 개수 : 2\n",
      "유니크값 샘플 : ['평일' '휴일']\n",
      "------------------------------\n",
      "DAY\n",
      "유니크값 개수 : 7\n",
      "유니크값 샘플 : ['목' '월' '일' '토' '화' '수' '금']\n",
      "------------------------------\n",
      "HOUR\n",
      "유니크값 개수 : 6\n",
      "유니크값 샘플 : ['B.06-10시' 'D.14-18시' 'F.22-02시' 'C.10-14시' 'A.02-06시' 'E.18-22시']\n",
      "------------------------------\n",
      "SEX\n",
      "유니크값 개수 : 2\n",
      "유니크값 샘플 : ['F' 'M']\n",
      "------------------------------\n",
      "AGE\n",
      "유니크값 개수 : 5\n",
      "유니크값 샘플 : ['A.2O대' 'C.4O대' 'B.3O대' 'D.5O대' 'E.60대이상']\n",
      "------------------------------\n"
     ]
    }
   ],
   "source": [
    "for col in df.select_dtypes('object').columns.tolist():\n",
    "    print(df[col].name)\n",
    "    print('유니크값 개수 :' ,df[col].nunique())\n",
    "    print('유니크값 샘플 :', df[col].unique()[0:15])\n",
    "    print('------------------------------')"
   ]
  },
  {
   "cell_type": "markdown",
   "id": "338740f1",
   "metadata": {},
   "source": [
    "### 데이터 변환하기"
   ]
  },
  {
   "cell_type": "code",
   "execution_count": 12,
   "id": "3fcd4452",
   "metadata": {},
   "outputs": [
    {
     "name": "stdout",
     "output_type": "stream",
     "text": [
      "0         7\n",
      "1         2\n",
      "2         1\n",
      "3        13\n",
      "4         8\n",
      "         ..\n",
      "21552    11\n",
      "21553     1\n",
      "21554     4\n",
      "21555     8\n",
      "21556     7\n",
      "Name: CATEGORY, Length: 21557, dtype: int64\n",
      "['가전' '골프용품' '생활/사무용품' '서적' '스포츠의류용품' '식료품' '애완용품' '유아용품' '인테리어' '차량정비_부품'\n",
      " '취미용품' '패션' '홈쇼핑' '화장품']\n"
     ]
    }
   ],
   "source": [
    "# object 데이터 타입의 데이터 값을 수치형으로 변경\n",
    "# CATEGORY\n",
    "CATEGORY=df['CATEGORY']\n",
    "CATEGORY.unique()\n",
    "\n",
    "from sklearn.preprocessing import LabelEncoder\n",
    "le=LabelEncoder()\n",
    "\n",
    "CATEGORY=CATEGORY.values.reshape((-1,1))\n",
    "CATEGORYle=le.fit_transform(CATEGORY)\n",
    "\n",
    "df['CATEGORY']=CATEGORYle.reshape((-1,1))\n",
    "print(df['CATEGORY'])\n",
    "print(le.classes_)"
   ]
  },
  {
   "cell_type": "markdown",
   "id": "49601d19",
   "metadata": {},
   "source": [
    "* Label Encoding : 범주형 변수의 각 값에 고유한 정수를 부여 \n",
    "\n",
    "['가전' '골프용품' '생활/사무용품' '서적' '스포츠의류용품' '식료품' '애완용품' '유아용품' '인테리어' '차량정비_부품'\n",
    " '취미용품' '패션' '홈쇼핑' '화장품'] \n",
    " \n",
    " 순서로 0~13으로 지정"
   ]
  },
  {
   "cell_type": "code",
   "execution_count": 13,
   "id": "34744853",
   "metadata": {},
   "outputs": [],
   "source": [
    "# HOLIDAY(0:평일/1:휴일)\n",
    "df['HOLIDAY'].loc[df['HOLIDAY']=='평일']=0\n",
    "df['HOLIDAY'].loc[df['HOLIDAY']=='휴일']=1\n",
    "\n",
    "# DAY(0~6:월~일)\n",
    "df['DAY'].loc[df['DAY']=='월']=0\n",
    "df['DAY'].loc[df['DAY']=='화']=1\n",
    "df['DAY'].loc[df['DAY']=='수']=2\n",
    "df['DAY'].loc[df['DAY']=='목']=3\n",
    "df['DAY'].loc[df['DAY']=='금']=4\n",
    "df['DAY'].loc[df['DAY']=='토']=5\n",
    "df['DAY'].loc[df['DAY']=='일']=6\n",
    "\n",
    "# HOUR(0:02-06/1:06-10/2:10-14/3:14-18/4:18-22/5:22-02)\n",
    "df['HOUR'].loc[df['HOUR']=='A.02-06시']=0\n",
    "df['HOUR'].loc[df['HOUR']=='B.06-10시']=1\n",
    "df['HOUR'].loc[df['HOUR']=='C.10-14시']=2\n",
    "df['HOUR'].loc[df['HOUR']=='D.14-18시']=3\n",
    "df['HOUR'].loc[df['HOUR']=='E.18-22시']=4\n",
    "df['HOUR'].loc[df['HOUR']=='F.22-02시']=5\n",
    "\n",
    "# SEX(0:여/1:남)\n",
    "df['SEX'].loc[df['SEX']=='F']=0\n",
    "df['SEX'].loc[df['SEX']=='M']=1\n",
    "\n",
    "# AGE(20~50:20대~50대/60:60대이상)\n",
    "df['AGE'].loc[df['AGE']=='A.2O대']=20\n",
    "df['AGE'].loc[df['AGE']=='B.3O대']=30\n",
    "df['AGE'].loc[df['AGE']=='C.4O대']=40\n",
    "df['AGE'].loc[df['AGE']=='D.5O대']=50\n",
    "df['AGE'].loc[df['AGE']=='E.60대이상']=60"
   ]
  },
  {
   "cell_type": "code",
   "execution_count": 14,
   "id": "81daa111",
   "metadata": {},
   "outputs": [],
   "source": [
    "df[['HOLIDAY','DAY','HOUR','SEX','AGE']]=df[['HOLIDAY','DAY','HOUR','SEX','AGE']].astype('int')"
   ]
  },
  {
   "cell_type": "markdown",
   "id": "72694ec4",
   "metadata": {},
   "source": [
    "* 나머지 object 데이터 타입의 데이터 값을 수치형으로 변경"
   ]
  },
  {
   "cell_type": "markdown",
   "id": "3b1d0ef4",
   "metadata": {},
   "source": [
    "### 파생변수 생성"
   ]
  },
  {
   "cell_type": "code",
   "execution_count": 15,
   "id": "78300ea0",
   "metadata": {},
   "outputs": [],
   "source": [
    "# CORONA 변수 생성 [0:19년05월(코로나 이전)/1:20년05월(코로나 유행 초기)/2:21년05월(코로나 유행 1년 경과)]\n",
    "df['CORONA']=np.nan\n",
    "df['CORONA'].loc[df['YM']==201905]=0\n",
    "df['CORONA'].loc[df['YM']==202005]=1\n",
    "df['CORONA'].loc[df['YM']==202105]=2\n",
    "\n",
    "df['CORONA']=df['CORONA'].astype('int')"
   ]
  },
  {
   "cell_type": "code",
   "execution_count": 16,
   "id": "d9421849",
   "metadata": {},
   "outputs": [],
   "source": [
    "# AMPM 변수 생성 [시간대->오전(0,1,2)/오후(3,4,5)로 나눔]\n",
    "# 0:02-06/1:06-10/2:10-14/3:14-18/4:18-22/5:22-02\n",
    "AM=[0,1,2]\n",
    "PM=[3,4,5]\n",
    "\n",
    "df['AMPM']=np.nan\n",
    "df['AMPM'].loc[df['HOUR'].isin(AM)]=0\n",
    "df['AMPM'].loc[df['HOUR'].isin(PM)]=1\n",
    "\n",
    "df['AMPM']=df['AMPM'].astype('int')"
   ]
  },
  {
   "cell_type": "code",
   "execution_count": 17,
   "id": "61c91815",
   "metadata": {},
   "outputs": [],
   "source": [
    "# GENERATION 변수 생성 [0:z세대(20)(1997년생~)/1:밀레니얼 세대(30)(1981~1996년생)/2:x세대(40~50)(1965~1980년생)/3:베이비붐세대(60)(1946~1964년생)]\n",
    "\n",
    "df['GENERATION']=np.nan\n",
    "df['GENERATION'].loc[df['AGE']==20]=0\n",
    "df['GENERATION'].loc[df['AGE']==30]=1\n",
    "df['GENERATION'].loc[(df['AGE']==40)|(df['AGE']==50)]=2\n",
    "df['GENERATION'].loc[df['AGE']==60]=3\n",
    "\n",
    "df['GENERATION']=df['GENERATION'].astype('int')"
   ]
  },
  {
   "cell_type": "code",
   "execution_count": 18,
   "id": "78619e64",
   "metadata": {},
   "outputs": [],
   "source": [
    "# NECESSITY 변수 생성 [생필품:(0,2,5,6,7,9,12,13)/사치품:(1,3,4,8,10,11)]\n",
    "# 생필품 : 가전, 생활/사무용품, 식료품, 애완용품, 유아용품, 차량정비_부품, 홈쇼핑, 화장품\n",
    "# 사치품 : 골프용품, 서적, 스포츠의류용품, 인테리어, 취미용품, 패션\n",
    "necessity=[0,2,5,6,7,9,12,13]\n",
    "luxury=[1,3,4,8,10,11]\n",
    "\n",
    "df['NECESSITY']=np.nan\n",
    "df['NECESSITY'].loc[df['CATEGORY'].isin(necessity)]=0\n",
    "df['NECESSITY'].loc[df['CATEGORY'].isin(luxury)]=1\n",
    "\n",
    "df['NECESSITY']=df['NECESSITY'].astype('int')"
   ]
  },
  {
   "cell_type": "markdown",
   "id": "1c1382c0",
   "metadata": {},
   "source": [
    "### 이상치 처리"
   ]
  },
  {
   "cell_type": "code",
   "execution_count": 228,
   "id": "17279835",
   "metadata": {},
   "outputs": [
    {
     "data": {
      "text/plain": [
       "{'whiskers': [<matplotlib.lines.Line2D at 0x7f861ae04f40>,\n",
       "  <matplotlib.lines.Line2D at 0x7f861ae16250>],\n",
       " 'caps': [<matplotlib.lines.Line2D at 0x7f861ae16520>,\n",
       "  <matplotlib.lines.Line2D at 0x7f861ae167f0>],\n",
       " 'boxes': [<matplotlib.lines.Line2D at 0x7f861ae04d90>],\n",
       " 'medians': [<matplotlib.lines.Line2D at 0x7f861ae16ac0>],\n",
       " 'fliers': [<matplotlib.lines.Line2D at 0x7f861ae16d90>],\n",
       " 'means': []}"
      ]
     },
     "execution_count": 228,
     "metadata": {},
     "output_type": "execute_result"
    },
    {
     "data": {
      "image/png": "[encoded data removed]",
      "text/plain": [
       "<Figure size 640x480 with 1 Axes>"
      ]
     },
     "metadata": {},
     "output_type": "display_data"
    }
   ],
   "source": [
    "plt.boxplot(df['COUNT'])"
   ]
  },
  {
   "cell_type": "code",
   "execution_count": 239,
   "id": "dc65679b",
   "metadata": {},
   "outputs": [
    {
     "data": {
      "text/plain": [
       "20783    19261\n",
       "4693     17797\n",
       "11543    16402\n",
       "8709     16281\n",
       "6172     16258\n",
       "         ...  \n",
       "14978        3\n",
       "10693        3\n",
       "13959        3\n",
       "8491         3\n",
       "10976        3\n",
       "Name: COUNT, Length: 21557, dtype: int64"
      ]
     },
     "execution_count": 239,
     "metadata": {},
     "output_type": "execute_result"
    }
   ],
   "source": [
    "df['COUNT'].sort_values(ascending=False)"
   ]
  },
  {
   "cell_type": "markdown",
   "id": "5c1e072d",
   "metadata": {},
   "source": [
    "* 온라인쇼핑 데이터에서 수치형 데이터인 COUNT컬럼의 값만 확인했지만 집계된 데이터(거래건수합계)라 이상치 처리X."
   ]
  },
  {
   "cell_type": "markdown",
   "id": "81b4cb56",
   "metadata": {},
   "source": [
    "## 단변량분석"
   ]
  },
  {
   "cell_type": "markdown",
   "id": "8e582127",
   "metadata": {},
   "source": [
    "### - YM, CATEGORY, HOLIDAY, DAY, HOUR, SEX, AGE"
   ]
  },
  {
   "cell_type": "code",
   "execution_count": 19,
   "id": "3fa97325",
   "metadata": {},
   "outputs": [
    {
     "data": {
      "text/plain": [
       "<AxesSubplot:xlabel='DAY', ylabel='count'>"
      ]
     },
     "execution_count": 19,
     "metadata": {},
     "output_type": "execute_result"
    },
    {
     "data": {
      "image/png": "[encoded data removed]",
      "text/plain": [
       "<Figure size 1800x800 with 4 Axes>"
      ]
     },
     "metadata": {},
     "output_type": "display_data"
    }
   ],
   "source": [
    "# YM, CATEGORY, HOLIDAY, DAY\n",
    "plt.figure(figsize=(18,8))\n",
    "\n",
    "plt.subplot(2,2,1)\n",
    "sns.countplot(df['YM'])\n",
    "plt.subplot(2,2,2)\n",
    "sns.countplot(df['CATEGORY'])\n",
    "plt.subplot(2,2,3)\n",
    "sns.countplot(df['HOLIDAY'])\n",
    "plt.subplot(2,2,4)\n",
    "sns.countplot(df['DAY'])"
   ]
  },
  {
   "cell_type": "markdown",
   "id": "a441f869",
   "metadata": {},
   "source": [
    "* YM : 세개의 년도를 비교하였을때 비슷한 데이터수가 나올것이라 예상했지만, 21년도의 데이터수가 19,20년도 데이터수보다 작음을 확인.\n",
    ">- 19년도 5월 공휴일(어린이날:월,근로자의날:수)/20년도 5월 공휴일(어린이날:화,근로자의날:금)/21년도 5월 공휴일(어린이날,부처님오신날:수)\n",
    ">- 19,20년도 공휴일은 겹치지 않는 요일로 2개의 평일의 데이터에 추가되었고 21년도 5월 공휴일은 겹치는 요일로 1개의 평일의 데이터에 추가됨.\n",
    ">- 그래서 공휴일이면서 평일 하루의 데이터만큼 2021년도 데이터 수가 차이남.\n",
    "* CATEGORY : 0~13까지의 카테고리 데이터수를 비교하였을때, 1(골프용품)의 데이터수가 작음을 확인.\n",
    ">- 골프용품을 구매하지 않는 연령대나 시간대가 존재할 것으로 예상.\n",
    "* HOLIDAY : 월화수목금(평일), 토일(휴일)로 생각하여 데이터수가 5:2를 예상했지만 공휴일이 휴일에 포함되어 데이터수가 4:3으로 나타남.\n",
    ">- 평일이면서 공휴일인 경우가 존재할 것으로 예상.\n",
    "* DAY : 목토일(3,5,6), 월화금(0,1,4), 수(2) 순서로 데이터수가 많음.\n",
    ">- 19년도 5월 공휴일(어린이날:월,근로자의날:수)/20년도 5월 공휴일(어린이날:화,근로자의날:금)/21년도 5월 공휴일(어린이날,부처님오신날:수)\n",
    ">- 요일별 추가된 공휴일 : 월(19년도), 화(20년도), 수(19,21년도), 금(20년도)이므로 목토일, 월화금, 수요일 순서로 데이터수가 많음."
   ]
  },
  {
   "cell_type": "code",
   "execution_count": 20,
   "id": "55d7d2ad",
   "metadata": {},
   "outputs": [
    {
     "data": {
      "text/plain": [
       "<AxesSubplot:xlabel='AGE', ylabel='count'>"
      ]
     },
     "execution_count": 20,
     "metadata": {},
     "output_type": "execute_result"
    },
    {
     "data": {
      "image/png": "[encoded data removed]",
      "text/plain": [
       "<Figure size 1800x400 with 3 Axes>"
      ]
     },
     "metadata": {},
     "output_type": "display_data"
    }
   ],
   "source": [
    "# HOUR, SEX, AGE\n",
    "plt.figure(figsize=(18,4))\n",
    "\n",
    "plt.subplot(1,3,1)\n",
    "sns.countplot(df['HOUR'])\n",
    "plt.subplot(1,3,2)\n",
    "sns.countplot(df['SEX'])\n",
    "plt.subplot(1,3,3)\n",
    "sns.countplot(df['AGE'])"
   ]
  },
  {
   "cell_type": "markdown",
   "id": "112b1ad8",
   "metadata": {},
   "source": [
    "* HOUR : 02-06 시간대의 데이터수가 다른 시간대 데이터수보다 적음을 확인.\n",
    ">- 02-06 시간대에 거래를 하지않은 카테고리나 연령대가 있을 것으로 예상.\n",
    "* SEX : 남녀의 데이터수가 비슷함을 확인.\n",
    "\n",
    "\n",
    "* AGE : 40대>30대>50대>20대>60대이상 순으로 나이대별 데이터수가 차이남을 확인."
   ]
  },
  {
   "cell_type": "markdown",
   "id": "62098490",
   "metadata": {},
   "source": [
    "## 다변량 분석"
   ]
  },
  {
   "cell_type": "markdown",
   "id": "9cfd8c82",
   "metadata": {},
   "source": [
    "### - 카테고리/년도별 거래건수 분석"
   ]
  },
  {
   "cell_type": "code",
   "execution_count": 214,
   "id": "d71fb8d2",
   "metadata": {},
   "outputs": [
    {
     "data": {
      "text/html": [
       "<div>\n",
       "<style scoped>\n",
       "    .dataframe tbody tr th:only-of-type {\n",
       "        vertical-align: middle;\n",
       "    }\n",
       "\n",
       "    .dataframe tbody tr th {\n",
       "        vertical-align: top;\n",
       "    }\n",
       "\n",
       "    .dataframe thead th {\n",
       "        text-align: right;\n",
       "    }\n",
       "</style>\n",
       "<table border=\"1\" class=\"dataframe\">\n",
       "  <thead>\n",
       "    <tr style=\"text-align: right;\">\n",
       "      <th></th>\n",
       "      <th>TAG</th>\n",
       "      <th>diff_1920</th>\n",
       "      <th>diff_1921</th>\n",
       "      <th>diff_2021</th>\n",
       "      <th>percent_1920</th>\n",
       "      <th>percent_1921</th>\n",
       "      <th>percent_2021</th>\n",
       "    </tr>\n",
       "    <tr>\n",
       "      <th>CATEGORY</th>\n",
       "      <th></th>\n",
       "      <th></th>\n",
       "      <th></th>\n",
       "      <th></th>\n",
       "      <th></th>\n",
       "      <th></th>\n",
       "      <th></th>\n",
       "    </tr>\n",
       "  </thead>\n",
       "  <tbody>\n",
       "    <tr>\n",
       "      <th>0</th>\n",
       "      <td>가전</td>\n",
       "      <td>116914</td>\n",
       "      <td>219580</td>\n",
       "      <td>102666</td>\n",
       "      <td>41.02</td>\n",
       "      <td>77.03</td>\n",
       "      <td>25.54</td>\n",
       "    </tr>\n",
       "    <tr>\n",
       "      <th>1</th>\n",
       "      <td>골프용품</td>\n",
       "      <td>13147</td>\n",
       "      <td>17284</td>\n",
       "      <td>4137</td>\n",
       "      <td>87.09</td>\n",
       "      <td>114.49</td>\n",
       "      <td>14.65</td>\n",
       "    </tr>\n",
       "    <tr>\n",
       "      <th>2</th>\n",
       "      <td>생활/사무용품</td>\n",
       "      <td>464417</td>\n",
       "      <td>689844</td>\n",
       "      <td>225427</td>\n",
       "      <td>61.16</td>\n",
       "      <td>90.85</td>\n",
       "      <td>18.42</td>\n",
       "    </tr>\n",
       "    <tr>\n",
       "      <th>3</th>\n",
       "      <td>서적</td>\n",
       "      <td>40912</td>\n",
       "      <td>61812</td>\n",
       "      <td>20900</td>\n",
       "      <td>18.72</td>\n",
       "      <td>28.28</td>\n",
       "      <td>8.06</td>\n",
       "    </tr>\n",
       "    <tr>\n",
       "      <th>4</th>\n",
       "      <td>스포츠의류용품</td>\n",
       "      <td>53349</td>\n",
       "      <td>64981</td>\n",
       "      <td>11632</td>\n",
       "      <td>54.61</td>\n",
       "      <td>66.52</td>\n",
       "      <td>7.70</td>\n",
       "    </tr>\n",
       "    <tr>\n",
       "      <th>5</th>\n",
       "      <td>식료품</td>\n",
       "      <td>421540</td>\n",
       "      <td>798901</td>\n",
       "      <td>377361</td>\n",
       "      <td>65.60</td>\n",
       "      <td>124.32</td>\n",
       "      <td>35.46</td>\n",
       "    </tr>\n",
       "    <tr>\n",
       "      <th>6</th>\n",
       "      <td>애완용품</td>\n",
       "      <td>36256</td>\n",
       "      <td>56602</td>\n",
       "      <td>20346</td>\n",
       "      <td>57.90</td>\n",
       "      <td>90.39</td>\n",
       "      <td>20.58</td>\n",
       "    </tr>\n",
       "    <tr>\n",
       "      <th>7</th>\n",
       "      <td>유아용품</td>\n",
       "      <td>29114</td>\n",
       "      <td>49501</td>\n",
       "      <td>20387</td>\n",
       "      <td>18.42</td>\n",
       "      <td>31.31</td>\n",
       "      <td>10.89</td>\n",
       "    </tr>\n",
       "    <tr>\n",
       "      <th>8</th>\n",
       "      <td>인테리어</td>\n",
       "      <td>163161</td>\n",
       "      <td>201941</td>\n",
       "      <td>38780</td>\n",
       "      <td>73.30</td>\n",
       "      <td>90.72</td>\n",
       "      <td>10.05</td>\n",
       "    </tr>\n",
       "    <tr>\n",
       "      <th>9</th>\n",
       "      <td>차량정비_부품</td>\n",
       "      <td>31501</td>\n",
       "      <td>40579</td>\n",
       "      <td>9078</td>\n",
       "      <td>51.63</td>\n",
       "      <td>66.51</td>\n",
       "      <td>9.81</td>\n",
       "    </tr>\n",
       "    <tr>\n",
       "      <th>10</th>\n",
       "      <td>취미용품</td>\n",
       "      <td>52169</td>\n",
       "      <td>73912</td>\n",
       "      <td>21743</td>\n",
       "      <td>63.88</td>\n",
       "      <td>90.51</td>\n",
       "      <td>16.25</td>\n",
       "    </tr>\n",
       "    <tr>\n",
       "      <th>11</th>\n",
       "      <td>패션</td>\n",
       "      <td>396308</td>\n",
       "      <td>570519</td>\n",
       "      <td>174211</td>\n",
       "      <td>32.51</td>\n",
       "      <td>46.80</td>\n",
       "      <td>10.79</td>\n",
       "    </tr>\n",
       "    <tr>\n",
       "      <th>12</th>\n",
       "      <td>홈쇼핑</td>\n",
       "      <td>259073</td>\n",
       "      <td>285384</td>\n",
       "      <td>26311</td>\n",
       "      <td>24.89</td>\n",
       "      <td>27.42</td>\n",
       "      <td>2.02</td>\n",
       "    </tr>\n",
       "    <tr>\n",
       "      <th>13</th>\n",
       "      <td>화장품</td>\n",
       "      <td>139628</td>\n",
       "      <td>186215</td>\n",
       "      <td>46587</td>\n",
       "      <td>41.53</td>\n",
       "      <td>55.38</td>\n",
       "      <td>9.79</td>\n",
       "    </tr>\n",
       "  </tbody>\n",
       "</table>\n",
       "</div>"
      ],
      "text/plain": [
       "              TAG  diff_1920  diff_1921  diff_2021  percent_1920  \\\n",
       "CATEGORY                                                           \n",
       "0              가전     116914     219580     102666         41.02   \n",
       "1            골프용품      13147      17284       4137         87.09   \n",
       "2         생활/사무용품     464417     689844     225427         61.16   \n",
       "3              서적      40912      61812      20900         18.72   \n",
       "4         스포츠의류용품      53349      64981      11632         54.61   \n",
       "5             식료품     421540     798901     377361         65.60   \n",
       "6            애완용품      36256      56602      20346         57.90   \n",
       "7            유아용품      29114      49501      20387         18.42   \n",
       "8            인테리어     163161     201941      38780         73.30   \n",
       "9         차량정비_부품      31501      40579       9078         51.63   \n",
       "10           취미용품      52169      73912      21743         63.88   \n",
       "11             패션     396308     570519     174211         32.51   \n",
       "12            홈쇼핑     259073     285384      26311         24.89   \n",
       "13            화장품     139628     186215      46587         41.53   \n",
       "\n",
       "          percent_1921  percent_2021  \n",
       "CATEGORY                              \n",
       "0                77.03         25.54  \n",
       "1               114.49         14.65  \n",
       "2                90.85         18.42  \n",
       "3                28.28          8.06  \n",
       "4                66.52          7.70  \n",
       "5               124.32         35.46  \n",
       "6                90.39         20.58  \n",
       "7                31.31         10.89  \n",
       "8                90.72         10.05  \n",
       "9                66.51          9.81  \n",
       "10               90.51         16.25  \n",
       "11               46.80         10.79  \n",
       "12               27.42          2.02  \n",
       "13               55.38          9.79  "
      ]
     },
     "execution_count": 214,
     "metadata": {},
     "output_type": "execute_result"
    }
   ],
   "source": [
    "CAT_19=df.loc[df['YM']==201905]['COUNT'].groupby(df['CATEGORY']).sum()\n",
    "CAT_20=df.loc[df['YM']==202005]['COUNT'].groupby(df['CATEGORY']).sum()\n",
    "CAT_21=df.loc[df['YM']==202105]['COUNT'].groupby(df['CATEGORY']).sum()\n",
    "\n",
    "diff_1920=CAT_20-CAT_19 #카테고리별 19,20년도 차이\n",
    "diff_1921=CAT_21-CAT_19 #카테고리별 19,21년도 차이\n",
    "diff_2021=CAT_21-CAT_20 #카테고리별 20,21년도 차이\n",
    "\n",
    "percent_1920=round((CAT_20-CAT_19)/CAT_19*100,2) #카테고리별 19,20년도 증감률\n",
    "percent_1921=round((CAT_21-CAT_19)/CAT_19*100,2) #카테고리별 19,21년도 증감률\n",
    "percent_2021=round((CAT_21-CAT_20)/CAT_20*100,2) #카테고리별 20,21년도 증감률\n",
    "\n",
    "# 년도별 건수차이 및 증감률 데이터프레임\n",
    "percent_change_ym=pd.DataFrame({'TAG':le.classes_.reshape(-1),\n",
    "                                'diff_1920':diff_1920,\n",
    "                                'diff_1921':diff_1921,\n",
    "                                'diff_2021':diff_2021,\n",
    "                                'percent_1920':percent_1920,\n",
    "                                'percent_1921':percent_1921,\n",
    "                                'percent_2021':percent_2021})\n",
    "percent_change_ym"
   ]
  },
  {
   "cell_type": "markdown",
   "id": "8a740a9d",
   "metadata": {},
   "source": [
    "* 카테고리,년도별 건수 차이 및 증감률을 데이터프레임으로 재구성\n",
    "* 모든 카테고리에서 거래건수가 큰 폭으로 상승함.\n",
    "* 20/21년도 온라인쇼핑 시장이 아직 커지고 있지만, 19/20년도와 비교하면 건수차이가 점차 줄고있고 성장도 더디게 될 것으로 예상."
   ]
  },
  {
   "cell_type": "code",
   "execution_count": 215,
   "id": "924f80e8",
   "metadata": {},
   "outputs": [
    {
     "data": {
      "text/plain": [
       "Text(0.5, 0, 'Percent')"
      ]
     },
     "execution_count": 215,
     "metadata": {},
     "output_type": "execute_result"
    },
    {
     "data": {
      "image/png": "[encoded data removed]",
      "text/plain": [
       "<Figure size 1800x800 with 2 Axes>"
      ]
     },
     "metadata": {},
     "output_type": "display_data"
    }
   ],
   "source": [
    "# 19/20, 19/21 증감률 시각화\n",
    "plt.figure(figsize=(18,8))\n",
    "\n",
    "plt.subplot(1,2,1)\n",
    "plt.barh(percent_change_ym['TAG'], percent_change_ym['percent_1920'])\n",
    "plt.title('percent_change_19/20', fontsize=18)\n",
    "plt.xlabel('Percent', fontsize=15)\n",
    "plt.subplot(1,2,2)\n",
    "plt.barh(percent_change_ym['TAG'], percent_change_ym['percent_1921'])\n",
    "plt.title('percent_change_19/21', fontsize=18)\n",
    "plt.xlabel('Percent', fontsize=15)"
   ]
  },
  {
   "cell_type": "markdown",
   "id": "46b0f922",
   "metadata": {},
   "source": [
    "* 19/20년도 그래프에서 골프용품>인테리어>식료품 순으로 증감률이 높았으며, 19/21년도 그래프에서는 식료품>골프용품>생활/사무용품 순으로 증감률이 높음.\n",
    "* 두 그래프에서 골프용품과 식료품의 증감률은 높은 편으로 나타남.\n",
    "* 19년도 식료품과 골프용품의 거래건수가 21년도에서 2배 이상 증가함."
   ]
  },
  {
   "cell_type": "code",
   "execution_count": 240,
   "id": "0d9491ff",
   "metadata": {},
   "outputs": [],
   "source": [
    "#1주차#"
   ]
  },
  {
   "cell_type": "markdown",
   "id": "2ec92a21",
   "metadata": {},
   "source": [
    "### - 카테고리/시간대별 거래건수 분석"
   ]
  },
  {
   "cell_type": "code",
   "execution_count": 225,
   "id": "c58d3b8f",
   "metadata": {},
   "outputs": [
    {
     "data": {
      "text/html": [
       "<div>\n",
       "<style scoped>\n",
       "    .dataframe tbody tr th:only-of-type {\n",
       "        vertical-align: middle;\n",
       "    }\n",
       "\n",
       "    .dataframe tbody tr th {\n",
       "        vertical-align: top;\n",
       "    }\n",
       "\n",
       "    .dataframe thead th {\n",
       "        text-align: right;\n",
       "    }\n",
       "</style>\n",
       "<table border=\"1\" class=\"dataframe\">\n",
       "  <thead>\n",
       "    <tr style=\"text-align: right;\">\n",
       "      <th></th>\n",
       "      <th>TAG</th>\n",
       "      <th>HOUR_0206</th>\n",
       "      <th>HOUR_0610</th>\n",
       "      <th>HOUR_1014</th>\n",
       "      <th>HOUR_1418</th>\n",
       "      <th>HOUR_1822</th>\n",
       "      <th>HOUR_2202</th>\n",
       "    </tr>\n",
       "    <tr>\n",
       "      <th>CATEGORY</th>\n",
       "      <th></th>\n",
       "      <th></th>\n",
       "      <th></th>\n",
       "      <th></th>\n",
       "      <th></th>\n",
       "      <th></th>\n",
       "      <th></th>\n",
       "    </tr>\n",
       "  </thead>\n",
       "  <tbody>\n",
       "    <tr>\n",
       "      <th>0</th>\n",
       "      <td>가전</td>\n",
       "      <td>2.46</td>\n",
       "      <td>13.55</td>\n",
       "      <td>27.15</td>\n",
       "      <td>22.41</td>\n",
       "      <td>19.25</td>\n",
       "      <td>15.18</td>\n",
       "    </tr>\n",
       "    <tr>\n",
       "      <th>1</th>\n",
       "      <td>골프용품</td>\n",
       "      <td>2.35</td>\n",
       "      <td>11.97</td>\n",
       "      <td>25.26</td>\n",
       "      <td>24.03</td>\n",
       "      <td>20.06</td>\n",
       "      <td>16.32</td>\n",
       "    </tr>\n",
       "    <tr>\n",
       "      <th>2</th>\n",
       "      <td>생활/사무용품</td>\n",
       "      <td>2.85</td>\n",
       "      <td>12.39</td>\n",
       "      <td>25.62</td>\n",
       "      <td>23.44</td>\n",
       "      <td>19.14</td>\n",
       "      <td>16.56</td>\n",
       "    </tr>\n",
       "    <tr>\n",
       "      <th>3</th>\n",
       "      <td>서적</td>\n",
       "      <td>2.39</td>\n",
       "      <td>10.63</td>\n",
       "      <td>26.09</td>\n",
       "      <td>22.76</td>\n",
       "      <td>20.68</td>\n",
       "      <td>17.45</td>\n",
       "    </tr>\n",
       "    <tr>\n",
       "      <th>4</th>\n",
       "      <td>스포츠의류용품</td>\n",
       "      <td>3.43</td>\n",
       "      <td>10.12</td>\n",
       "      <td>24.05</td>\n",
       "      <td>22.40</td>\n",
       "      <td>20.25</td>\n",
       "      <td>19.74</td>\n",
       "    </tr>\n",
       "    <tr>\n",
       "      <th>5</th>\n",
       "      <td>식료품</td>\n",
       "      <td>2.72</td>\n",
       "      <td>11.22</td>\n",
       "      <td>23.70</td>\n",
       "      <td>21.54</td>\n",
       "      <td>22.60</td>\n",
       "      <td>18.23</td>\n",
       "    </tr>\n",
       "    <tr>\n",
       "      <th>6</th>\n",
       "      <td>애완용품</td>\n",
       "      <td>3.51</td>\n",
       "      <td>11.30</td>\n",
       "      <td>23.60</td>\n",
       "      <td>21.40</td>\n",
       "      <td>21.44</td>\n",
       "      <td>18.76</td>\n",
       "    </tr>\n",
       "    <tr>\n",
       "      <th>7</th>\n",
       "      <td>유아용품</td>\n",
       "      <td>3.45</td>\n",
       "      <td>10.75</td>\n",
       "      <td>23.69</td>\n",
       "      <td>20.77</td>\n",
       "      <td>19.77</td>\n",
       "      <td>21.56</td>\n",
       "    </tr>\n",
       "    <tr>\n",
       "      <th>8</th>\n",
       "      <td>인테리어</td>\n",
       "      <td>3.20</td>\n",
       "      <td>10.39</td>\n",
       "      <td>23.70</td>\n",
       "      <td>23.73</td>\n",
       "      <td>20.70</td>\n",
       "      <td>18.29</td>\n",
       "    </tr>\n",
       "    <tr>\n",
       "      <th>9</th>\n",
       "      <td>차량정비_부품</td>\n",
       "      <td>3.00</td>\n",
       "      <td>11.35</td>\n",
       "      <td>24.04</td>\n",
       "      <td>25.02</td>\n",
       "      <td>20.20</td>\n",
       "      <td>16.38</td>\n",
       "    </tr>\n",
       "    <tr>\n",
       "      <th>10</th>\n",
       "      <td>취미용품</td>\n",
       "      <td>2.77</td>\n",
       "      <td>9.75</td>\n",
       "      <td>25.06</td>\n",
       "      <td>25.28</td>\n",
       "      <td>20.42</td>\n",
       "      <td>16.73</td>\n",
       "    </tr>\n",
       "    <tr>\n",
       "      <th>11</th>\n",
       "      <td>패션</td>\n",
       "      <td>3.40</td>\n",
       "      <td>10.05</td>\n",
       "      <td>22.50</td>\n",
       "      <td>22.29</td>\n",
       "      <td>21.48</td>\n",
       "      <td>20.29</td>\n",
       "    </tr>\n",
       "    <tr>\n",
       "      <th>12</th>\n",
       "      <td>홈쇼핑</td>\n",
       "      <td>3.12</td>\n",
       "      <td>16.77</td>\n",
       "      <td>21.41</td>\n",
       "      <td>18.75</td>\n",
       "      <td>21.52</td>\n",
       "      <td>18.43</td>\n",
       "    </tr>\n",
       "    <tr>\n",
       "      <th>13</th>\n",
       "      <td>화장품</td>\n",
       "      <td>3.15</td>\n",
       "      <td>11.93</td>\n",
       "      <td>25.04</td>\n",
       "      <td>20.81</td>\n",
       "      <td>19.79</td>\n",
       "      <td>19.28</td>\n",
       "    </tr>\n",
       "  </tbody>\n",
       "</table>\n",
       "</div>"
      ],
      "text/plain": [
       "              TAG  HOUR_0206  HOUR_0610  HOUR_1014  HOUR_1418  HOUR_1822  \\\n",
       "CATEGORY                                                                   \n",
       "0              가전       2.46      13.55      27.15      22.41      19.25   \n",
       "1            골프용품       2.35      11.97      25.26      24.03      20.06   \n",
       "2         생활/사무용품       2.85      12.39      25.62      23.44      19.14   \n",
       "3              서적       2.39      10.63      26.09      22.76      20.68   \n",
       "4         스포츠의류용품       3.43      10.12      24.05      22.40      20.25   \n",
       "5             식료품       2.72      11.22      23.70      21.54      22.60   \n",
       "6            애완용품       3.51      11.30      23.60      21.40      21.44   \n",
       "7            유아용품       3.45      10.75      23.69      20.77      19.77   \n",
       "8            인테리어       3.20      10.39      23.70      23.73      20.70   \n",
       "9         차량정비_부품       3.00      11.35      24.04      25.02      20.20   \n",
       "10           취미용품       2.77       9.75      25.06      25.28      20.42   \n",
       "11             패션       3.40      10.05      22.50      22.29      21.48   \n",
       "12            홈쇼핑       3.12      16.77      21.41      18.75      21.52   \n",
       "13            화장품       3.15      11.93      25.04      20.81      19.79   \n",
       "\n",
       "          HOUR_2202  \n",
       "CATEGORY             \n",
       "0             15.18  \n",
       "1             16.32  \n",
       "2             16.56  \n",
       "3             17.45  \n",
       "4             19.74  \n",
       "5             18.23  \n",
       "6             18.76  \n",
       "7             21.56  \n",
       "8             18.29  \n",
       "9             16.38  \n",
       "10            16.73  \n",
       "11            20.29  \n",
       "12            18.43  \n",
       "13            19.28  "
      ]
     },
     "execution_count": 225,
     "metadata": {},
     "output_type": "execute_result"
    }
   ],
   "source": [
    "# 시간대/카테고리별 분석 및 시각화\n",
    "CAT_TOT=df['COUNT'].groupby(df['CATEGORY']).sum()\n",
    "CAT_A=df.loc[df['HOUR']==0]['COUNT'].groupby(df['CATEGORY']).sum()\n",
    "CAT_B=df.loc[df['HOUR']==1]['COUNT'].groupby(df['CATEGORY']).sum()\n",
    "CAT_C=df.loc[df['HOUR']==2]['COUNT'].groupby(df['CATEGORY']).sum()\n",
    "CAT_D=df.loc[df['HOUR']==3]['COUNT'].groupby(df['CATEGORY']).sum()\n",
    "CAT_E=df.loc[df['HOUR']==4]['COUNT'].groupby(df['CATEGORY']).sum()\n",
    "CAT_F=df.loc[df['HOUR']==5]['COUNT'].groupby(df['CATEGORY']).sum()\n",
    "\n",
    "# 시간대별 증감률 데이터프레임\n",
    "percent_change_hour=pd.DataFrame({'TAG':le.classes_.reshape(-1),\n",
    "                                'HOUR_0206':round(CAT_A/CAT_TOT*100,2),\n",
    "                                'HOUR_0610':round(CAT_B/CAT_TOT*100,2),\n",
    "                                'HOUR_1014':round(CAT_C/CAT_TOT*100,2),\n",
    "                                'HOUR_1418':round(CAT_D/CAT_TOT*100,2),\n",
    "                                'HOUR_1822':round(CAT_E/CAT_TOT*100,2),\n",
    "                                'HOUR_2202':round(CAT_F/CAT_TOT*100,2)})\n",
    "percent_change_hour"
   ]
  },
  {
   "cell_type": "code",
   "execution_count": 223,
   "id": "5026c46b",
   "metadata": {},
   "outputs": [
    {
     "data": {
      "text/plain": [
       "<BarContainer object of 14 artists>"
      ]
     },
     "execution_count": 223,
     "metadata": {},
     "output_type": "execute_result"
    },
    {
     "data": {
      "image/png": "[encoded data removed]",
      "text/plain": [
       "<Figure size 1800x800 with 2 Axes>"
      ]
     },
     "metadata": {},
     "output_type": "display_data"
    }
   ],
   "source": [
    "# 각 카테고리의 시간대별 증감률 시각화(보완)\n",
    "plt.figure(figsize=(18,8))\n",
    "\n",
    "plt.subplot(1,2,1)\n",
    "plt.barh(percent_change_hour['TAG'], percent_change_hour['HOUR_0206'])\n",
    "\n",
    "\n",
    "plt.subplot(1,2,2)\n",
    "plt.barh(percent_change_hour['TAG'], percent_change_hour['HOUR_0610'])\n"
   ]
  },
  {
   "cell_type": "code",
   "execution_count": 28,
   "id": "51798ca7",
   "metadata": {},
   "outputs": [
    {
     "data": {
      "text/plain": [
       "YM            4032\n",
       "CATEGORY      4032\n",
       "HOLIDAY       4032\n",
       "DAY           4032\n",
       "HOUR          4032\n",
       "SEX           4032\n",
       "AGE           4032\n",
       "COUNT         4032\n",
       "CORONA        4032\n",
       "AMPM          4032\n",
       "GENERATION    4032\n",
       "NECESSITY     4032\n",
       "dtype: int64"
      ]
     },
     "execution_count": 28,
     "metadata": {},
     "output_type": "execute_result"
    }
   ],
   "source": [
    "# 년도별로 평일에 공휴일인 날짜가 있고 요일별로 집계가 되어 있어서 평일이면서 휴일인 데이터를 특정할수 없음.\n",
    "# 년도별로 공휴일 요일이 다르기 때문에 다음날이 평일/휴일인 날을 파악해야함.\n",
    "v=[0,1,2,3,4]\n",
    "df.loc[(df['HOLIDAY']==1)&(df['DAY'].isin(v))].count()"
   ]
  },
  {
   "cell_type": "code",
   "execution_count": 27,
   "id": "15b1a5e5",
   "metadata": {},
   "outputs": [
    {
     "data": {
      "text/plain": [
       "AGE\n",
       "20    1.116371\n",
       "30    1.676683\n",
       "40    1.864353\n",
       "50    2.867562\n",
       "60    4.829059\n",
       "Name: COUNT, dtype: float64"
      ]
     },
     "execution_count": 27,
     "metadata": {},
     "output_type": "execute_result"
    }
   ],
   "source": [
    "# 나이대별 필수/사치품 비율 시각화하기\n",
    "a=df.loc[df['NECESSITY']==0].groupby(df['AGE'])['COUNT'].sum()\n",
    "b=df.loc[df['NECESSITY']==1].groupby(df['AGE'])['COUNT'].sum()\n",
    "a/b"
   ]
  }
 ],
 "metadata": {
  "kernelspec": {
   "display_name": "Python 3 (ipykernel)",
   "language": "python",
   "name": "python3"
  },
  "language_info": {
   "codemirror_mode": {
    "name": "ipython",
    "version": 3
   },
   "file_extension": ".py",
   "mimetype": "text/x-python",
   "name": "python",
   "nbconvert_exporter": "python",
   "pygments_lexer": "ipython3",
   "version": "3.9.13"
  }
 },
 "nbformat": 4,
 "nbformat_minor": 5
}
